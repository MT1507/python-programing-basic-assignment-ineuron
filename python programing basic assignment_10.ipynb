{
 "cells": [
  {
   "cell_type": "markdown",
   "id": "9a5cf561",
   "metadata": {},
   "source": [
    "Q 1 : Write a Python program to find sum of elements in list?"
   ]
  },
  {
   "cell_type": "markdown",
   "id": "b250e382",
   "metadata": {},
   "source": [
    "ans : "
   ]
  },
  {
   "cell_type": "code",
   "execution_count": 3,
   "id": "02b72ce6",
   "metadata": {},
   "outputs": [
    {
     "data": {
      "text/plain": [
       "45"
      ]
     },
     "execution_count": 3,
     "metadata": {},
     "output_type": "execute_result"
    }
   ],
   "source": [
    "l = [1,2,3,4,5,6,7,8,9]\n",
    "sum(l)"
   ]
  },
  {
   "cell_type": "markdown",
   "id": "a18ddad1",
   "metadata": {},
   "source": [
    "OR"
   ]
  },
  {
   "cell_type": "code",
   "execution_count": 4,
   "id": "316ac21d",
   "metadata": {},
   "outputs": [
    {
     "name": "stdout",
     "output_type": "stream",
     "text": [
      "Enter value in list : 1\n",
      "Enter value in list : 2\n",
      "Enter value in list : 3\n",
      "Enter value in list : 4\n",
      "Enter value in list : 5\n",
      "Enter value in list : 6\n",
      "Enter value in list : 7\n",
      "Enter value in list : 8\n",
      "Enter value in list : 9\n",
      "Enter value in list : 10\n",
      "Enter value in list : 0\n",
      "list :  [1, 2, 3, 4, 5, 6, 7, 8, 9, 10, 0]\n",
      "sum :  55\n"
     ]
    }
   ],
   "source": [
    "l = []\n",
    "a = True\n",
    "while a:\n",
    "    b = int(input(\"Enter value in list : \"))\n",
    "    l.append(b)\n",
    "    if b == 0:\n",
    "        a = False\n",
    "print(\"list : \",l)\n",
    "print(\"sum : \",sum(l))"
   ]
  },
  {
   "cell_type": "markdown",
   "id": "6052491c",
   "metadata": {},
   "source": [
    "OR"
   ]
  },
  {
   "cell_type": "code",
   "execution_count": 5,
   "id": "c54a54e1",
   "metadata": {},
   "outputs": [
    {
     "name": "stdout",
     "output_type": "stream",
     "text": [
      "Enter value in list : 1\n",
      "Enter value in list : 2\n",
      "Enter value in list : 3\n",
      "Enter value in list : 4\n",
      "Enter value in list : 5\n",
      "Enter value in list : 0\n",
      "list :  [1, 2, 3, 4, 5, 0]\n",
      "sum =  15\n"
     ]
    }
   ],
   "source": [
    "import functools\n",
    "from functools import reduce\n",
    "\n",
    "l = []\n",
    "a = True\n",
    "while a:\n",
    "    b = int(input(\"Enter value in list : \"))\n",
    "    l.append(b)\n",
    "    if b == 0:\n",
    "        a = False\n",
    "print(\"list : \",l)\n",
    "\n",
    "a = reduce(lambda x,y:x+y ,l)\n",
    "print(\"sum = \",a)"
   ]
  },
  {
   "cell_type": "markdown",
   "id": "4a113177",
   "metadata": {},
   "source": [
    "OR"
   ]
  },
  {
   "cell_type": "code",
   "execution_count": 1,
   "id": "055a6b06",
   "metadata": {},
   "outputs": [
    {
     "name": "stdout",
     "output_type": "stream",
     "text": [
      "sum :  15\n"
     ]
    }
   ],
   "source": [
    "l = [1,2,3,4,5]\n",
    "total = 0\n",
    "for i in l:\n",
    "    total = total + i\n",
    "print(\"sum : \",total)    "
   ]
  },
  {
   "cell_type": "markdown",
   "id": "f25149f7",
   "metadata": {},
   "source": [
    "Q 2 : Write a Python program to Multiply all numbers in the list?"
   ]
  },
  {
   "cell_type": "markdown",
   "id": "2c5a31d5",
   "metadata": {},
   "source": [
    "ans :\n"
   ]
  },
  {
   "cell_type": "code",
   "execution_count": 10,
   "id": "d2393dc8",
   "metadata": {},
   "outputs": [
    {
     "name": "stdout",
     "output_type": "stream",
     "text": [
      "multiplication of numbers in list :  120\n"
     ]
    }
   ],
   "source": [
    "l = [1,2,3,4,5]\n",
    "total = 1\n",
    "for i in l:\n",
    "    total *= i\n",
    "print(\"multiplication of numbers in list : \",total)    \n",
    "    "
   ]
  },
  {
   "cell_type": "markdown",
   "id": "e04309b4",
   "metadata": {},
   "source": [
    "OR"
   ]
  },
  {
   "cell_type": "code",
   "execution_count": 15,
   "id": "cd59d8e1",
   "metadata": {},
   "outputs": [
    {
     "name": "stdout",
     "output_type": "stream",
     "text": [
      "multiplication of nubers :  120\n"
     ]
    }
   ],
   "source": [
    "l = [1,2,3,4,5]\n",
    "def multi(a,b):\n",
    "    return a * b\n",
    "A = reduce(multi,l)    \n",
    "print(\"multiplication of nubers : \",A)"
   ]
  },
  {
   "cell_type": "markdown",
   "id": "82cdc489",
   "metadata": {},
   "source": [
    "Q 3 : Write a Python program to find smallest number in a list?"
   ]
  },
  {
   "cell_type": "markdown",
   "id": "7f46df1c",
   "metadata": {},
   "source": [
    "ans : "
   ]
  },
  {
   "cell_type": "code",
   "execution_count": 56,
   "id": "c4d82389",
   "metadata": {},
   "outputs": [
    {
     "name": "stdout",
     "output_type": "stream",
     "text": [
      "1  : is minimum number of list\n"
     ]
    }
   ],
   "source": [
    "l = [1,2,3,4,5,6,7,8,9]\n",
    "a = min(l)\n",
    "print(a,\" : is minimum number of list\")"
   ]
  },
  {
   "cell_type": "markdown",
   "id": "4706ff5e",
   "metadata": {},
   "source": [
    "OR"
   ]
  },
  {
   "cell_type": "code",
   "execution_count": 57,
   "id": "f7a9e1ef",
   "metadata": {},
   "outputs": [
    {
     "name": "stdout",
     "output_type": "stream",
     "text": [
      "1  : is minimum number of list\n"
     ]
    }
   ],
   "source": [
    "import numpy\n",
    "l = [1,2,3,4,5,6,7,8,9]\n",
    "a = numpy.min(l)\n",
    "print(a,\" : is minimum number of list\")"
   ]
  },
  {
   "cell_type": "markdown",
   "id": "a88cd8f5",
   "metadata": {},
   "source": [
    "Q 4 : Write a Python program to find largest number in a list?"
   ]
  },
  {
   "cell_type": "markdown",
   "id": "a24aef82",
   "metadata": {},
   "source": [
    "ans :"
   ]
  },
  {
   "cell_type": "code",
   "execution_count": 58,
   "id": "d286826d",
   "metadata": {},
   "outputs": [
    {
     "name": "stdout",
     "output_type": "stream",
     "text": [
      "9  : is largest number of list\n"
     ]
    }
   ],
   "source": [
    "l = [1,2,3,4,5,6,7,8,9]\n",
    "a = max(l)\n",
    "print(a,\" : is largest number of list\")"
   ]
  },
  {
   "cell_type": "markdown",
   "id": "940b0da6",
   "metadata": {},
   "source": [
    "OR"
   ]
  },
  {
   "cell_type": "code",
   "execution_count": 59,
   "id": "c73afed2",
   "metadata": {},
   "outputs": [
    {
     "name": "stdout",
     "output_type": "stream",
     "text": [
      "9  : is largest number of list\n"
     ]
    }
   ],
   "source": [
    "import numpy\n",
    "l = [1,2,3,4,5,6,7,8,9]\n",
    "a = numpy.max(l)\n",
    "print(a,\" : is largest number of list\")"
   ]
  },
  {
   "cell_type": "markdown",
   "id": "808fcbf0",
   "metadata": {},
   "source": [
    "Q 5 : Write a Python program to find second largest number in a list?"
   ]
  },
  {
   "cell_type": "markdown",
   "id": "acacd654",
   "metadata": {},
   "source": [
    "ans : "
   ]
  },
  {
   "cell_type": "code",
   "execution_count": 60,
   "id": "743d4e75",
   "metadata": {},
   "outputs": [
    {
     "name": "stdout",
     "output_type": "stream",
     "text": [
      "8  : is the second largest number in the list\n"
     ]
    }
   ],
   "source": [
    "l = [1,2,3,5,3,4,5,5,6,7,8,8,9,9]\n",
    "\n",
    "l2 = list(set(l))\n",
    "l3 = sorted(l2)\n",
    "a = l3[-2]\n",
    "print(a,\" : is the second largest number in the list\")"
   ]
  },
  {
   "cell_type": "markdown",
   "id": "419c2b9d",
   "metadata": {},
   "source": [
    "Q 6 : Write a Python program to find N largest elements from a list?"
   ]
  },
  {
   "cell_type": "markdown",
   "id": "eec6d494",
   "metadata": {},
   "source": [
    "ans : "
   ]
  },
  {
   "cell_type": "code",
   "execution_count": 62,
   "id": "7f25187f",
   "metadata": {},
   "outputs": [
    {
     "name": "stdout",
     "output_type": "stream",
     "text": [
      "Enter number for how N largest elements you want : 3\n",
      "3 largest nubers are :  [7, 8, 9]\n"
     ]
    }
   ],
   "source": [
    "l = [1,2,3,5,3,4,5,5,6,7,8,8,9,9]\n",
    "l1 = sorted(list(set(l)))\n",
    "n = int(input(\"Enter number for how N largest elements you want : \"))\n",
    "print(f\"{n} largest nubers are : \",l1[- n:])"
   ]
  },
  {
   "cell_type": "markdown",
   "id": "1a0992cf",
   "metadata": {},
   "source": [
    "Q 7 : Write a Python program to print even numbers in a list?"
   ]
  },
  {
   "cell_type": "markdown",
   "id": "d28b75a6",
   "metadata": {},
   "source": [
    "ans : "
   ]
  },
  {
   "cell_type": "code",
   "execution_count": 63,
   "id": "9c577e26",
   "metadata": {},
   "outputs": [
    {
     "name": "stdout",
     "output_type": "stream",
     "text": [
      "list of even numbers : [2, 4, 6, 8]\n"
     ]
    }
   ],
   "source": [
    "l = [1,2,3,5,3,4,5,5,6,7,8,8,9,9]\n",
    "l1 = sorted(list(set(l)))\n",
    "l2 = []\n",
    "for i in l1:\n",
    "    if i % 2 == 0 :\n",
    "        l2.append(i)\n",
    "print(f\"list of even numbers : {l2}\")        "
   ]
  },
  {
   "cell_type": "markdown",
   "id": "bb5cc2ac",
   "metadata": {},
   "source": [
    "Q 8 : Write a Python program to print odd numbers in a List?"
   ]
  },
  {
   "cell_type": "markdown",
   "id": "0d6d8f53",
   "metadata": {},
   "source": [
    "ans : "
   ]
  },
  {
   "cell_type": "code",
   "execution_count": 2,
   "id": "fbcfdfdf",
   "metadata": {},
   "outputs": [
    {
     "name": "stdout",
     "output_type": "stream",
     "text": [
      "list of odd numbers : [1, 3, 5, 7, 9]\n"
     ]
    }
   ],
   "source": [
    "l = [1,2,3,5,3,4,5,5,6,7,8,8,9,9]\n",
    "l1 = sorted(list(set(l)))\n",
    "l2 = []\n",
    "for i in l1:\n",
    "    if i % 2 == 1 :\n",
    "        l2.append(i)\n",
    "print(f\"list of odd numbers : {l2}\")        "
   ]
  },
  {
   "cell_type": "markdown",
   "id": "1595c1ac",
   "metadata": {},
   "source": [
    "Q 9 : Write a Python program to Remove empty List from List?"
   ]
  },
  {
   "cell_type": "markdown",
   "id": "a2da183e",
   "metadata": {},
   "source": [
    "ans :"
   ]
  },
  {
   "cell_type": "code",
   "execution_count": 6,
   "id": "320207cb",
   "metadata": {},
   "outputs": [
    {
     "name": "stdout",
     "output_type": "stream",
     "text": [
      "new list = [5, 6, 3, 9]\n"
     ]
    }
   ],
   "source": [
    "l = [5, 6, [], 3, [], [], 9]\n",
    "l1 = []\n",
    "for i in l :\n",
    "    if i != []:\n",
    "        l1.append(i)\n",
    "print(f\"new list = {l1}\")        "
   ]
  },
  {
   "cell_type": "markdown",
   "id": "f416061e",
   "metadata": {},
   "source": [
    "Q 10 : Write a Python program to Cloning or Copying a list?"
   ]
  },
  {
   "cell_type": "markdown",
   "id": "1e14bce7",
   "metadata": {},
   "source": [
    "ans : "
   ]
  },
  {
   "cell_type": "code",
   "execution_count": 20,
   "id": "cdedf2cc",
   "metadata": {},
   "outputs": [
    {
     "name": "stdout",
     "output_type": "stream",
     "text": [
      "original list [1, 2, 3, 4, 5, 6]\n",
      "copied list [1, 2, 3, 4, 5, 6]\n"
     ]
    }
   ],
   "source": [
    "l = [1,2,3,4,5,6]\n",
    "l1 = l.copy()\n",
    "print(\"original list\",l)\n",
    "print(\"copied list\",l1)"
   ]
  },
  {
   "cell_type": "markdown",
   "id": "0b0d7606",
   "metadata": {},
   "source": [
    " Q 11 : Write a Python program to Count occurrences of an element in a list?"
   ]
  },
  {
   "cell_type": "markdown",
   "id": "9a76fb04",
   "metadata": {},
   "source": [
    "ans :"
   ]
  },
  {
   "cell_type": "code",
   "execution_count": 42,
   "id": "f6c29d46",
   "metadata": {},
   "outputs": [
    {
     "name": "stdout",
     "output_type": "stream",
     "text": [
      "enter a value to check occurrence in list  : 6\n",
      "occurrence of 6 is 3\n"
     ]
    }
   ],
   "source": [
    "#Python program to Count occurrences of one element in a list :\n",
    "\n",
    "l = [1,2,2,3,4,5,6,7,8,9,4,3,2,2,1,2,3,4,5,6,7,8,9,8,7,3,4,5,6]\n",
    "def occurence(list_1,x):\n",
    "    count = 0\n",
    "    for i in list_1:\n",
    "        if (i == x) :\n",
    "            count = count + 1\n",
    "    return count\n",
    "\n",
    "a = int(input(\"enter a value to check occurrence in list  : \"))\n",
    "A = occurence(l,a)\n",
    "print(f\"occurrence of {a} is {A}\")\n",
    "\n",
    "    "
   ]
  },
  {
   "cell_type": "code",
   "execution_count": 46,
   "id": "f7f54893",
   "metadata": {},
   "outputs": [
    {
     "name": "stdout",
     "output_type": "stream",
     "text": [
      " Dictionry of occurrences  all element in a list (element : occurrence) :\n",
      "\n",
      "{1: 2, 2: 5, 3: 4, 4: 4, 5: 3, 6: 3, 7: 3, 8: 3, 9: 2}\n"
     ]
    }
   ],
   "source": [
    "# Python program to Count occurrences of an element in a list :\n",
    "def countOccurrence(a):\n",
    "    k = {}\n",
    "    for i in a:\n",
    "        if i in k:\n",
    "            k[i] +=1\n",
    "        else:\n",
    "            k[i] =1\n",
    "    return k\n",
    "\n",
    "print(\" Dictionry of occurrences  all element in a list (element : occurrence) :\\n\")\n",
    "print(countOccurrence(l))\n"
   ]
  },
  {
   "cell_type": "code",
   "execution_count": null,
   "id": "5a6af5f9",
   "metadata": {},
   "outputs": [],
   "source": []
  }
 ],
 "metadata": {
  "kernelspec": {
   "display_name": "Python 3 (ipykernel)",
   "language": "python",
   "name": "python3"
  },
  "language_info": {
   "codemirror_mode": {
    "name": "ipython",
    "version": 3
   },
   "file_extension": ".py",
   "mimetype": "text/x-python",
   "name": "python",
   "nbconvert_exporter": "python",
   "pygments_lexer": "ipython3",
   "version": "3.9.7"
  }
 },
 "nbformat": 4,
 "nbformat_minor": 5
}
