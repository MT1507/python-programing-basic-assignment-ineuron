{
 "cells": [
  {
   "cell_type": "markdown",
   "id": "d08ab463",
   "metadata": {},
   "source": [
    "Q 1 : Write a Python program to check if the given number is a Disarium Number?\n"
   ]
  },
  {
   "cell_type": "code",
   "execution_count": 1,
   "id": "cb57f180",
   "metadata": {},
   "outputs": [
    {
     "name": "stdout",
     "output_type": "stream",
     "text": [
      "Enter a number to check : 135\n",
      "135  : Disarium Number \n"
     ]
    }
   ],
   "source": [
    "import math\n",
    "def check_no(n):\n",
    "    count_digits = len(str(n))\n",
    "    sum_no = 0\n",
    "    x = n\n",
    "    while (x != 0):\n",
    "        r = x % 10\n",
    "        sum_no = (int) (sum_no + math.pow(r,count_digits))\n",
    "        count_digits = count_digits - 1\n",
    "        x = x // 10\n",
    "    if sum_no == n :\n",
    "        return 1\n",
    "    else :\n",
    "        return 0\n",
    "n = int(input(\"Enter a number to check : \"))\n",
    "if (check_no(n) == 1):\n",
    "    print(n , \" : Disarium Number \")\n",
    "else :\n",
    "    print(n,\" : Not a Disarium Number \")\n",
    "    \n",
    "    "
   ]
  },
  {
   "cell_type": "markdown",
   "id": "99fbd784",
   "metadata": {},
   "source": [
    "Q 2 :  Write a Python program to print all disarium numbers between 1 to 100?"
   ]
  },
  {
   "cell_type": "markdown",
   "id": "93b2bc28",
   "metadata": {},
   "source": [
    "ans : "
   ]
  },
  {
   "cell_type": "code",
   "execution_count": 2,
   "id": "3e89b6e0",
   "metadata": {},
   "outputs": [
    {
     "name": "stdout",
     "output_type": "stream",
     "text": [
      "1  : Disarium Number \n",
      "2  : Disarium Number \n",
      "3  : Disarium Number \n",
      "4  : Disarium Number \n",
      "5  : Disarium Number \n",
      "6  : Disarium Number \n",
      "7  : Disarium Number \n",
      "8  : Disarium Number \n",
      "9  : Disarium Number \n",
      "89  : Disarium Number \n"
     ]
    }
   ],
   "source": [
    "import math\n",
    "def check_no(n):\n",
    "    count_digits = len(str(n))\n",
    "    sum_no = 0\n",
    "    x = n\n",
    "    while (x != 0):\n",
    "        r = x % 10\n",
    "        sum_no = (int) (sum_no + math.pow(r,count_digits))\n",
    "        count_digits = count_digits - 1\n",
    "        x = x // 10\n",
    "    if sum_no == n :\n",
    "        return 1\n",
    "    else :\n",
    "        return 0\n",
    "\n",
    "for n in range(1,101):\n",
    "    if (check_no(n) == 1):\n",
    "        print(n , \" : Disarium Number \")\n",
    "    "
   ]
  },
  {
   "cell_type": "markdown",
   "id": "179ecc5e",
   "metadata": {},
   "source": [
    "Q 3 : Write a Python program to check if the given number is Happy Number?"
   ]
  },
  {
   "cell_type": "code",
   "execution_count": 8,
   "id": "78783faa",
   "metadata": {},
   "outputs": [
    {
     "name": "stdout",
     "output_type": "stream",
     "text": [
      "Enter a number : 79\n",
      "79  : is a Happy Number \n"
     ]
    }
   ],
   "source": [
    "a = int(input(\"Enter a number : \"))\n",
    "x = a\n",
    "while x >= 10:\n",
    "    sum_sqr_digit = 0\n",
    "    while x > 0:\n",
    "        digit = x % 10\n",
    "        sum_sqr_digit += (digit**2) \n",
    "        x = x//10    \n",
    "    #print(\"sum_sqr_digit : \",sum_sqr_digit)    \n",
    "    x = sum_sqr_digit\n",
    "\n",
    "\n",
    "if x == 1 or x == 7 :\n",
    "    print(a,\" : is a Happy Number \")\n",
    "else :\n",
    "    print(a, \" : is not a Happy Number \")"
   ]
  },
  {
   "cell_type": "markdown",
   "id": "238ae7d6",
   "metadata": {},
   "source": [
    "Q 4 : Write a Python program to print all happy numbers between 1 and 100?"
   ]
  },
  {
   "cell_type": "code",
   "execution_count": 10,
   "id": "f580162e",
   "metadata": {
    "scrolled": true
   },
   "outputs": [
    {
     "name": "stdout",
     "output_type": "stream",
     "text": [
      "1  : is a Happy Number \n",
      "7  : is a Happy Number \n",
      "10  : is a Happy Number \n",
      "13  : is a Happy Number \n",
      "19  : is a Happy Number \n",
      "23  : is a Happy Number \n",
      "28  : is a Happy Number \n",
      "31  : is a Happy Number \n",
      "32  : is a Happy Number \n",
      "44  : is a Happy Number \n",
      "49  : is a Happy Number \n",
      "68  : is a Happy Number \n",
      "70  : is a Happy Number \n",
      "79  : is a Happy Number \n",
      "82  : is a Happy Number \n",
      "86  : is a Happy Number \n",
      "91  : is a Happy Number \n",
      "94  : is a Happy Number \n",
      "97  : is a Happy Number \n",
      "100  : is a Happy Number \n"
     ]
    }
   ],
   "source": [
    "def happy(a):\n",
    "    x = a\n",
    "    while x >= 10:\n",
    "        sum_sqr_digit = 0\n",
    "        while x > 0:\n",
    "            digit = x % 10\n",
    "            sum_sqr_digit += (digit**2) \n",
    "            x = x//10       \n",
    "        x = sum_sqr_digit\n",
    "\n",
    "\n",
    "    if x == 1 or x == 7 :\n",
    "        print(a,\" : is a Happy Number \")\n",
    "\n",
    "for a in range(1,100+1):\n",
    "    happy(a)\n"
   ]
  },
  {
   "cell_type": "markdown",
   "id": "e9b88c28",
   "metadata": {},
   "source": [
    "OR"
   ]
  },
  {
   "cell_type": "code",
   "execution_count": 11,
   "id": "c0c4c744",
   "metadata": {},
   "outputs": [
    {
     "name": "stdout",
     "output_type": "stream",
     "text": [
      "1  : is a Happy Number \n",
      "7  : is a Happy Number \n",
      "10  : is a Happy Number \n",
      "13  : is a Happy Number \n",
      "19  : is a Happy Number \n",
      "23  : is a Happy Number \n",
      "28  : is a Happy Number \n",
      "31  : is a Happy Number \n",
      "32  : is a Happy Number \n",
      "44  : is a Happy Number \n",
      "49  : is a Happy Number \n",
      "68  : is a Happy Number \n",
      "70  : is a Happy Number \n",
      "79  : is a Happy Number \n",
      "82  : is a Happy Number \n",
      "86  : is a Happy Number \n",
      "91  : is a Happy Number \n",
      "94  : is a Happy Number \n",
      "97  : is a Happy Number \n",
      "100  : is a Happy Number \n"
     ]
    }
   ],
   "source": [
    "for a in range(1,101):\n",
    "    x = a\n",
    "    while x >= 10:\n",
    "        sum_sqr_digit = 0\n",
    "        while x > 0:\n",
    "            digit = x % 10\n",
    "            sum_sqr_digit += (digit**2) \n",
    "            x = x//10    \n",
    "       # print(\"sum_sqr_digit : \",sum_sqr_digit)    \n",
    "        x = sum_sqr_digit\n",
    "\n",
    "\n",
    "    if x == 1 or x == 7 :\n",
    "        print(a,\" : is a Happy Number \")"
   ]
  },
  {
   "cell_type": "markdown",
   "id": "1a134a7b",
   "metadata": {},
   "source": [
    "Q 5 : Write a Python program to determine whether the given number is a Harshad Number?"
   ]
  },
  {
   "cell_type": "markdown",
   "id": "5501843c",
   "metadata": {},
   "source": [
    "ans : "
   ]
  },
  {
   "cell_type": "code",
   "execution_count": 12,
   "id": "a845adcf",
   "metadata": {},
   "outputs": [
    {
     "name": "stdout",
     "output_type": "stream",
     "text": [
      "Enter a number : 135\n",
      "135  : is a Harshad Number \n"
     ]
    }
   ],
   "source": [
    "# If a number is divisible by the sum of the digits, it is a Harshad.\n",
    "\n",
    "n = int(input(\"Enter a number : \"))\n",
    "x = n\n",
    "sum_digits = 0 \n",
    "while x > 0 :\n",
    "    r = x % 10\n",
    "    sum_digits += r\n",
    "    x = x//10\n",
    "\n",
    "if n % sum_digits == 0:\n",
    "    print(n,\" : is a Harshad Number \")\n",
    "else :\n",
    "    print(n,\" : is not a Harshad Number\")"
   ]
  },
  {
   "cell_type": "markdown",
   "id": "fefd45c4",
   "metadata": {},
   "source": [
    "Q 6 :  Write a Python program to print all pronic numbers between 1 and 100?"
   ]
  },
  {
   "cell_type": "code",
   "execution_count": 13,
   "id": "cc73356d",
   "metadata": {},
   "outputs": [
    {
     "name": "stdout",
     "output_type": "stream",
     "text": [
      "2 is a Pronic number which is the product of two consecutive integers 1 and 2\n",
      "6 is a Pronic number which is the product of two consecutive integers 2 and 3\n",
      "12 is a Pronic number which is the product of two consecutive integers 3 and 4\n",
      "20 is a Pronic number which is the product of two consecutive integers 4 and 5\n",
      "30 is a Pronic number which is the product of two consecutive integers 5 and 6\n",
      "42 is a Pronic number which is the product of two consecutive integers 6 and 7\n",
      "56 is a Pronic number which is the product of two consecutive integers 7 and 8\n",
      "72 is a Pronic number which is the product of two consecutive integers 8 and 9\n",
      "90 is a Pronic number which is the product of two consecutive integers 9 and 10\n"
     ]
    }
   ],
   "source": [
    "for n in range(1,101):\n",
    "    for i in range(1,n+1):\n",
    "        if n % i == 0:\n",
    "            if i*(i+1) == n:\n",
    "                print(f\"{n} is a Pronic number which is the product of two consecutive integers {i} and {i+1}\")\n",
    "        "
   ]
  },
  {
   "cell_type": "markdown",
   "id": "54465d2f",
   "metadata": {},
   "source": [
    "OR "
   ]
  },
  {
   "cell_type": "code",
   "execution_count": 14,
   "id": "e33c335c",
   "metadata": {},
   "outputs": [
    {
     "name": "stdout",
     "output_type": "stream",
     "text": [
      "Pronic numbers are : \n",
      "0 2 6 12 20 30 42 56 72 90 "
     ]
    }
   ],
   "source": [
    "import math\n",
    "\n",
    "def pronic(a):\n",
    "    i = 0\n",
    "    while (i <= (int) (math.sqrt(a))):\n",
    "        if ( a == i * (i + 1)):\n",
    "            return  True\n",
    "        i += 1\n",
    "    return False   \n",
    "\n",
    "print(\"Pronic numbers are : \")\n",
    "i = 0\n",
    "while (i <= 100):\n",
    "    if pronic(i):\n",
    "        print(i,end= \" \")\n",
    "    i += 1   "
   ]
  },
  {
   "cell_type": "code",
   "execution_count": null,
   "id": "2ddc4f85",
   "metadata": {},
   "outputs": [],
   "source": []
  }
 ],
 "metadata": {
  "kernelspec": {
   "display_name": "Python 3 (ipykernel)",
   "language": "python",
   "name": "python3"
  },
  "language_info": {
   "codemirror_mode": {
    "name": "ipython",
    "version": 3
   },
   "file_extension": ".py",
   "mimetype": "text/x-python",
   "name": "python",
   "nbconvert_exporter": "python",
   "pygments_lexer": "ipython3",
   "version": "3.9.7"
  }
 },
 "nbformat": 4,
 "nbformat_minor": 5
}
