{
 "cells": [
  {
   "cell_type": "markdown",
   "id": "56278dcc",
   "metadata": {},
   "source": [
    "Q 1"
   ]
  },
  {
   "cell_type": "markdown",
   "id": "1d0d2777",
   "metadata": {},
   "source": [
    "Write a Python Program to Find the Factorial of a Number?"
   ]
  },
  {
   "cell_type": "markdown",
   "id": "462ce938",
   "metadata": {},
   "source": [
    "ans :"
   ]
  },
  {
   "cell_type": "code",
   "execution_count": 14,
   "id": "8adc72ee",
   "metadata": {},
   "outputs": [
    {
     "name": "stdout",
     "output_type": "stream",
     "text": [
      "Enter a positive number : 12\n",
      "Factorial of  12  is  479001600\n"
     ]
    }
   ],
   "source": [
    "a  = int(input(\"Enter a positive number : \"))\n",
    "b = 1\n",
    "for i in range(a,0,-1):\n",
    "    b = b*i\n",
    "print(\"Factorial of \", a ,\" is \",b)    "
   ]
  },
  {
   "cell_type": "markdown",
   "id": "4009dfba",
   "metadata": {},
   "source": [
    "Q 2"
   ]
  },
  {
   "cell_type": "markdown",
   "id": "09115761",
   "metadata": {},
   "source": [
    "Write a Python Program to Display the multiplication Table?\n"
   ]
  },
  {
   "cell_type": "markdown",
   "id": "dcd447d9",
   "metadata": {},
   "source": [
    "ans :"
   ]
  },
  {
   "cell_type": "code",
   "execution_count": 15,
   "id": "1bfb6165",
   "metadata": {},
   "outputs": [
    {
     "name": "stdout",
     "output_type": "stream",
     "text": [
      "enter a number23\n",
      "23\n",
      "46\n",
      "69\n",
      "92\n",
      "115\n",
      "138\n",
      "161\n",
      "184\n",
      "207\n",
      "230\n"
     ]
    }
   ],
   "source": [
    "a = int(input(\"enter a number\"))\n",
    "for i in range(1,11):\n",
    "    print(a*i)"
   ]
  },
  {
   "cell_type": "markdown",
   "id": "11423c1b",
   "metadata": {},
   "source": [
    "Q 3"
   ]
  },
  {
   "cell_type": "markdown",
   "id": "4e30034e",
   "metadata": {},
   "source": [
    "Write a Python Program to Print the Fibonacci sequence?"
   ]
  },
  {
   "cell_type": "markdown",
   "id": "80724bca",
   "metadata": {},
   "source": [
    "ans :"
   ]
  },
  {
   "cell_type": "code",
   "execution_count": 16,
   "id": "4fab6eb8",
   "metadata": {},
   "outputs": [
    {
     "name": "stdout",
     "output_type": "stream",
     "text": [
      "enter a number : 100\n",
      "0\n",
      "1\n",
      "1\n",
      "2\n",
      "3\n",
      "5\n",
      "8\n",
      "13\n",
      "21\n",
      "34\n",
      "55\n",
      "89\n"
     ]
    }
   ],
   "source": [
    "n = int(input(\"enter a number : \"))\n",
    "a = 0 \n",
    "b = 1\n",
    "c = 0\n",
    "while (c <= n):\n",
    "    print(c)\n",
    "    a = b\n",
    "    b = c\n",
    "    c = a + b"
   ]
  },
  {
   "cell_type": "markdown",
   "id": "824100ea",
   "metadata": {},
   "source": [
    "Q 4"
   ]
  },
  {
   "cell_type": "markdown",
   "id": "d5004967",
   "metadata": {},
   "source": [
    "Write a Python Program to Check Armstrong Number?"
   ]
  },
  {
   "cell_type": "markdown",
   "id": "30497aa0",
   "metadata": {},
   "source": [
    "ans :"
   ]
  },
  {
   "cell_type": "code",
   "execution_count": 17,
   "id": "b5547b95",
   "metadata": {},
   "outputs": [
    {
     "name": "stdout",
     "output_type": "stream",
     "text": [
      "Enter a number to check : 153\n",
      "153  is a armstrong number\n"
     ]
    }
   ],
   "source": [
    "a = int(input(\"Enter a number to check : \"))\n",
    "b = a\n",
    "sum_cube = 0\n",
    "while (a > 0):\n",
    "    sum_cube = sum_cube +((a%10)**3)\n",
    "    a = a//10\n",
    "if b == sum_cube:\n",
    "    print(b,\" is a armstrong number\")\n",
    "else :\n",
    "    print(b,\" is not a armstrong number\")"
   ]
  },
  {
   "cell_type": "markdown",
   "id": "e8fee070",
   "metadata": {},
   "source": [
    "Q 5"
   ]
  },
  {
   "cell_type": "markdown",
   "id": "01af5d14",
   "metadata": {},
   "source": [
    "Write a Python Program to Find Armstrong Number in an Interval?"
   ]
  },
  {
   "cell_type": "markdown",
   "id": "a1745090",
   "metadata": {},
   "source": [
    "ans :"
   ]
  },
  {
   "cell_type": "code",
   "execution_count": 18,
   "id": "477cf081",
   "metadata": {},
   "outputs": [
    {
     "name": "stdout",
     "output_type": "stream",
     "text": [
      "Enter a lower range : 0\n",
      "Enter a upper range : 10000\n",
      "0\n",
      "1\n",
      "2\n",
      "3\n",
      "4\n",
      "5\n",
      "6\n",
      "7\n",
      "8\n",
      "9\n",
      "153\n",
      "370\n",
      "371\n",
      "407\n",
      "1634\n",
      "8208\n",
      "9474\n"
     ]
    }
   ],
   "source": [
    "a = int(input(\"Enter a lower range : \"))\n",
    "b = int(input(\"Enter a upper range : \"))\n",
    "for i in range(a,b+1):\n",
    "    order = len(str(i))\n",
    "    c = i\n",
    "    sum_cube = 0\n",
    "    while (c > 0):\n",
    "        digit = c %10\n",
    "        sum_cube = sum_cube + digit**order\n",
    "        c = c//10\n",
    "    if i == sum_cube:\n",
    "        print(i)"
   ]
  },
  {
   "cell_type": "markdown",
   "id": "36ae666f",
   "metadata": {},
   "source": [
    "Q 6 "
   ]
  },
  {
   "cell_type": "markdown",
   "id": "5cab2e15",
   "metadata": {},
   "source": [
    "Write a Python Program to Find the Sum of Natural Numbers?"
   ]
  },
  {
   "cell_type": "markdown",
   "id": "97455319",
   "metadata": {},
   "source": [
    "ans :"
   ]
  },
  {
   "cell_type": "code",
   "execution_count": 19,
   "id": "73b490ad",
   "metadata": {},
   "outputs": [
    {
     "name": "stdout",
     "output_type": "stream",
     "text": [
      "enter a natural number10\n"
     ]
    },
    {
     "data": {
      "text/plain": [
       "55.0"
      ]
     },
     "execution_count": 19,
     "metadata": {},
     "output_type": "execute_result"
    }
   ],
   "source": [
    "n = int(input(\"enter a natural number\"))\n",
    "n*(n+1)/2    "
   ]
  },
  {
   "cell_type": "markdown",
   "id": "ade83a55",
   "metadata": {},
   "source": [
    "OR Sum of Natural Numbers in an interval \n"
   ]
  },
  {
   "cell_type": "code",
   "execution_count": 20,
   "id": "e3a3024e",
   "metadata": {},
   "outputs": [
    {
     "name": "stdout",
     "output_type": "stream",
     "text": [
      "enter a lower bound : 5\n",
      "enter a upper bound : 100\n",
      "sum of all given numbers =  5040.0\n"
     ]
    }
   ],
   "source": [
    "a = int(input(\"enter a lower bound : \"))\n",
    "n = int(input(\"enter a upper bound : \"))\n",
    "sum = (n*(n+1)/2) - (a*(a+1)/2) + a\n",
    "print(\"sum of all given numbers = \",sum)"
   ]
  },
  {
   "cell_type": "code",
   "execution_count": null,
   "id": "0e284cba",
   "metadata": {},
   "outputs": [],
   "source": []
  }
 ],
 "metadata": {
  "kernelspec": {
   "display_name": "Python 3 (ipykernel)",
   "language": "python",
   "name": "python3"
  },
  "language_info": {
   "codemirror_mode": {
    "name": "ipython",
    "version": 3
   },
   "file_extension": ".py",
   "mimetype": "text/x-python",
   "name": "python",
   "nbconvert_exporter": "python",
   "pygments_lexer": "ipython3",
   "version": "3.9.7"
  }
 },
 "nbformat": 4,
 "nbformat_minor": 5
}
