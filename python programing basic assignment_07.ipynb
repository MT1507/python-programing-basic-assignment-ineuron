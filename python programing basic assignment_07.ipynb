{
 "cells": [
  {
   "cell_type": "markdown",
   "id": "f9917985",
   "metadata": {},
   "source": [
    "Q 1 : Write a Python Program to find sum of array?\n"
   ]
  },
  {
   "cell_type": "markdown",
   "id": "06b8aa7a",
   "metadata": {},
   "source": [
    "ans :"
   ]
  },
  {
   "cell_type": "code",
   "execution_count": 1,
   "id": "5b81c660",
   "metadata": {},
   "outputs": [],
   "source": [
    "import numpy as np "
   ]
  },
  {
   "cell_type": "code",
   "execution_count": 18,
   "id": "2f2a8ef3",
   "metadata": {},
   "outputs": [],
   "source": [
    "a = np.array([1,2,3,4,5,6])"
   ]
  },
  {
   "cell_type": "code",
   "execution_count": 21,
   "id": "785678bd",
   "metadata": {},
   "outputs": [
    {
     "data": {
      "text/plain": [
       "21"
      ]
     },
     "execution_count": 21,
     "metadata": {},
     "output_type": "execute_result"
    }
   ],
   "source": [
    "np.sum(a)"
   ]
  },
  {
   "cell_type": "markdown",
   "id": "21fed854",
   "metadata": {},
   "source": [
    "OR"
   ]
  },
  {
   "cell_type": "code",
   "execution_count": 22,
   "id": "14fc81b2",
   "metadata": {},
   "outputs": [
    {
     "name": "stdout",
     "output_type": "stream",
     "text": [
      "21\n"
     ]
    }
   ],
   "source": [
    "arr = [1,2,3,4,5,6]\n",
    "print(sum(arr))"
   ]
  },
  {
   "cell_type": "markdown",
   "id": "4011dd78",
   "metadata": {},
   "source": [
    "Q 2 : Write a Python Program to find largest element in an array?\n"
   ]
  },
  {
   "cell_type": "markdown",
   "id": "e294f2ae",
   "metadata": {},
   "source": [
    "ans :"
   ]
  },
  {
   "cell_type": "code",
   "execution_count": 56,
   "id": "845f601b",
   "metadata": {},
   "outputs": [
    {
     "name": "stdout",
     "output_type": "stream",
     "text": [
      "6\n"
     ]
    }
   ],
   "source": [
    "arr = [1,2,3,4,5,6]\n",
    "print(max(arr))"
   ]
  },
  {
   "cell_type": "markdown",
   "id": "9bfe85ca",
   "metadata": {},
   "source": [
    "OR"
   ]
  },
  {
   "cell_type": "code",
   "execution_count": 57,
   "id": "8f0faf3f",
   "metadata": {},
   "outputs": [
    {
     "data": {
      "text/plain": [
       "6"
      ]
     },
     "execution_count": 57,
     "metadata": {},
     "output_type": "execute_result"
    }
   ],
   "source": [
    "np.max(a)"
   ]
  },
  {
   "cell_type": "markdown",
   "id": "a09b22d9",
   "metadata": {},
   "source": [
    "Q 3 : Write a Python Program for array rotation"
   ]
  },
  {
   "cell_type": "markdown",
   "id": "b16ac56f",
   "metadata": {},
   "source": [
    "ans :"
   ]
  },
  {
   "cell_type": "code",
   "execution_count": 58,
   "id": "410d93ba",
   "metadata": {},
   "outputs": [
    {
     "name": "stdout",
     "output_type": "stream",
     "text": [
      "before array rotation :  [1, 2, 3, 4, 5, 6]\n",
      "after array rotation :  [4, 5, 6, 1, 2, 3]\n"
     ]
    }
   ],
   "source": [
    "arr = [1,2,3,4,5,6]\n",
    "b = arr.copy()\n",
    "shift = 3\n",
    "\n",
    "for i in range(0,shift):\n",
    "    temp = arr[0]\n",
    "    \n",
    "    for j in range(0,len(arr)-1):\n",
    "        arr[j] = arr[j+1]\n",
    "    arr[len(arr)-1] = temp\n",
    "l = []\n",
    "for i in range(0,len(arr)):\n",
    "    l.append(arr[i])\n",
    "print(\"before array rotation : \",b)    \n",
    "print(\"after array rotation : \",l)    \n",
    "    \n",
    "    "
   ]
  },
  {
   "cell_type": "markdown",
   "id": "92dc0167",
   "metadata": {},
   "source": [
    "Q 4 : Write a Python Program to Split the array and add the first part to the end?\n"
   ]
  },
  {
   "cell_type": "markdown",
   "id": "f701bf2a",
   "metadata": {},
   "source": [
    "ans :"
   ]
  },
  {
   "cell_type": "code",
   "execution_count": 66,
   "id": "37c758ad",
   "metadata": {},
   "outputs": [
    {
     "name": "stdout",
     "output_type": "stream",
     "text": [
      "original array  :  [1, 2, 3, 4, 5, 6]\n",
      "after adding first part to two the last  :  [2, 3, 4, 5, 6, 1]\n"
     ]
    }
   ],
   "source": [
    "arr = [1,2,3,4,5,6]\n",
    "b = arr.copy()\n",
    "shift = 1\n",
    "\n",
    "for i in range(0,shift):\n",
    "    temp = arr[0]\n",
    "    \n",
    "    for j in range(0,len(arr)-1):\n",
    "        arr[j] = arr[j+1]\n",
    "    arr[len(arr)-1] = temp\n",
    "l = []\n",
    "for i in range(0,len(arr)):\n",
    "    l.append(arr[i])\n",
    "print(\"original array  : \",b)    \n",
    "print(\"after adding first part to two the last  : \",l)    \n",
    "    \n",
    "    "
   ]
  },
  {
   "cell_type": "markdown",
   "id": "989cd136",
   "metadata": {},
   "source": [
    "Q 5 : Write a Python Program to check if given array is Monotonic?"
   ]
  },
  {
   "cell_type": "markdown",
   "id": "aaae95d1",
   "metadata": {},
   "source": [
    "ans :"
   ]
  },
  {
   "cell_type": "code",
   "execution_count": 118,
   "id": "7981ede2",
   "metadata": {},
   "outputs": [
    {
     "name": "stdout",
     "output_type": "stream",
     "text": [
      "size : 5\n",
      "value : 1\n",
      "value : 2\n",
      "value : 3\n",
      "value : 4\n",
      "value : 5\n",
      "[1, 2, 3, 4, 5] : monotonic array\n"
     ]
    }
   ],
   "source": [
    "a = []\n",
    "size = int(input(\"size : \"))\n",
    "for i in range(size):\n",
    "    val = int(input(\"value : \"))\n",
    "    a.append(val)\n",
    "n=len(a)\n",
    "if n==1:\n",
    "    print(True)\n",
    "else:\n",
    "    if all(a[i]>=a[i+1] for i in range(0,n-1)) or all(a[i]<=a[i+1] for i in range(0,n-1)):\n",
    "        print(f\"{a} : monotonic array\")\n",
    "    else:\n",
    "        print(f\"{a} :not monotonic array\")\n",
    "\n"
   ]
  },
  {
   "cell_type": "code",
   "execution_count": null,
   "id": "d9c3da5d",
   "metadata": {},
   "outputs": [],
   "source": []
  }
 ],
 "metadata": {
  "kernelspec": {
   "display_name": "Python 3 (ipykernel)",
   "language": "python",
   "name": "python3"
  },
  "language_info": {
   "codemirror_mode": {
    "name": "ipython",
    "version": 3
   },
   "file_extension": ".py",
   "mimetype": "text/x-python",
   "name": "python",
   "nbconvert_exporter": "python",
   "pygments_lexer": "ipython3",
   "version": "3.9.7"
  }
 },
 "nbformat": 4,
 "nbformat_minor": 5
}
