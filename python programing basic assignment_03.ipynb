{
 "cells": [
  {
   "cell_type": "markdown",
   "id": "8bbd6ebf",
   "metadata": {},
   "source": [
    "Q 1"
   ]
  },
  {
   "cell_type": "markdown",
   "id": "a5388986",
   "metadata": {},
   "source": [
    "Write a Python Program to Check if a Number is Positive, Negative or Zero?"
   ]
  },
  {
   "cell_type": "markdown",
   "id": "002b38d2",
   "metadata": {},
   "source": [
    "ans :\n"
   ]
  },
  {
   "cell_type": "code",
   "execution_count": 27,
   "id": "75d5115f",
   "metadata": {},
   "outputs": [
    {
     "name": "stdout",
     "output_type": "stream",
     "text": [
      "Enter a number : 23\n",
      "23.0  is a positive number \n"
     ]
    }
   ],
   "source": [
    "a = float(input(\"Enter a number : \"))\n",
    "if a > 0 :\n",
    "    print(a,\" is a positive number \")\n",
    "\n",
    "elif a < 0 :\n",
    "    print(a,\" is a negetive number\")\n",
    "    \n",
    "else :\n",
    "    print(a,\" is a zero\")"
   ]
  },
  {
   "cell_type": "markdown",
   "id": "08f66823",
   "metadata": {},
   "source": [
    "Q 2\n"
   ]
  },
  {
   "cell_type": "markdown",
   "id": "bac99f76",
   "metadata": {},
   "source": [
    "Write a Python Program to Check if a Number is Odd or Even?"
   ]
  },
  {
   "cell_type": "markdown",
   "id": "84cb9be9",
   "metadata": {},
   "source": [
    "ans :"
   ]
  },
  {
   "cell_type": "code",
   "execution_count": 28,
   "id": "682e6ae0",
   "metadata": {},
   "outputs": [
    {
     "name": "stdout",
     "output_type": "stream",
     "text": [
      "Enter a number : 23\n",
      "23.0  is a odd number\n"
     ]
    }
   ],
   "source": [
    "a = float(input(\"Enter a number : \"))\n",
    "if a %2 == 0 :\n",
    "    print(a,\" is a evan number\")\n",
    "else :\n",
    "    print(a,\" is a odd number\")"
   ]
  },
  {
   "cell_type": "markdown",
   "id": "9b1588ca",
   "metadata": {},
   "source": [
    "Q 3"
   ]
  },
  {
   "cell_type": "markdown",
   "id": "ba6179e7",
   "metadata": {},
   "source": [
    "Write a Python Program to Check Leap Year?"
   ]
  },
  {
   "cell_type": "markdown",
   "id": "501dcbcc",
   "metadata": {},
   "source": [
    "ans :"
   ]
  },
  {
   "cell_type": "code",
   "execution_count": 29,
   "id": "3512d81c",
   "metadata": {},
   "outputs": [
    {
     "name": "stdout",
     "output_type": "stream",
     "text": [
      "2422\n",
      "2422  is not leap year \n"
     ]
    }
   ],
   "source": [
    "year = int(input())\n",
    "if  (year % 4 == 0 and year % 100 != 0) or year % 400 == 0:\n",
    "    print(year, \"  is leap year\")\n",
    "else :\n",
    "    print(year,\" is not leap year \")"
   ]
  },
  {
   "cell_type": "markdown",
   "id": "3b9a82b4",
   "metadata": {},
   "source": [
    "Q 4"
   ]
  },
  {
   "cell_type": "markdown",
   "id": "723c53b2",
   "metadata": {},
   "source": [
    "Write a Python Program to Check Prime Number?"
   ]
  },
  {
   "cell_type": "markdown",
   "id": "e08cb4b5",
   "metadata": {},
   "source": [
    "ans :"
   ]
  },
  {
   "cell_type": "code",
   "execution_count": 30,
   "id": "6fde7ccb",
   "metadata": {},
   "outputs": [
    {
     "name": "stdout",
     "output_type": "stream",
     "text": [
      "23\n",
      "23  is a prime number \n"
     ]
    }
   ],
   "source": [
    "a = int(input())\n",
    "  \n",
    "if a > 1:\n",
    "    for i in range(2, int(a/2)+1):\n",
    "        if (a % i) == 0:\n",
    "            print(a,\" is not a prime number \")\n",
    "            break\n",
    "    else:\n",
    "        print(a,\" is a prime number \")\n",
    "            "
   ]
  },
  {
   "cell_type": "markdown",
   "id": "3fabe822",
   "metadata": {},
   "source": [
    "Q 5"
   ]
  },
  {
   "cell_type": "markdown",
   "id": "3d1c35eb",
   "metadata": {},
   "source": [
    "Write a Python Program to Print all Prime Numbers in an Interval of 1-10000?"
   ]
  },
  {
   "cell_type": "markdown",
   "id": "4e826174",
   "metadata": {},
   "source": [
    "ans :"
   ]
  },
  {
   "cell_type": "code",
   "execution_count": 31,
   "id": "e51494e4",
   "metadata": {},
   "outputs": [
    {
     "name": "stdout",
     "output_type": "stream",
     "text": [
      "lower range : 0\n",
      "upper range : 100\n",
      "Prime numbers between  0  and  100  are :\n",
      "2  is a prime number \n",
      "3  is a prime number \n",
      "5  is a prime number \n",
      "7  is a prime number \n",
      "11  is a prime number \n",
      "13  is a prime number \n",
      "17  is a prime number \n",
      "19  is a prime number \n",
      "23  is a prime number \n",
      "29  is a prime number \n",
      "31  is a prime number \n",
      "37  is a prime number \n",
      "41  is a prime number \n",
      "43  is a prime number \n",
      "47  is a prime number \n",
      "53  is a prime number \n",
      "59  is a prime number \n",
      "61  is a prime number \n",
      "67  is a prime number \n",
      "71  is a prime number \n",
      "73  is a prime number \n",
      "79  is a prime number \n",
      "83  is a prime number \n",
      "89  is a prime number \n",
      "97  is a prime number \n"
     ]
    }
   ],
   "source": [
    "a = int(input(\"lower range : \"))\n",
    "b = int(input(\"upper range : \"))\n",
    "print(\"Prime numbers between \", a , \" and \" ,b, \" are :\")\n",
    "\n",
    "for i in range(a,b+1):\n",
    "    if i > 1:\n",
    "        for j in range(2,i):\n",
    "            if (i % j) == 0:\n",
    "                break\n",
    "        else:\n",
    "            print(i,\" is a prime number \")\n",
    "            \n",
    "            "
   ]
  },
  {
   "cell_type": "markdown",
   "id": "791155bd",
   "metadata": {},
   "source": []
  },
  {
   "cell_type": "code",
   "execution_count": null,
   "id": "623f5f36",
   "metadata": {},
   "outputs": [],
   "source": []
  }
 ],
 "metadata": {
  "kernelspec": {
   "display_name": "Python 3 (ipykernel)",
   "language": "python",
   "name": "python3"
  },
  "language_info": {
   "codemirror_mode": {
    "name": "ipython",
    "version": 3
   },
   "file_extension": ".py",
   "mimetype": "text/x-python",
   "name": "python",
   "nbconvert_exporter": "python",
   "pygments_lexer": "ipython3",
   "version": "3.9.7"
  }
 },
 "nbformat": 4,
 "nbformat_minor": 5
}
