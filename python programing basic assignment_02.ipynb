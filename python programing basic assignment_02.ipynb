{
 "cells": [
  {
   "cell_type": "markdown",
   "id": "7d2036e0",
   "metadata": {},
   "source": [
    "Q 1"
   ]
  },
  {
   "cell_type": "markdown",
   "id": "624fa611",
   "metadata": {},
   "source": [
    "Write a Python program to convert kilometers to miles?"
   ]
  },
  {
   "cell_type": "markdown",
   "id": "3abd031f",
   "metadata": {},
   "source": [
    "ans :\n"
   ]
  },
  {
   "cell_type": "code",
   "execution_count": 9,
   "id": "6ef5eaa7",
   "metadata": {},
   "outputs": [
    {
     "name": "stdout",
     "output_type": "stream",
     "text": [
      "Enter kilometer : 1\n",
      "1.0  kimometer =  0.621371  miles\n"
     ]
    }
   ],
   "source": [
    "a = float(input(\"Enter kilometer : \"))\n",
    "b = 0.621371 * a\n",
    "print(a,\" kimometer = \",b,\" miles\")\n"
   ]
  },
  {
   "cell_type": "markdown",
   "id": "aacf45fb",
   "metadata": {},
   "source": [
    "Q 2 "
   ]
  },
  {
   "cell_type": "markdown",
   "id": "330f8f57",
   "metadata": {},
   "source": [
    "Write a Python program to convert Celsius to Fahrenheit?"
   ]
  },
  {
   "cell_type": "markdown",
   "id": "a11e09d6",
   "metadata": {},
   "source": [
    "ans :"
   ]
  },
  {
   "cell_type": "code",
   "execution_count": 10,
   "id": "cfc0e587",
   "metadata": {},
   "outputs": [
    {
     "name": "stdout",
     "output_type": "stream",
     "text": [
      "Enter temperature in Celsius : 23\n",
      "temperature in Fahrenheit =  73.4\n"
     ]
    }
   ],
   "source": [
    "c = float(input(\"Enter temperature in Celsius : \")) \n",
    "f = (9/5 * c) + 32\n",
    "print(\"temperature in Fahrenheit = \",f)\n"
   ]
  },
  {
   "cell_type": "markdown",
   "id": "60d72044",
   "metadata": {},
   "source": [
    "Q 3 "
   ]
  },
  {
   "cell_type": "markdown",
   "id": "1a9096e6",
   "metadata": {},
   "source": [
    "Write a Python program to display calendar?"
   ]
  },
  {
   "cell_type": "markdown",
   "id": "9f49bb1c",
   "metadata": {},
   "source": [
    "ans :"
   ]
  },
  {
   "cell_type": "code",
   "execution_count": 11,
   "id": "7ba7189c",
   "metadata": {},
   "outputs": [],
   "source": [
    "import calendar"
   ]
  },
  {
   "cell_type": "code",
   "execution_count": 12,
   "id": "3ce5b504",
   "metadata": {},
   "outputs": [
    {
     "name": "stdout",
     "output_type": "stream",
     "text": [
      "                                  2022\n",
      "\n",
      "      January                   February                   March\n",
      "Mo Tu We Th Fr Sa Su      Mo Tu We Th Fr Sa Su      Mo Tu We Th Fr Sa Su\n",
      "                1  2          1  2  3  4  5  6          1  2  3  4  5  6\n",
      " 3  4  5  6  7  8  9       7  8  9 10 11 12 13       7  8  9 10 11 12 13\n",
      "10 11 12 13 14 15 16      14 15 16 17 18 19 20      14 15 16 17 18 19 20\n",
      "17 18 19 20 21 22 23      21 22 23 24 25 26 27      21 22 23 24 25 26 27\n",
      "24 25 26 27 28 29 30      28                        28 29 30 31\n",
      "31\n",
      "\n",
      "       April                      May                       June\n",
      "Mo Tu We Th Fr Sa Su      Mo Tu We Th Fr Sa Su      Mo Tu We Th Fr Sa Su\n",
      "             1  2  3                         1             1  2  3  4  5\n",
      " 4  5  6  7  8  9 10       2  3  4  5  6  7  8       6  7  8  9 10 11 12\n",
      "11 12 13 14 15 16 17       9 10 11 12 13 14 15      13 14 15 16 17 18 19\n",
      "18 19 20 21 22 23 24      16 17 18 19 20 21 22      20 21 22 23 24 25 26\n",
      "25 26 27 28 29 30         23 24 25 26 27 28 29      27 28 29 30\n",
      "                          30 31\n",
      "\n",
      "        July                     August                  September\n",
      "Mo Tu We Th Fr Sa Su      Mo Tu We Th Fr Sa Su      Mo Tu We Th Fr Sa Su\n",
      "             1  2  3       1  2  3  4  5  6  7                1  2  3  4\n",
      " 4  5  6  7  8  9 10       8  9 10 11 12 13 14       5  6  7  8  9 10 11\n",
      "11 12 13 14 15 16 17      15 16 17 18 19 20 21      12 13 14 15 16 17 18\n",
      "18 19 20 21 22 23 24      22 23 24 25 26 27 28      19 20 21 22 23 24 25\n",
      "25 26 27 28 29 30 31      29 30 31                  26 27 28 29 30\n",
      "\n",
      "      October                   November                  December\n",
      "Mo Tu We Th Fr Sa Su      Mo Tu We Th Fr Sa Su      Mo Tu We Th Fr Sa Su\n",
      "                1  2          1  2  3  4  5  6                1  2  3  4\n",
      " 3  4  5  6  7  8  9       7  8  9 10 11 12 13       5  6  7  8  9 10 11\n",
      "10 11 12 13 14 15 16      14 15 16 17 18 19 20      12 13 14 15 16 17 18\n",
      "17 18 19 20 21 22 23      21 22 23 24 25 26 27      19 20 21 22 23 24 25\n",
      "24 25 26 27 28 29 30      28 29 30                  26 27 28 29 30 31\n",
      "31\n"
     ]
    }
   ],
   "source": [
    "a = calendar.calendar(2022)\n",
    "for i in a:\n",
    "    print(i,end=\"\")"
   ]
  },
  {
   "cell_type": "markdown",
   "id": "74daf3c3",
   "metadata": {},
   "source": [
    "Q 4"
   ]
  },
  {
   "cell_type": "markdown",
   "id": "3ccc6f51",
   "metadata": {},
   "source": [
    "Write a Python program to solve quadratic equation?"
   ]
  },
  {
   "cell_type": "markdown",
   "id": "effd3840",
   "metadata": {},
   "source": [
    "ans :"
   ]
  },
  {
   "cell_type": "code",
   "execution_count": 13,
   "id": "0eaf5fb4",
   "metadata": {},
   "outputs": [],
   "source": [
    "import math\n",
    "def quad_equation():\n",
    "    a = float(input(\"Enter value of a : \"))\n",
    "    b = float(input(\"Enter value of b : \"))\n",
    "    c = float(input(\"Enter value of c : \"))\n",
    "    \n",
    "    discr = b**b -4*a*c\n",
    "    sqrare_root = math.sqrt(abs(discr))\n",
    "    \n",
    "    if a == 0: \n",
    "        print(\"please Input correct quadratic equation\") \n",
    "    \n",
    "    elif discr > 0: \n",
    "        print(\" real and different roots \") \n",
    "        print((-b + sqrare_root)/(2 * a)) \n",
    "        print((-b - sqrare_root)/(2 * a)) \n",
    "      \n",
    "    elif discr == 0: \n",
    "        print(\" real and same roots\") \n",
    "        print(-b / (2 * a)) \n",
    "      \n",
    "    else:\n",
    "        print(\"Complex Roots\") \n",
    "        print(- b / (2 * a), \" + i\", sqrare_root) \n",
    "        print(- b / (2 * a), \" - i\", sqrare_root) \n",
    "\n",
    "    "
   ]
  },
  {
   "cell_type": "code",
   "execution_count": 14,
   "id": "db37fa6e",
   "metadata": {},
   "outputs": [
    {
     "name": "stdout",
     "output_type": "stream",
     "text": [
      "Enter value of a : 3\n",
      "Enter value of b : 4\n",
      "Enter value of c : 5\n",
      " real and different roots \n",
      "1.6666666666666667\n",
      "-3.0\n"
     ]
    }
   ],
   "source": [
    "quad_equation()"
   ]
  },
  {
   "cell_type": "markdown",
   "id": "662392b4",
   "metadata": {},
   "source": [
    "Q 5 "
   ]
  },
  {
   "cell_type": "markdown",
   "id": "b7726e69",
   "metadata": {},
   "source": [
    "Write a Python program to swap two variables without temp variable?"
   ]
  },
  {
   "cell_type": "markdown",
   "id": "dbc1e885",
   "metadata": {},
   "source": [
    "ans :"
   ]
  },
  {
   "cell_type": "code",
   "execution_count": 22,
   "id": "ea5a2855",
   "metadata": {},
   "outputs": [
    {
     "name": "stdout",
     "output_type": "stream",
     "text": [
      "before swapping value of a:  10\n",
      "before swapping value of b:  20\n",
      "after swapping value of a  : 20\n",
      "after swapping value of b :  10\n"
     ]
    }
   ],
   "source": [
    "a = 10\n",
    "b = 20\n",
    "print(\"before swapping value of a: \", a )\n",
    "print(\"before swapping value of b: \", b )\n",
    "a,b = b,a\n",
    "print(\"after swapping value of a  :\", a )\n",
    "print(\"after swapping value of b : \", b )"
   ]
  },
  {
   "cell_type": "code",
   "execution_count": null,
   "id": "9dba6272",
   "metadata": {},
   "outputs": [],
   "source": []
  }
 ],
 "metadata": {
  "kernelspec": {
   "display_name": "Python 3 (ipykernel)",
   "language": "python",
   "name": "python3"
  },
  "language_info": {
   "codemirror_mode": {
    "name": "ipython",
    "version": 3
   },
   "file_extension": ".py",
   "mimetype": "text/x-python",
   "name": "python",
   "nbconvert_exporter": "python",
   "pygments_lexer": "ipython3",
   "version": "3.9.7"
  }
 },
 "nbformat": 4,
 "nbformat_minor": 5
}
