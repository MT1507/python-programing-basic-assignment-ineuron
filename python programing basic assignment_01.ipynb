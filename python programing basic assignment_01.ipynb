{
 "cells": [
  {
   "cell_type": "markdown",
   "id": "455e0f52",
   "metadata": {},
   "source": [
    "Q 1"
   ]
  },
  {
   "cell_type": "markdown",
   "id": "624d87f1",
   "metadata": {},
   "source": [
    "Write a Python program to print \"Hello Python\" ?"
   ]
  },
  {
   "cell_type": "markdown",
   "id": "fd465bd4",
   "metadata": {},
   "source": [
    "ans : "
   ]
  },
  {
   "cell_type": "code",
   "execution_count": 2,
   "id": "ff3bd0ce",
   "metadata": {},
   "outputs": [
    {
     "name": "stdout",
     "output_type": "stream",
     "text": [
      "hallo python\n"
     ]
    }
   ],
   "source": [
    "print(\"hallo python\")"
   ]
  },
  {
   "cell_type": "markdown",
   "id": "3bf9f967",
   "metadata": {},
   "source": [
    "Q 2"
   ]
  },
  {
   "cell_type": "markdown",
   "id": "6fd7cea2",
   "metadata": {},
   "source": [
    "Write a Python program to do arithmetical operations addition and division.?"
   ]
  },
  {
   "cell_type": "code",
   "execution_count": 4,
   "id": "3db71852",
   "metadata": {},
   "outputs": [
    {
     "name": "stdout",
     "output_type": "stream",
     "text": [
      "11\n"
     ]
    }
   ],
   "source": [
    "print(5+6)"
   ]
  },
  {
   "cell_type": "code",
   "execution_count": 5,
   "id": "c89af4b8",
   "metadata": {},
   "outputs": [
    {
     "name": "stdout",
     "output_type": "stream",
     "text": [
      "0.8333333333333334\n"
     ]
    }
   ],
   "source": [
    "print(5/6)"
   ]
  },
  {
   "cell_type": "markdown",
   "id": "3aaff267",
   "metadata": {},
   "source": [
    "Q 3"
   ]
  },
  {
   "cell_type": "markdown",
   "id": "0dca849a",
   "metadata": {},
   "source": [
    "Write a Python program to find the area of a triangle?"
   ]
  },
  {
   "cell_type": "markdown",
   "id": "28fc50a2",
   "metadata": {},
   "source": [
    "ans:"
   ]
  },
  {
   "cell_type": "code",
   "execution_count": 7,
   "id": "6d3c54d3",
   "metadata": {},
   "outputs": [
    {
     "name": "stdout",
     "output_type": "stream",
     "text": [
      "Enter height of the triangle: 12\n",
      "Enter base of the triangle: 10\n",
      "Area of triangle =  60.0\n"
     ]
    }
   ],
   "source": [
    "h = float(input(\"Enter height of the triangle: \"))\n",
    "b = float(input(\"Enter base of the triangle: \"))\n",
    "area = 0.5 * b * h\n",
    "print(\"Area of triangle = \", area)"
   ]
  },
  {
   "cell_type": "markdown",
   "id": "651ebab0",
   "metadata": {},
   "source": [
    "Q 4"
   ]
  },
  {
   "cell_type": "markdown",
   "id": "b16f3677",
   "metadata": {},
   "source": [
    "Write a Python program to swap two variables?"
   ]
  },
  {
   "cell_type": "markdown",
   "id": "f5302a96",
   "metadata": {},
   "source": [
    "ans :"
   ]
  },
  {
   "cell_type": "code",
   "execution_count": 1,
   "id": "0b6428fd",
   "metadata": {},
   "outputs": [
    {
     "name": "stdout",
     "output_type": "stream",
     "text": [
      "value of a :  20\n",
      "value of b :  10\n"
     ]
    }
   ],
   "source": [
    "a = 10\n",
    "b= 20\n",
    "a,b = b,a\n",
    "print(\"value of a : \",a)\n",
    "print(\"value of b : \",b)"
   ]
  },
  {
   "cell_type": "markdown",
   "id": "cc7683b0",
   "metadata": {},
   "source": [
    "Q 5 "
   ]
  },
  {
   "cell_type": "markdown",
   "id": "042dc208",
   "metadata": {},
   "source": [
    "Write a Python program to generate a random number?"
   ]
  },
  {
   "cell_type": "markdown",
   "id": "7349f9df",
   "metadata": {},
   "source": [
    "ans :\n"
   ]
  },
  {
   "cell_type": "code",
   "execution_count": 2,
   "id": "81a46b80",
   "metadata": {},
   "outputs": [],
   "source": [
    "import random"
   ]
  },
  {
   "cell_type": "code",
   "execution_count": 20,
   "id": "091012c8",
   "metadata": {},
   "outputs": [
    {
     "data": {
      "text/plain": [
       "35"
      ]
     },
     "execution_count": 20,
     "metadata": {},
     "output_type": "execute_result"
    }
   ],
   "source": [
    "random.randint(0,100)"
   ]
  },
  {
   "cell_type": "code",
   "execution_count": null,
   "id": "4122aa8e",
   "metadata": {},
   "outputs": [],
   "source": []
  }
 ],
 "metadata": {
  "kernelspec": {
   "display_name": "Python 3 (ipykernel)",
   "language": "python",
   "name": "python3"
  },
  "language_info": {
   "codemirror_mode": {
    "name": "ipython",
    "version": 3
   },
   "file_extension": ".py",
   "mimetype": "text/x-python",
   "name": "python",
   "nbconvert_exporter": "python",
   "pygments_lexer": "ipython3",
   "version": "3.9.7"
  }
 },
 "nbformat": 4,
 "nbformat_minor": 5
}
