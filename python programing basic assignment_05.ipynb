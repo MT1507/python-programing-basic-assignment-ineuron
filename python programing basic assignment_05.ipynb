{
 "cells": [
  {
   "cell_type": "markdown",
   "id": "e2091556",
   "metadata": {},
   "source": [
    "Q 1"
   ]
  },
  {
   "cell_type": "markdown",
   "id": "1ccabd71",
   "metadata": {},
   "source": [
    "Write a Python Program to Find LCM?"
   ]
  },
  {
   "cell_type": "markdown",
   "id": "d588d454",
   "metadata": {},
   "source": [
    "ans :"
   ]
  },
  {
   "cell_type": "code",
   "execution_count": 2,
   "id": "07c72e0a",
   "metadata": {},
   "outputs": [
    {
     "name": "stdout",
     "output_type": "stream",
     "text": [
      "enter first num : 10\n",
      "enter second num : 20\n",
      "enter third  num : 50\n",
      "The LCM of 10 , 20 and 50 is 100 \n"
     ]
    }
   ],
   "source": [
    "a = int(input(\"enter first num : \"))\n",
    "b = int(input(\"enter second num : \"))\n",
    "c = int(input(\"enter third  num : \"))\n",
    "max_number = max(a,b,c)\n",
    "\n",
    "while True :\n",
    "    if (max_number % a == 0 and max_number % b == 0 and max_number % c == 0):\n",
    "        break\n",
    "    max_number += 1\n",
    "print(f\"The LCM of {a} , {b} and {c} is {max_number} \")    "
   ]
  },
  {
   "cell_type": "markdown",
   "id": "17ed1c7a",
   "metadata": {},
   "source": [
    "Q 2"
   ]
  },
  {
   "cell_type": "markdown",
   "id": "211da830",
   "metadata": {},
   "source": [
    "Write a Python Program to Find HCF?"
   ]
  },
  {
   "cell_type": "markdown",
   "id": "6dcce061",
   "metadata": {},
   "source": [
    "ans :"
   ]
  },
  {
   "cell_type": "code",
   "execution_count": 3,
   "id": "1ee6ad8e",
   "metadata": {},
   "outputs": [
    {
     "name": "stdout",
     "output_type": "stream",
     "text": [
      "enter first num : 60\n",
      "enter second num : 40\n",
      "enter third  num : 45\n",
      "45  minimum number : \n",
      "HCF of 60 , 40 and 45 is 5\n"
     ]
    }
   ],
   "source": [
    "a = int(input(\"enter first num : \"))\n",
    "b = int(input(\"enter second num : \"))\n",
    "c = int(input(\"enter third  num : \"))\n",
    "\n",
    "if a < b and a < c:\n",
    "    mn = a\n",
    "elif b < a and a < c:\n",
    "    mn = b\n",
    "else :\n",
    "    mn = c\n",
    "print(mn, \" minimum number : \")\n",
    "for i in range(1,mn+1):\n",
    "    if a % i == 0 and b % i == 0 and c % i == 0:\n",
    "        hcf = i\n",
    "print(f\"HCF of {a} , {b} and {c} is {hcf}\")        "
   ]
  },
  {
   "cell_type": "markdown",
   "id": "217fbca4",
   "metadata": {},
   "source": [
    "Q 3\n"
   ]
  },
  {
   "cell_type": "markdown",
   "id": "5c0ec234",
   "metadata": {},
   "source": [
    "Write a Python Program to Convert Decimal to Binary, Octal and Hexadecimal?"
   ]
  },
  {
   "cell_type": "markdown",
   "id": "bf6da736",
   "metadata": {},
   "source": [
    "ans :"
   ]
  },
  {
   "cell_type": "code",
   "execution_count": 4,
   "id": "3a58d894",
   "metadata": {},
   "outputs": [
    {
     "name": "stdout",
     "output_type": "stream",
     "text": [
      "enter number : 34\n",
      "The decimal value of  34  is : \n",
      "0b100010  in binary.\n",
      "0o42  in octal.\n",
      "0x22  in hexadecimal.\n"
     ]
    }
   ],
   "source": [
    "a = int(input(\"enter number : \"))\n",
    "\n",
    "print(\"The decimal value of \", a , \" is : \")\n",
    "print(bin(a), \" in binary.\")\n",
    "print(oct(a), \" in octal.\")\n",
    "print(hex(a), \" in hexadecimal.\")"
   ]
  },
  {
   "cell_type": "markdown",
   "id": "5face7a8",
   "metadata": {},
   "source": [
    "Q 4 "
   ]
  },
  {
   "cell_type": "markdown",
   "id": "2df63cbc",
   "metadata": {},
   "source": [
    "Write a Python Program To Find ASCII value of a character?"
   ]
  },
  {
   "cell_type": "markdown",
   "id": "69384fbf",
   "metadata": {},
   "source": [
    "ans :"
   ]
  },
  {
   "cell_type": "code",
   "execution_count": 5,
   "id": "e0a120bf",
   "metadata": {},
   "outputs": [
    {
     "name": "stdout",
     "output_type": "stream",
     "text": [
      "enter a caracter : e\n",
      "The ASCII value of ' e ' is  101\n"
     ]
    }
   ],
   "source": [
    "a = input(\"enter a caracter : \")\n",
    "\n",
    "print(f\"The ASCII value of ' \" + a + \" ' is \", ord(a))"
   ]
  },
  {
   "cell_type": "markdown",
   "id": "80c3794f",
   "metadata": {},
   "source": [
    "Q 5 "
   ]
  },
  {
   "cell_type": "markdown",
   "id": "ad41a367",
   "metadata": {},
   "source": [
    "Write a Python Program to Make a Simple Calculator with 4 basic mathematical operations?"
   ]
  },
  {
   "cell_type": "markdown",
   "id": "ee0f85a3",
   "metadata": {},
   "source": [
    "ans :"
   ]
  },
  {
   "cell_type": "code",
   "execution_count": 6,
   "id": "f815aaa3",
   "metadata": {},
   "outputs": [
    {
     "name": "stdout",
     "output_type": "stream",
     "text": [
      "Select operation.\n",
      "1.Add\n",
      "2.Subtract\n",
      "3.Multiply\n",
      "4.Divide\n",
      "Enter choice(1/2/3/4): 3\n",
      "Enter first number: 3\n",
      "Enter second number: 4\n",
      "3.0 * 4.0 = 12.0\n",
      "Let's do next calculation? (yes/no): no\n"
     ]
    }
   ],
   "source": [
    "# Program make a simple calculator\n",
    "\n",
    "def add(x, y):\n",
    "    return x + y\n",
    "\n",
    "def subtract(x, y):\n",
    "    return x - y\n",
    "\n",
    "def multiply(x, y):\n",
    "    return x * y\n",
    "\n",
    "def divide(x, y):\n",
    "    return x / y\n",
    "\n",
    "\n",
    "print(\"Select operation.\")\n",
    "print(\"1.Add\")\n",
    "print(\"2.Subtract\")\n",
    "print(\"3.Multiply\")\n",
    "print(\"4.Divide\")\n",
    "\n",
    "while True:\n",
    "    # take input from the user\n",
    "    choice = input(\"Enter choice(1/2/3/4): \")\n",
    "\n",
    "    # check if choice is one of the four options\n",
    "    if choice in ('1', '2', '3', '4'):\n",
    "        num1 = float(input(\"Enter first number: \"))\n",
    "        num2 = float(input(\"Enter second number: \"))\n",
    "\n",
    "        if choice == '1':\n",
    "            print(num1, \"+\", num2, \"=\", add(num1, num2))\n",
    "\n",
    "        elif choice == '2':\n",
    "            print(num1, \"-\", num2, \"=\", subtract(num1, num2))\n",
    "\n",
    "        elif choice == '3':\n",
    "            print(num1, \"*\", num2, \"=\", multiply(num1, num2))\n",
    "\n",
    "        elif choice == '4':\n",
    "            print(num1, \"/\", num2, \"=\", divide(num1, num2))\n",
    "        \n",
    "        # check if user wants another calculation\n",
    "        # break the while loop if answer is no\n",
    "        next_calculation = input(\"Let's do next calculation? (yes/no): \")\n",
    "        if next_calculation == \"no\":\n",
    "            break\n",
    "    \n",
    "    else:\n",
    "        print(\"Invalid Input\")"
   ]
  },
  {
   "cell_type": "code",
   "execution_count": null,
   "id": "3a3681aa",
   "metadata": {},
   "outputs": [],
   "source": []
  },
  {
   "cell_type": "code",
   "execution_count": null,
   "id": "3d0c26c4",
   "metadata": {},
   "outputs": [],
   "source": []
  }
 ],
 "metadata": {
  "kernelspec": {
   "display_name": "Python 3 (ipykernel)",
   "language": "python",
   "name": "python3"
  },
  "language_info": {
   "codemirror_mode": {
    "name": "ipython",
    "version": 3
   },
   "file_extension": ".py",
   "mimetype": "text/x-python",
   "name": "python",
   "nbconvert_exporter": "python",
   "pygments_lexer": "ipython3",
   "version": "3.9.7"
  }
 },
 "nbformat": 4,
 "nbformat_minor": 5
}
