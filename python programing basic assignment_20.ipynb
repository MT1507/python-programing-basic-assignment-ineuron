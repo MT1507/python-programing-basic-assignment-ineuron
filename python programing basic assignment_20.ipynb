{
 "cells": [
  {
   "cell_type": "markdown",
   "id": "2a9717cb",
   "metadata": {},
   "source": [
    "Question1\n",
    "- Create a function that takes a list of strings and integers, and filters out the list so that it returns a list of integers only.\n",
    "- Examples\n",
    "- filter_list([1, 2, 3, &quot;a&quot;, &quot;b&quot;, 4]) ➞ [1, 2, 3, 4]\n",
    "- filter_list([&quot;A&quot;, 0, &quot;Edabit&quot;, 1729, &quot;Python&quot;, &quot;1729&quot;]) ➞ [0, 1729]\n",
    "- filter_list([&quot;Nothing&quot;, &quot;here&quot;]) ➞ []"
   ]
  },
  {
   "cell_type": "markdown",
   "id": "63fe21da",
   "metadata": {},
   "source": [
    "ans :"
   ]
  },
  {
   "cell_type": "code",
   "execution_count": 10,
   "id": "2e66e4ec",
   "metadata": {},
   "outputs": [],
   "source": [
    "def filter_list(list_):\n",
    "    return list(filter(lambda x :type(x)==int,list_))"
   ]
  },
  {
   "cell_type": "code",
   "execution_count": 11,
   "id": "490e36a6",
   "metadata": {},
   "outputs": [
    {
     "data": {
      "text/plain": [
       "[1, 2, 3, 4]"
      ]
     },
     "execution_count": 11,
     "metadata": {},
     "output_type": "execute_result"
    }
   ],
   "source": [
    "filter_list([1, 2, 3, \"a\", \"b\", 4]) "
   ]
  },
  {
   "cell_type": "code",
   "execution_count": 12,
   "id": "a447692f",
   "metadata": {},
   "outputs": [
    {
     "data": {
      "text/plain": [
       "[0, 1729]"
      ]
     },
     "execution_count": 12,
     "metadata": {},
     "output_type": "execute_result"
    }
   ],
   "source": [
    "filter_list([\"A\", 0, \"Edabit\", 1729, \"Python\", \"1729\"])"
   ]
  },
  {
   "cell_type": "code",
   "execution_count": 13,
   "id": "5cb48dc3",
   "metadata": {},
   "outputs": [
    {
     "data": {
      "text/plain": [
       "[]"
      ]
     },
     "execution_count": 13,
     "metadata": {},
     "output_type": "execute_result"
    }
   ],
   "source": [
    "filter_list([\"Nothing\", \"here\"])"
   ]
  },
  {
   "cell_type": "markdown",
   "id": "26be3869",
   "metadata": {},
   "source": [
    "Question2\n",
    "- Given a list of numbers, create a function which returns the list but with each element&#39;s index in the list added to itself. This means you add 0 to the number at index 0, add 1 to the number at index 1, etc...\n",
    "- Examples\n",
    "- add_indexes([0, 0, 0, 0, 0]) ➞ [0, 1, 2, 3, 4]\n",
    "- add_indexes([1, 2, 3, 4, 5]) ➞ [1, 3, 5, 7, 9]\n",
    "- add_indexes([5, 4, 3, 2, 1]) ➞ [5, 5, 5, 5, 5]"
   ]
  },
  {
   "cell_type": "markdown",
   "id": "4d0ea75c",
   "metadata": {},
   "source": [
    "ans : "
   ]
  },
  {
   "cell_type": "code",
   "execution_count": 14,
   "id": "3ffdf312",
   "metadata": {},
   "outputs": [],
   "source": [
    "def add_indexes(list_):\n",
    "    l = []\n",
    "    for i in enumerate(list_):\n",
    "        l.append(i[0]+i[1])\n",
    "    return l    "
   ]
  },
  {
   "cell_type": "code",
   "execution_count": 15,
   "id": "33d848cc",
   "metadata": {},
   "outputs": [
    {
     "data": {
      "text/plain": [
       "[0, 1, 2, 3, 4]"
      ]
     },
     "execution_count": 15,
     "metadata": {},
     "output_type": "execute_result"
    }
   ],
   "source": [
    "add_indexes([0, 0, 0, 0, 0])"
   ]
  },
  {
   "cell_type": "code",
   "execution_count": 16,
   "id": "271714bc",
   "metadata": {},
   "outputs": [
    {
     "data": {
      "text/plain": [
       "[1, 3, 5, 7, 9]"
      ]
     },
     "execution_count": 16,
     "metadata": {},
     "output_type": "execute_result"
    }
   ],
   "source": [
    "add_indexes([1, 2, 3, 4, 5])"
   ]
  },
  {
   "cell_type": "code",
   "execution_count": 17,
   "id": "ea7eb6e8",
   "metadata": {},
   "outputs": [
    {
     "data": {
      "text/plain": [
       "[5, 5, 5, 5, 5]"
      ]
     },
     "execution_count": 17,
     "metadata": {},
     "output_type": "execute_result"
    }
   ],
   "source": [
    "add_indexes([5, 4, 3, 2, 1])"
   ]
  },
  {
   "cell_type": "markdown",
   "id": "ebd77d21",
   "metadata": {},
   "source": [
    "Question3\n",
    "- Create a function that takes the height and radius of a cone as arguments and returns the volume of the cone rounded to the nearest hundredth. See the resources tab for the formula.\n",
    "\n",
    "- Examples\n",
    "- cone_volume(3, 2) ➞ 12.57\n",
    "- cone_volume(15, 6) ➞ 565.49\n",
    "- cone_volume(18, 0) ➞ 0"
   ]
  },
  {
   "cell_type": "markdown",
   "id": "a19c58f6",
   "metadata": {},
   "source": [
    "ans :"
   ]
  },
  {
   "cell_type": "code",
   "execution_count": 18,
   "id": "a9c9badd",
   "metadata": {},
   "outputs": [],
   "source": [
    "import numpy as np\n",
    "def cone_volume(height,radius):\n",
    "    volume = np.round(np.pi * (radius**2)*(height/3),2)\n",
    "    return volume"
   ]
  },
  {
   "cell_type": "code",
   "execution_count": 19,
   "id": "31b76335",
   "metadata": {},
   "outputs": [
    {
     "data": {
      "text/plain": [
       "12.57"
      ]
     },
     "execution_count": 19,
     "metadata": {},
     "output_type": "execute_result"
    }
   ],
   "source": [
    "cone_volume(3,2) "
   ]
  },
  {
   "cell_type": "code",
   "execution_count": 20,
   "id": "fb477007",
   "metadata": {},
   "outputs": [
    {
     "data": {
      "text/plain": [
       "565.49"
      ]
     },
     "execution_count": 20,
     "metadata": {},
     "output_type": "execute_result"
    }
   ],
   "source": [
    "cone_volume(15, 6)"
   ]
  },
  {
   "cell_type": "code",
   "execution_count": 21,
   "id": "19c77745",
   "metadata": {},
   "outputs": [
    {
     "data": {
      "text/plain": [
       "0.0"
      ]
     },
     "execution_count": 21,
     "metadata": {},
     "output_type": "execute_result"
    }
   ],
   "source": [
    "cone_volume(18, 0)"
   ]
  },
  {
   "cell_type": "markdown",
   "id": "d273ccff",
   "metadata": {},
   "source": [
    "Question4\n",
    "- This Triangular Number Sequence is generated from a pattern of dots that form a triangle.\n",
    "- The first 5 numbers of the sequence, or dots, are:\n",
    "- 1, 3, 6, 10, 15\n",
    "- This means that the first triangle has just one dot, the second one has three dots, the third one has 6 dots and so on.\n",
    "- Write a function that gives the number of dots with its corresponding triangle number of the s sequence.\n",
    "- Examples\n",
    "- triangle(1) ➞ 1\n",
    "- triangle(6) ➞ 21\n",
    "- triangle(215) ➞ 23220"
   ]
  },
  {
   "cell_type": "markdown",
   "id": "fbf157f4",
   "metadata": {},
   "source": [
    "ans :"
   ]
  },
  {
   "cell_type": "code",
   "execution_count": 22,
   "id": "3c1ddf3a",
   "metadata": {},
   "outputs": [],
   "source": [
    "def triangle(num):\n",
    "    if num <= 1:\n",
    "        return 1\n",
    "    return (num**2) - triangle(num-1)"
   ]
  },
  {
   "cell_type": "code",
   "execution_count": 23,
   "id": "9422db5d",
   "metadata": {},
   "outputs": [
    {
     "data": {
      "text/plain": [
       "1"
      ]
     },
     "execution_count": 23,
     "metadata": {},
     "output_type": "execute_result"
    }
   ],
   "source": [
    "triangle(1)"
   ]
  },
  {
   "cell_type": "code",
   "execution_count": 24,
   "id": "9a707508",
   "metadata": {},
   "outputs": [
    {
     "data": {
      "text/plain": [
       "21"
      ]
     },
     "execution_count": 24,
     "metadata": {},
     "output_type": "execute_result"
    }
   ],
   "source": [
    "triangle(6) "
   ]
  },
  {
   "cell_type": "code",
   "execution_count": 25,
   "id": "10606e76",
   "metadata": {},
   "outputs": [
    {
     "data": {
      "text/plain": [
       "23220"
      ]
     },
     "execution_count": 25,
     "metadata": {},
     "output_type": "execute_result"
    }
   ],
   "source": [
    "triangle(215) "
   ]
  },
  {
   "cell_type": "markdown",
   "id": "dce1d8a8",
   "metadata": {},
   "source": [
    "Question5\n",
    "- Create a function that takes a list of numbers between 1 and 10 (excluding one number) and returns the missing number.\n",
    "- Examples\n",
    "- missing_num([1, 2, 3, 4, 6, 7, 8, 9, 10]) ➞ 5\n",
    "- missing_num([7, 2, 3, 6, 5, 9, 1, 4, 8]) ➞ 10\n",
    "- missing_num([10, 5, 1, 2, 4, 6, 8, 3, 9]) ➞ 7"
   ]
  },
  {
   "cell_type": "markdown",
   "id": "40751b0f",
   "metadata": {},
   "source": [
    "ans :"
   ]
  },
  {
   "cell_type": "code",
   "execution_count": 26,
   "id": "6f9dc125",
   "metadata": {},
   "outputs": [],
   "source": [
    "def missing_num(list_):\n",
    "    for i in range(1,11):\n",
    "        if i not in list_:\n",
    "            return i"
   ]
  },
  {
   "cell_type": "code",
   "execution_count": 27,
   "id": "9626a9d6",
   "metadata": {},
   "outputs": [
    {
     "data": {
      "text/plain": [
       "5"
      ]
     },
     "execution_count": 27,
     "metadata": {},
     "output_type": "execute_result"
    }
   ],
   "source": [
    "missing_num([1, 2, 3, 4, 6, 7, 8, 9, 10])"
   ]
  },
  {
   "cell_type": "code",
   "execution_count": 28,
   "id": "ce4ef7a8",
   "metadata": {},
   "outputs": [
    {
     "data": {
      "text/plain": [
       "10"
      ]
     },
     "execution_count": 28,
     "metadata": {},
     "output_type": "execute_result"
    }
   ],
   "source": [
    "missing_num([7, 2, 3, 6, 5, 9, 1, 4, 8])"
   ]
  },
  {
   "cell_type": "code",
   "execution_count": 29,
   "id": "8a4b358b",
   "metadata": {},
   "outputs": [
    {
     "data": {
      "text/plain": [
       "7"
      ]
     },
     "execution_count": 29,
     "metadata": {},
     "output_type": "execute_result"
    }
   ],
   "source": [
    "missing_num([10, 5, 1, 2, 4, 6, 8, 3, 9])"
   ]
  },
  {
   "cell_type": "code",
   "execution_count": null,
   "id": "03ec6765",
   "metadata": {},
   "outputs": [],
   "source": []
  }
 ],
 "metadata": {
  "kernelspec": {
   "display_name": "Python 3 (ipykernel)",
   "language": "python",
   "name": "python3"
  },
  "language_info": {
   "codemirror_mode": {
    "name": "ipython",
    "version": 3
   },
   "file_extension": ".py",
   "mimetype": "text/x-python",
   "name": "python",
   "nbconvert_exporter": "python",
   "pygments_lexer": "ipython3",
   "version": "3.9.12"
  }
 },
 "nbformat": 4,
 "nbformat_minor": 5
}
