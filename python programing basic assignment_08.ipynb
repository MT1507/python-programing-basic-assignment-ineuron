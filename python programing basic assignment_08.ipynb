{
 "cells": [
  {
   "cell_type": "markdown",
   "id": "62e6fd14",
   "metadata": {},
   "source": [
    "Q 1 : Write a Python Program to Add Two Matrices?\n"
   ]
  },
  {
   "cell_type": "code",
   "execution_count": 21,
   "id": "b0e97382",
   "metadata": {},
   "outputs": [
    {
     "name": "stdout",
     "output_type": "stream",
     "text": [
      "Enter a value of row : 2\n",
      "Enter a value of columns : 2\n",
      "Enter values of matrix A : \n",
      "Enter o[0][0] : 1\n",
      "Enter o[0][1] : 2\n",
      "Enter o[1][0] : 3\n",
      "Enter o[1][1] : 4\n",
      "Enter values of  matrix B : \n",
      "Enter o[0][0] : 5\n",
      "Enter o[0][1] : 6\n",
      "Enter o[1][0] : 7\n",
      "Enter o[1][1] : 8\n",
      "First Matrics : \n",
      "[1, 2]\n",
      "[3, 4]\n",
      "Second Matrics : \n",
      "[5, 6]\n",
      "[7, 8]\n",
      "addition of Two matrices : \n",
      "[6, 8]\n",
      "[10, 12]\n"
     ]
    }
   ],
   "source": [
    "def matrix(m,n):\n",
    "    o = []\n",
    "    for i in  range(m):\n",
    "        row = []\n",
    "        for j in range(n):\n",
    "            inp = int(input(f\"Enter o[{i}][{j}] : \"))\n",
    "            row.append(inp)\n",
    "        o.append(row)\n",
    "    return o\n",
    "\n",
    "def sum_AB(A,B):\n",
    "    output = []\n",
    "    for i in range(len(A)):#rows\n",
    "        row = []\n",
    "        for j in range(len(A[0])): #colunms\n",
    "            row.append(A[i][j] + B[i][j])\n",
    "        output.append(row) \n",
    "    return output\n",
    "        \n",
    "\n",
    "m = int(input(\"Enter a value of row : \"  ))\n",
    "n = int(input(\"Enter a value of columns : \"  ))\n",
    "\n",
    "print(\"Enter values of matrix A : \")\n",
    "A = matrix(m,n)\n",
    "\n",
    "print(\"Enter values of  matrix B : \")\n",
    "B = matrix(m,n)\n",
    "print(\"First Matrics : \")\n",
    "for i in A:\n",
    "    print(i)\n",
    "print(\"Second Matrics : \" )\n",
    "for i in B:\n",
    "    print(i)\n",
    "\n",
    "s = sum_AB(A,B)\n",
    "print(\"addition of Two matrices : \")\n",
    "for i in s :\n",
    "    print(i)\n"
   ]
  },
  {
   "cell_type": "markdown",
   "id": "d3b02c40",
   "metadata": {},
   "source": [
    "Q 2 : Write a Python Program to Multiply Two Matrices?"
   ]
  },
  {
   "cell_type": "markdown",
   "id": "4a9c6e0f",
   "metadata": {},
   "source": [
    "ans :"
   ]
  },
  {
   "cell_type": "code",
   "execution_count": 22,
   "id": "3b01933c",
   "metadata": {},
   "outputs": [
    {
     "name": "stdout",
     "output_type": "stream",
     "text": [
      "[32, 7]\n",
      "[10, 28]\n",
      "[15, 42]\n"
     ]
    }
   ],
   "source": [
    "A = [[1,5,7],\n",
    "    [4,0,2],\n",
    "    [6,0,3]]\n",
    "\n",
    "B = [[1,7],\n",
    "    [2,0],\n",
    "    [3,0]]\n",
    "\n",
    "C = [[0,0],\n",
    "     [0,0],\n",
    "     [0,0]]\n",
    "\n",
    "for i in range(0,len(C)):\n",
    "    for j in range(0,len(C[0])):\n",
    "        for k in range(0,len(B)):\n",
    "            C[i][j] += A[i][k] * B[k][j]\n",
    "\n",
    "for i in C:\n",
    "    print(i)"
   ]
  },
  {
   "cell_type": "markdown",
   "id": "ae499379",
   "metadata": {},
   "source": [
    "OR"
   ]
  },
  {
   "cell_type": "code",
   "execution_count": 23,
   "id": "0a62bdfa",
   "metadata": {},
   "outputs": [
    {
     "name": "stdout",
     "output_type": "stream",
     "text": [
      "Enter 1st matrics values :  \n",
      "first matrics row no. : 3\n",
      "first matrics column no. : 3\n",
      "Enter o[0][0] : 1\n",
      "Enter o[0][1] : 5\n",
      "Enter o[0][2] : 7\n",
      "Enter o[1][0] : 4\n",
      "Enter o[1][1] : 0\n",
      "Enter o[1][2] : 2\n",
      "Enter o[2][0] : 6\n",
      "Enter o[2][1] : 0\n",
      "Enter o[2][2] : 3\n",
      "Enter 2nd matrics values :  \n",
      "2nd matrics row no. : 3\n",
      "2nd matrics column no. : 2\n",
      "Enter o[0][0] : 1\n",
      "Enter o[0][1] : 7\n",
      "Enter o[1][0] : 2\n",
      "Enter o[1][1] : 0\n",
      "Enter o[2][0] : 3\n",
      "Enter o[2][1] : 0\n",
      "1st matrics : \n",
      "[1, 5, 7]\n",
      "[4, 0, 2]\n",
      "[6, 0, 3]\n",
      "2nd matrics : \n",
      "[1, 7]\n",
      "[2, 0]\n",
      "[3, 0]\n",
      "multiplication of matrices : \n",
      "[32, 7]\n",
      "[10, 28]\n",
      "[15, 42]\n"
     ]
    }
   ],
   "source": [
    "def matrix(m,n):\n",
    "    o = []\n",
    "    for i in  range(m):\n",
    "        row = []\n",
    "        for j in range(n):\n",
    "            inp = int(input(f\"Enter o[{i}][{j}] : \"))\n",
    "            row.append(inp)\n",
    "        o.append(row)\n",
    "    return o\n",
    "print(\"Enter 1st matrics values :  \")\n",
    "m = int(input(\"first matrics row no. : \"))\n",
    "n = int(input(\"first matrics column no. : \"))\n",
    "A = matrix(m,n)\n",
    "\n",
    "print(\"Enter 2nd matrics values :  \")\n",
    "p = int(input(\"2nd matrics row no. : \"))\n",
    "q = int(input(\"2nd matrics column no. : \"))\n",
    "B = matrix(p,q)\n",
    "\n",
    "C = [[0,0],[0,0],[0,0]]\n",
    "\n",
    "for i in range(0,len(C)):\n",
    "    for j in range(0,len(C[0])):\n",
    "        for k in range(0,len(B)):\n",
    "            C[i][j] += A[i][k] * B[k][j]\n",
    "print(\"1st matrics : \")\n",
    "for i in A:\n",
    "    print(i)\n",
    "print(\"2nd matrics : \")\n",
    "for i in B :\n",
    "    print(i)\n",
    "print(\"multiplication of matrices : \")\n",
    "for i in C :\n",
    "    print(i)"
   ]
  },
  {
   "cell_type": "markdown",
   "id": "f0f810ec",
   "metadata": {},
   "source": [
    "Q 3 : Write a Python Program to Transpose a Matrix?\n"
   ]
  },
  {
   "cell_type": "code",
   "execution_count": 27,
   "id": "ff5fdfe2",
   "metadata": {},
   "outputs": [
    {
     "name": "stdout",
     "output_type": "stream",
     "text": [
      "Enter 1st matrics values :  \n",
      "first matrics row no. : 3\n",
      "first matrics column no. : 2\n",
      "Enter o[0][0] : 1\n",
      "Enter o[0][1] : 2\n",
      "Enter o[1][0] : 3\n",
      "Enter o[1][1] : 4\n",
      "Enter o[2][0] : 5\n",
      "Enter o[2][1] : 6\n",
      "original matrix : \n",
      "[1, 2]\n",
      "[3, 4]\n",
      "[5, 6]\n",
      "Transpose matrix : \n",
      "[1, 3, 5]\n",
      "[2, 4, 6]\n"
     ]
    }
   ],
   "source": [
    "def matrix(m,n):\n",
    "    o = []\n",
    "    for i in  range(m):\n",
    "        row = []\n",
    "        for j in range(n):\n",
    "            inp = int(input(f\"Enter o[{i}][{j}] : \"))\n",
    "            row.append(inp)\n",
    "        o.append(row)\n",
    "    return o\n",
    "print(\"Enter 1st matrics values :  \")\n",
    "m = int(input(\"first matrics row no. : \"))\n",
    "n = int(input(\"first matrics column no. : \"))\n",
    "A = matrix(m,n)\n",
    "B = [[A[j][i] for j in range(len(A))] for i in range(len(A[0]))]\n",
    "        \n",
    "print(\"original matrix : \")\n",
    "for i in A:\n",
    "    print(i)\n",
    "print(\"Transpose matrix : \")\n",
    "for i in B:\n",
    "    print(i)"
   ]
  },
  {
   "cell_type": "markdown",
   "id": "271f56d3",
   "metadata": {},
   "source": [
    " Q 4 : Write a Python Program to Sort Words in Alphabetic Order?"
   ]
  },
  {
   "cell_type": "markdown",
   "id": "a6f2a253",
   "metadata": {},
   "source": [
    "ans :"
   ]
  },
  {
   "cell_type": "code",
   "execution_count": 28,
   "id": "79eeed59",
   "metadata": {},
   "outputs": [
    {
     "name": "stdout",
     "output_type": "stream",
     "text": [
      "Wikipedia is a free online encyclopedia, created and edited by volunteers around the world\n",
      "original list of words :\n",
      "  ['wikipedia', 'is', 'a', 'free', 'online', 'encyclopedia,', 'created', 'and', 'edited', 'by', 'volunteers', 'around', 'the', 'world']\n",
      "Alphabetically sorted list : \n",
      "  ['a', 'and', 'around', 'by', 'created', 'edited', 'encyclopedia,', 'free', 'is', 'online', 'the', 'volunteers', 'wikipedia', 'world']\n"
     ]
    }
   ],
   "source": [
    "def test():\n",
    "    mystr = input()\n",
    "    a = [a.lower() for a in mystr.split()]\n",
    "    b = sorted(a)\n",
    "    print(\"original list of words :\\n \",a)\n",
    "    print(\"Alphabetically sorted list : \\n \",b)\n",
    "A = test()"
   ]
  },
  {
   "cell_type": "markdown",
   "id": "f55088a9",
   "metadata": {},
   "source": [
    "Q 5 : Write a Python Program to Remove Punctuation From a String?"
   ]
  },
  {
   "cell_type": "markdown",
   "id": "d98d3684",
   "metadata": {},
   "source": [
    "ans : "
   ]
  },
  {
   "cell_type": "code",
   "execution_count": 29,
   "id": "f1d7d0fd",
   "metadata": {},
   "outputs": [
    {
     "name": "stdout",
     "output_type": "stream",
     "text": [
      "original string : \n",
      "Welcome???@@##$ to#$% your %$^ home $%^& again\n",
      "modified string :\n",
      " Welcome to your  home  again\n"
     ]
    }
   ],
   "source": [
    "print(\"original string : \")\n",
    "all_puncs = \"\"\"!\"#$%&'()*+,-./:;?@[\\]^_`{|}~\"\"\"\n",
    "mystr = input()\n",
    "for i in mystr.lower():\n",
    "    if i in all_puncs :\n",
    "        mystr = mystr.replace(i,'')\n",
    "print(\"modified string :\\n\", mystr)        \n",
    "    "
   ]
  },
  {
   "cell_type": "code",
   "execution_count": null,
   "id": "75eec036",
   "metadata": {},
   "outputs": [],
   "source": []
  }
 ],
 "metadata": {
  "kernelspec": {
   "display_name": "Python 3 (ipykernel)",
   "language": "python",
   "name": "python3"
  },
  "language_info": {
   "codemirror_mode": {
    "name": "ipython",
    "version": 3
   },
   "file_extension": ".py",
   "mimetype": "text/x-python",
   "name": "python",
   "nbconvert_exporter": "python",
   "pygments_lexer": "ipython3",
   "version": "3.9.7"
  }
 },
 "nbformat": 4,
 "nbformat_minor": 5
}
