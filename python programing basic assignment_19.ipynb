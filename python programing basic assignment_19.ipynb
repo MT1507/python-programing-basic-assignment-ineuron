{
 "cells": [
  {
   "cell_type": "markdown",
   "id": "6757c4e7",
   "metadata": {},
   "source": [
    "Question1\n",
    "- Create a function that takes a string and returns a string in which each character is repeated once.\n",
    "- Examples\n",
    "- double_char(&quot;String&quot;) ➞ &quot;SSttrriinngg&quot;\n",
    "- double_char(&quot;Hello World!&quot;) ➞ &quot;HHeelllloo WWoorrlldd!!&quot;\n",
    "- double_char(&quot;1234!_ &quot;) ➞ &quot;11223344!!__ &quot;"
   ]
  },
  {
   "cell_type": "markdown",
   "id": "35fd7eb5",
   "metadata": {},
   "source": [
    "ans :"
   ]
  },
  {
   "cell_type": "code",
   "execution_count": 1,
   "id": "fb5d2518",
   "metadata": {},
   "outputs": [],
   "source": [
    "def double_char(string):\n",
    "    return \"\".join([i+\"\"+i for i in string])\n",
    "    "
   ]
  },
  {
   "cell_type": "code",
   "execution_count": 2,
   "id": "719e878c",
   "metadata": {},
   "outputs": [
    {
     "data": {
      "text/plain": [
       "'SSttrriinngg'"
      ]
     },
     "execution_count": 2,
     "metadata": {},
     "output_type": "execute_result"
    }
   ],
   "source": [
    "double_char(\"String\") "
   ]
  },
  {
   "cell_type": "code",
   "execution_count": 3,
   "id": "1585656a",
   "metadata": {},
   "outputs": [
    {
     "data": {
      "text/plain": [
       "'HHeelllloo  WWoorrlldd!!'"
      ]
     },
     "execution_count": 3,
     "metadata": {},
     "output_type": "execute_result"
    }
   ],
   "source": [
    "double_char(\"Hello World!\")"
   ]
  },
  {
   "cell_type": "code",
   "execution_count": 4,
   "id": "fd1a1971",
   "metadata": {},
   "outputs": [
    {
     "data": {
      "text/plain": [
       "'11223344!!__  '"
      ]
     },
     "execution_count": 4,
     "metadata": {},
     "output_type": "execute_result"
    }
   ],
   "source": [
    "double_char(\"1234!_ \") "
   ]
  },
  {
   "cell_type": "markdown",
   "id": "494f6e5b",
   "metadata": {},
   "source": [
    "Question2\n",
    "- Create a function that reverses a boolean value and returns the string &quot;boolean expected&quot;if another variable type is given.\n",
    "- Examples\n",
    "- reverse(True) ➞ False\n",
    "- reverse(False) ➞ True\n",
    "- reverse(0) ➞ &quot;boolean expected&quot;\n",
    "- reverse(None) ➞ &quot;boolean expected&quot;"
   ]
  },
  {
   "cell_type": "markdown",
   "id": "ee6b59f1",
   "metadata": {},
   "source": [
    "ans :"
   ]
  },
  {
   "cell_type": "code",
   "execution_count": 5,
   "id": "c34ee8d7",
   "metadata": {},
   "outputs": [],
   "source": [
    "def reverse(arg):\n",
    "    return not arg if type(arg) == bool else \"boolean expected\""
   ]
  },
  {
   "cell_type": "code",
   "execution_count": 6,
   "id": "e203371d",
   "metadata": {},
   "outputs": [
    {
     "data": {
      "text/plain": [
       "False"
      ]
     },
     "execution_count": 6,
     "metadata": {},
     "output_type": "execute_result"
    }
   ],
   "source": [
    "reverse(True)"
   ]
  },
  {
   "cell_type": "code",
   "execution_count": 7,
   "id": "b72e8258",
   "metadata": {},
   "outputs": [
    {
     "data": {
      "text/plain": [
       "True"
      ]
     },
     "execution_count": 7,
     "metadata": {},
     "output_type": "execute_result"
    }
   ],
   "source": [
    "reverse(False) "
   ]
  },
  {
   "cell_type": "code",
   "execution_count": 8,
   "id": "1a5700d3",
   "metadata": {},
   "outputs": [
    {
     "data": {
      "text/plain": [
       "'boolean expected'"
      ]
     },
     "execution_count": 8,
     "metadata": {},
     "output_type": "execute_result"
    }
   ],
   "source": [
    "reverse(0)"
   ]
  },
  {
   "cell_type": "code",
   "execution_count": 9,
   "id": "b698da81",
   "metadata": {},
   "outputs": [
    {
     "data": {
      "text/plain": [
       "'boolean expected'"
      ]
     },
     "execution_count": 9,
     "metadata": {},
     "output_type": "execute_result"
    }
   ],
   "source": [
    "reverse(None) "
   ]
  },
  {
   "cell_type": "markdown",
   "id": "a938ec43",
   "metadata": {},
   "source": [
    "Question3\n",
    "- Create a function that returns the thickness (in meters) of a piece of paper after folding it n number of times. The paper starts off with a thickness of 0.5mm.\n",
    "- Examples\n",
    "- num_layers(1) ➞ &quot;0.001m&quot;\n",
    "- Paper folded once is 1mm (equal to 0.001m)\n",
    "- num_layers(4) ➞ &quot;0.008m&quot;\n",
    "- Paper folded 4 times is 8mm (equal to 0.008m)\n",
    "- num_layers(21) ➞ &quot;1048.576m&quot;\n",
    "- Paper folded 21 times is 1048576mm (equal to 1048.576m)"
   ]
  },
  {
   "cell_type": "markdown",
   "id": "1999fb96",
   "metadata": {},
   "source": [
    "ans :"
   ]
  },
  {
   "cell_type": "code",
   "execution_count": 10,
   "id": "e2858d48",
   "metadata": {},
   "outputs": [
    {
     "name": "stdout",
     "output_type": "stream",
     "text": [
      "0.001m\n",
      "0.008m\n",
      "1048.576m\n"
     ]
    }
   ],
   "source": [
    "def num_layers(n):\n",
    "    thickness = 0.5\n",
    "    for _ in range(n):\n",
    "        thickness *= 2\n",
    "    \n",
    "    return str(thickness / 1000)+'m' # for meters\n",
    "\n",
    "print(num_layers(1))\n",
    "print(num_layers(4))\n",
    "print(num_layers(21))"
   ]
  },
  {
   "cell_type": "markdown",
   "id": "0bd013a1",
   "metadata": {},
   "source": [
    "Question4\n",
    "\n",
    "- Create a function that takes a single string as argument and returns an ordered list containing the indices of all capital letters in the string.\n",
    "- Examples\n",
    "- index_of_caps(&quot;eDaBiT&quot;) ➞ [1, 3, 5]\n",
    "- index_of_caps(&quot;eQuINoX&quot;) ➞ [1, 3, 4, 6]\n",
    "- index_of_caps(&quot;determine&quot;) ➞ []\n",
    "- index_of_caps(&quot;STRIKE&quot;) ➞ [0, 1, 2, 3, 4, 5]\n",
    "- index_of_caps(&quot;sUn&quot;) ➞ [1]"
   ]
  },
  {
   "cell_type": "markdown",
   "id": "3264e57b",
   "metadata": {},
   "source": [
    "ans :\n"
   ]
  },
  {
   "cell_type": "code",
   "execution_count": 11,
   "id": "b463e891",
   "metadata": {},
   "outputs": [],
   "source": [
    "def index_of_caps(string):\n",
    "    l = []\n",
    "    for i in string:\n",
    "        if i.isupper():\n",
    "            l.append(string.index(i))\n",
    "    return l"
   ]
  },
  {
   "cell_type": "code",
   "execution_count": 12,
   "id": "c79e0988",
   "metadata": {},
   "outputs": [
    {
     "data": {
      "text/plain": [
       "[1, 3, 5]"
      ]
     },
     "execution_count": 12,
     "metadata": {},
     "output_type": "execute_result"
    }
   ],
   "source": [
    "index_of_caps(\"eDaBiT\")"
   ]
  },
  {
   "cell_type": "code",
   "execution_count": 13,
   "id": "8ddee28d",
   "metadata": {},
   "outputs": [
    {
     "data": {
      "text/plain": [
       "[1, 3, 4, 6]"
      ]
     },
     "execution_count": 13,
     "metadata": {},
     "output_type": "execute_result"
    }
   ],
   "source": [
    "index_of_caps(\"eQuINoX\")"
   ]
  },
  {
   "cell_type": "code",
   "execution_count": 14,
   "id": "1732c429",
   "metadata": {},
   "outputs": [
    {
     "data": {
      "text/plain": [
       "[]"
      ]
     },
     "execution_count": 14,
     "metadata": {},
     "output_type": "execute_result"
    }
   ],
   "source": [
    "index_of_caps(\"determine\")"
   ]
  },
  {
   "cell_type": "code",
   "execution_count": 15,
   "id": "ec3b615c",
   "metadata": {},
   "outputs": [
    {
     "data": {
      "text/plain": [
       "[0, 1, 2, 3, 4, 5]"
      ]
     },
     "execution_count": 15,
     "metadata": {},
     "output_type": "execute_result"
    }
   ],
   "source": [
    "index_of_caps(\"STRIKE\")"
   ]
  },
  {
   "cell_type": "code",
   "execution_count": 16,
   "id": "25f99b32",
   "metadata": {},
   "outputs": [
    {
     "data": {
      "text/plain": [
       "[1]"
      ]
     },
     "execution_count": 16,
     "metadata": {},
     "output_type": "execute_result"
    }
   ],
   "source": [
    "index_of_caps(\"sUn\")"
   ]
  },
  {
   "cell_type": "markdown",
   "id": "aac85875",
   "metadata": {},
   "source": [
    "Question5\n",
    "- Using list comprehensions, create a function that finds all even numbers from 1 to the given number.\n",
    "- Examples\n",
    "- find_even_nums(8) ➞ [2, 4, 6, 8]\n",
    "- find_even_nums(4) ➞ [2, 4]\n",
    "- find_even_nums(2) ➞ [2]"
   ]
  },
  {
   "cell_type": "markdown",
   "id": "793ef502",
   "metadata": {},
   "source": [
    "ans :"
   ]
  },
  {
   "cell_type": "code",
   "execution_count": 17,
   "id": "cb8a0735",
   "metadata": {},
   "outputs": [],
   "source": [
    "def find_even_nums(num):\n",
    "    return [i for i in range(1,num+1) if i%2 ==0]"
   ]
  },
  {
   "cell_type": "code",
   "execution_count": 18,
   "id": "ac306cdb",
   "metadata": {},
   "outputs": [
    {
     "data": {
      "text/plain": [
       "[2, 4, 6, 8]"
      ]
     },
     "execution_count": 18,
     "metadata": {},
     "output_type": "execute_result"
    }
   ],
   "source": [
    "find_even_nums(8) "
   ]
  },
  {
   "cell_type": "code",
   "execution_count": 19,
   "id": "8e75bf15",
   "metadata": {},
   "outputs": [
    {
     "data": {
      "text/plain": [
       "[2, 4]"
      ]
     },
     "execution_count": 19,
     "metadata": {},
     "output_type": "execute_result"
    }
   ],
   "source": [
    "find_even_nums(4)"
   ]
  },
  {
   "cell_type": "code",
   "execution_count": 20,
   "id": "60b60b24",
   "metadata": {},
   "outputs": [
    {
     "data": {
      "text/plain": [
       "[2]"
      ]
     },
     "execution_count": 20,
     "metadata": {},
     "output_type": "execute_result"
    }
   ],
   "source": [
    "find_even_nums(2) "
   ]
  },
  {
   "cell_type": "code",
   "execution_count": null,
   "id": "8131a4e6",
   "metadata": {},
   "outputs": [],
   "source": []
  }
 ],
 "metadata": {
  "kernelspec": {
   "display_name": "Python 3 (ipykernel)",
   "language": "python",
   "name": "python3"
  },
  "language_info": {
   "codemirror_mode": {
    "name": "ipython",
    "version": 3
   },
   "file_extension": ".py",
   "mimetype": "text/x-python",
   "name": "python",
   "nbconvert_exporter": "python",
   "pygments_lexer": "ipython3",
   "version": "3.9.12"
  }
 },
 "nbformat": 4,
 "nbformat_minor": 5
}
