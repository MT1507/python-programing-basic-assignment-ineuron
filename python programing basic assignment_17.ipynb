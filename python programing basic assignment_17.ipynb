{
 "cells": [
  {
   "cell_type": "markdown",
   "id": "7a3f8df7",
   "metadata": {},
   "source": [
    "Question1. \n",
    "- Create a function that takes three arguments a, b, c and returns the sum of the numbers that are - evenly divided by c from the range a, b inclusive.\n",
    "- Examples\n",
    "- evenly_divisible(1, 10, 20) ➞ 0\n",
    "- No number between 1 and 10 can be evenly divided by 20.\n",
    "- evenly_divisible(1, 10, 2) ➞ 30\n",
    "- 2 + 4 + 6 + 8 + 10 = 30\n",
    "- evenly_divisible(1, 10, 3) ➞ 18\n",
    "- 3 + 6 + 9 = 18"
   ]
  },
  {
   "cell_type": "markdown",
   "id": "fad56779",
   "metadata": {},
   "source": [
    "ans : "
   ]
  },
  {
   "cell_type": "code",
   "execution_count": 25,
   "id": "c7507df8",
   "metadata": {},
   "outputs": [],
   "source": [
    "def evenly_divisible(a,b,c):\n",
    "    n = 0\n",
    "    if c in range(a,b+1):\n",
    "        for i in range(a,b+1):\n",
    "            if i%c == 0:\n",
    "                n +=i\n",
    "    else :\n",
    "        return f\"No number between {a} and {b} can be evenly divided by {c}\"\n",
    "\n",
    "    return n            "
   ]
  },
  {
   "cell_type": "code",
   "execution_count": 26,
   "id": "d69ad767",
   "metadata": {},
   "outputs": [
    {
     "data": {
      "text/plain": [
       "'No number between 1 and 10 can be evenly divided by 20'"
      ]
     },
     "execution_count": 26,
     "metadata": {},
     "output_type": "execute_result"
    }
   ],
   "source": [
    "evenly_divisible(1,10,20)"
   ]
  },
  {
   "cell_type": "code",
   "execution_count": 27,
   "id": "fca92cd1",
   "metadata": {},
   "outputs": [
    {
     "data": {
      "text/plain": [
       "30"
      ]
     },
     "execution_count": 27,
     "metadata": {},
     "output_type": "execute_result"
    }
   ],
   "source": [
    "evenly_divisible(1,10,2)"
   ]
  },
  {
   "cell_type": "code",
   "execution_count": 28,
   "id": "0825fc94",
   "metadata": {},
   "outputs": [
    {
     "data": {
      "text/plain": [
       "18"
      ]
     },
     "execution_count": 28,
     "metadata": {},
     "output_type": "execute_result"
    }
   ],
   "source": [
    "evenly_divisible(1,10,3)"
   ]
  },
  {
   "cell_type": "markdown",
   "id": "df9d81d5",
   "metadata": {},
   "source": [
    "Question2. \n",
    "- Create a function that returns True if a given inequality expression is correct and False -otherwise.\n",
    "- Examples\n",
    "- correct_signs(&quot;3 &lt; 7 &lt; 11&quot;) ➞ True\n",
    "- correct_signs(&quot;13 &gt; 44 &gt; 33 &gt; 1&quot;) ➞ False\n",
    "- correct_signs(&quot;1 &lt; 2 &lt; 6 &lt; 9 &gt; 3&quot;) ➞ True"
   ]
  },
  {
   "cell_type": "markdown",
   "id": "d1cfc617",
   "metadata": {},
   "source": [
    "ans : "
   ]
  },
  {
   "cell_type": "code",
   "execution_count": 29,
   "id": "34af4c2a",
   "metadata": {},
   "outputs": [],
   "source": [
    "def correct_signs(inequal):\n",
    "    print(eval(inequal))"
   ]
  },
  {
   "cell_type": "code",
   "execution_count": 30,
   "id": "5ce53cc2",
   "metadata": {},
   "outputs": [
    {
     "name": "stdout",
     "output_type": "stream",
     "text": [
      "True\n"
     ]
    }
   ],
   "source": [
    "correct_signs(\"3 < 7 < 11\")"
   ]
  },
  {
   "cell_type": "code",
   "execution_count": 31,
   "id": "7e534e2c",
   "metadata": {},
   "outputs": [
    {
     "name": "stdout",
     "output_type": "stream",
     "text": [
      "False\n"
     ]
    }
   ],
   "source": [
    "correct_signs(\"13 > 44 > 33 > 1\")"
   ]
  },
  {
   "cell_type": "code",
   "execution_count": 32,
   "id": "b8855dec",
   "metadata": {},
   "outputs": [
    {
     "name": "stdout",
     "output_type": "stream",
     "text": [
      "True\n"
     ]
    }
   ],
   "source": [
    "correct_signs(\"1 < 2 < 6 < 9 > 3\")"
   ]
  },
  {
   "cell_type": "markdown",
   "id": "d357a8d8",
   "metadata": {},
   "source": [
    "Question3. \n",
    "- Create a function that replaces all the vowels in a string with a specified character.\n",
    "- Examples\n",
    "- replace_vowels(&quot;the aardvark&quot;, &quot;#&quot;) ➞ &quot;th# ##rdv#rk&quot;\n",
    "- replace_vowels(&quot;minnie mouse&quot;, &quot;?&quot;) ➞ &quot;m?nn?? m??s?&quot;\n",
    "- replace_vowels(&quot;shakespeare&quot;, &quot;*&quot;) ➞ &quot;sh * k * sp**r*&quot;"
   ]
  },
  {
   "cell_type": "markdown",
   "id": "f85bca92",
   "metadata": {},
   "source": [
    "ans :"
   ]
  },
  {
   "cell_type": "code",
   "execution_count": 33,
   "id": "70efa6af",
   "metadata": {},
   "outputs": [],
   "source": [
    "def replace_vowels(string,special_charecter):\n",
    "    l = [\"a\",\"e\",\"i\",\"o\",\"u\"]\n",
    "    for i in string:\n",
    "        if i in l:\n",
    "            string = string.replace(i,special_charecter)\n",
    "    return string        "
   ]
  },
  {
   "cell_type": "code",
   "execution_count": 34,
   "id": "c60e06ef",
   "metadata": {},
   "outputs": [
    {
     "data": {
      "text/plain": [
       "'th# ##rdv#rk'"
      ]
     },
     "execution_count": 34,
     "metadata": {},
     "output_type": "execute_result"
    }
   ],
   "source": [
    "replace_vowels(\"the aardvark\", \"#\")"
   ]
  },
  {
   "cell_type": "code",
   "execution_count": 35,
   "id": "0c21d43d",
   "metadata": {},
   "outputs": [
    {
     "data": {
      "text/plain": [
       "'m?nn?? m??s?'"
      ]
     },
     "execution_count": 35,
     "metadata": {},
     "output_type": "execute_result"
    }
   ],
   "source": [
    "replace_vowels(\"minnie mouse\", \"?\")"
   ]
  },
  {
   "cell_type": "code",
   "execution_count": 36,
   "id": "855d0d06",
   "metadata": {},
   "outputs": [
    {
     "data": {
      "text/plain": [
       "'sh*k*sp**r*'"
      ]
     },
     "execution_count": 36,
     "metadata": {},
     "output_type": "execute_result"
    }
   ],
   "source": [
    "replace_vowels(\"shakespeare\", \"*\")"
   ]
  },
  {
   "cell_type": "markdown",
   "id": "e7f950d3",
   "metadata": {},
   "source": [
    "Question4. \n",
    "- Write a function that calculates the factorial of a number recursively.\n",
    "- Examples\n",
    "- factorial(5) ➞ 120\n",
    "- factorial(3) ➞ 6\n",
    "- factorial(1) ➞ 1\n",
    "- factorial(0) ➞ 1"
   ]
  },
  {
   "cell_type": "code",
   "execution_count": 37,
   "id": "ff6ea816",
   "metadata": {},
   "outputs": [],
   "source": [
    "def factorial(num):\n",
    "    if num <= 1:\n",
    "        return 1\n",
    "    return num * factorial(num-1)"
   ]
  },
  {
   "cell_type": "code",
   "execution_count": 38,
   "id": "b0fb08b2",
   "metadata": {},
   "outputs": [
    {
     "data": {
      "text/plain": [
       "120"
      ]
     },
     "execution_count": 38,
     "metadata": {},
     "output_type": "execute_result"
    }
   ],
   "source": [
    "factorial(5)"
   ]
  },
  {
   "cell_type": "code",
   "execution_count": 39,
   "id": "09760e49",
   "metadata": {},
   "outputs": [
    {
     "data": {
      "text/plain": [
       "6"
      ]
     },
     "execution_count": 39,
     "metadata": {},
     "output_type": "execute_result"
    }
   ],
   "source": [
    "factorial(3)"
   ]
  },
  {
   "cell_type": "code",
   "execution_count": 40,
   "id": "9ce92f85",
   "metadata": {},
   "outputs": [
    {
     "data": {
      "text/plain": [
       "1"
      ]
     },
     "execution_count": 40,
     "metadata": {},
     "output_type": "execute_result"
    }
   ],
   "source": [
    "factorial(1)"
   ]
  },
  {
   "cell_type": "code",
   "execution_count": 41,
   "id": "12acaa81",
   "metadata": {},
   "outputs": [
    {
     "data": {
      "text/plain": [
       "1"
      ]
     },
     "execution_count": 41,
     "metadata": {},
     "output_type": "execute_result"
    }
   ],
   "source": [
    "factorial(0)"
   ]
  },
  {
   "cell_type": "markdown",
   "id": "492d8445",
   "metadata": {},
   "source": [
    "Question 5\n",
    "- Hamming distance is the number of characters that differ between two strings.\n",
    "- To illustrate:\n",
    "- String1: &quot;abcbba&quot;\n",
    "- String2: &quot;abcbda&quot;\n",
    "- Hamming Distance: 1 - &quot;b&quot; vs. &quot;d&quot; is the only difference.\n",
    "- Create a function that computes the hamming distance between two strings.\n",
    "- Examples\n",
    "- hamming_distance(&quot;abcde&quot;, &quot;bcdef&quot;) ➞ 5\n",
    "- hamming_distance(&quot;abcde&quot;, &quot;abcde&quot;) ➞ 0\n",
    "- hamming_distance(&quot;strong&quot;, &quot;strung&quot;) ➞ 1"
   ]
  },
  {
   "cell_type": "code",
   "execution_count": 42,
   "id": "c5bd0c09",
   "metadata": {},
   "outputs": [],
   "source": [
    "def hamming_distance(string1,string2):\n",
    "    n = 0\n",
    "    hamming_no = 0\n",
    "    if len(string1) == len(string2):\n",
    "        while n <len(string1):\n",
    "            if string1[n] != string2[n]:\n",
    "                hamming_no +=1\n",
    "            n = n+1\n",
    "        return hamming_no\n",
    "    else :\n",
    "        return \"lenth of given strings are different\""
   ]
  },
  {
   "cell_type": "code",
   "execution_count": 43,
   "id": "328749f4",
   "metadata": {},
   "outputs": [
    {
     "data": {
      "text/plain": [
       "5"
      ]
     },
     "execution_count": 43,
     "metadata": {},
     "output_type": "execute_result"
    }
   ],
   "source": [
    "hamming_distance(\"abcde\", \"bcdef\") "
   ]
  },
  {
   "cell_type": "code",
   "execution_count": 44,
   "id": "26b9b75b",
   "metadata": {},
   "outputs": [
    {
     "data": {
      "text/plain": [
       "0"
      ]
     },
     "execution_count": 44,
     "metadata": {},
     "output_type": "execute_result"
    }
   ],
   "source": [
    "hamming_distance(\"abcde\", \"abcde\")"
   ]
  },
  {
   "cell_type": "code",
   "execution_count": 45,
   "id": "724dde1a",
   "metadata": {},
   "outputs": [
    {
     "data": {
      "text/plain": [
       "1"
      ]
     },
     "execution_count": 45,
     "metadata": {},
     "output_type": "execute_result"
    }
   ],
   "source": [
    "hamming_distance(\"strong\", \"strung\") "
   ]
  },
  {
   "cell_type": "code",
   "execution_count": null,
   "id": "22fb5814",
   "metadata": {},
   "outputs": [],
   "source": []
  }
 ],
 "metadata": {
  "kernelspec": {
   "display_name": "Python 3 (ipykernel)",
   "language": "python",
   "name": "python3"
  },
  "language_info": {
   "codemirror_mode": {
    "name": "ipython",
    "version": 3
   },
   "file_extension": ".py",
   "mimetype": "text/x-python",
   "name": "python",
   "nbconvert_exporter": "python",
   "pygments_lexer": "ipython3",
   "version": "3.9.12"
  }
 },
 "nbformat": 4,
 "nbformat_minor": 5
}
