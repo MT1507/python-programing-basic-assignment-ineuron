{
 "cells": [
  {
   "cell_type": "markdown",
   "id": "23b53209",
   "metadata": {},
   "source": [
    "Q 1 :  Write a Python program to find words which are greater than given length k?"
   ]
  },
  {
   "cell_type": "markdown",
   "id": "d27b95c9",
   "metadata": {},
   "source": [
    "ans :"
   ]
  },
  {
   "cell_type": "code",
   "execution_count": 26,
   "id": "7d0b0961",
   "metadata": {},
   "outputs": [
    {
     "name": "stdout",
     "output_type": "stream",
     "text": [
      "Enter lenth of word you  want : 6\n",
      "\n",
      "\n",
      "original list of words : \n",
      "['Wikipedia', 'is', 'a', 'free', 'online', 'encyclopedia,', 'created', 'and', 'edited', 'by', 'volunteers', 'around', 'the', 'world', 'and', 'hosted', 'by', 'the', 'Wikimedia', 'Foundation.'] \n",
      "\n",
      "list of words which has lenth > 6 : \n",
      "['Wikipedia', 'encyclopedia,', 'created', 'volunteers', 'Wikimedia', 'Foundation.']\n"
     ]
    }
   ],
   "source": [
    "string = \"Wikipedia is a free online encyclopedia, created and edited by volunteers around the world and hosted by the Wikimedia Foundation.\"\n",
    "l = string.split()\n",
    "k = int(input(\"Enter lenth of word you  want : \"))\n",
    "print(\"\\n\")\n",
    "l1 = [ i for i in l if len(i) > k]\n",
    "print(\"original list of words : \")\n",
    "print(l,\"\\n\")\n",
    "print(f\"list of words which has lenth > {k} : \")\n",
    "print(l1)        \n",
    "        "
   ]
  },
  {
   "cell_type": "markdown",
   "id": "48a8ba67",
   "metadata": {},
   "source": [
    "Q 2 : Write a Python program for removing i-th character from a string?\n"
   ]
  },
  {
   "cell_type": "markdown",
   "id": "bde6cb51",
   "metadata": {},
   "source": [
    "ans : "
   ]
  },
  {
   "cell_type": "code",
   "execution_count": 31,
   "id": "7b37f2ef",
   "metadata": {},
   "outputs": [
    {
     "name": "stdout",
     "output_type": "stream",
     "text": [
      "Enter string : mangesh\n",
      "Enter slicing number  of character (for removing) between 0 to 6  : 6\n",
      "Original string :  mangesh\n",
      "string after removing i-th value :  manges\n"
     ]
    }
   ],
   "source": [
    "s = input(\"Enter string : \")\n",
    "i = int(input(f\"Enter slicing number  of character (for removing) between 0 to {len(s)-1}  : \"))\n",
    "s1 = s.replace(s[i],\"\")\n",
    "print(\"Original string : \",s)\n",
    "print(\"string after removing i-th value : \",s1)"
   ]
  },
  {
   "cell_type": "markdown",
   "id": "ce745ed3",
   "metadata": {},
   "source": [
    "Q 3 : Write a Python program to split and join a string?"
   ]
  },
  {
   "cell_type": "markdown",
   "id": "e8ad9ee4",
   "metadata": {},
   "source": [
    "ans : "
   ]
  },
  {
   "cell_type": "code",
   "execution_count": 32,
   "id": "62a0e429",
   "metadata": {},
   "outputs": [
    {
     "name": "stdout",
     "output_type": "stream",
     "text": [
      "Enter string : mangesh\n",
      "Original string :  mangesh \n",
      "\n",
      "splited string :  ['m', 'a', 'n', 'g', 'e', 's', 'h'] \n",
      "\n",
      "string after joining :  mangesh\n"
     ]
    }
   ],
   "source": [
    "s = input(\"Enter string : \")\n",
    "s1 = [i for i in s]\n",
    "s2 = \"\"\n",
    "s3 = s2.join(s1)\n",
    "print(\"Original string : \",s,\"\\n\")\n",
    "print(\"splited string : \",s1,\"\\n\")\n",
    "print(\"string after joining : \",s3)\n",
    "\n"
   ]
  },
  {
   "cell_type": "markdown",
   "id": "440c9f1f",
   "metadata": {},
   "source": [
    "Q 4 : Write a Python to check if a given string is binary string or not?"
   ]
  },
  {
   "cell_type": "markdown",
   "id": "528712e0",
   "metadata": {},
   "source": [
    "ans : "
   ]
  },
  {
   "cell_type": "code",
   "execution_count": 34,
   "id": "2463309e",
   "metadata": {},
   "outputs": [
    {
     "name": "stdout",
     "output_type": "stream",
     "text": [
      "Enter string : 0101010001001\n",
      "Yes : 0101010001001 is binary string\n"
     ]
    }
   ],
   "source": [
    "import re\n",
    "s = input(\"Enter string : \")\n",
    "c = re.compile('[^01]|[^10]')\n",
    "if(len(c.findall(s))):\n",
    "    print(f\"no : {s} is not binary string\")\n",
    "else:\n",
    "    print(f\"Yes : {s} is binary string\")"
   ]
  },
  {
   "cell_type": "markdown",
   "id": "0a65f678",
   "metadata": {},
   "source": [
    "Q 5 : Write a Python program to find uncommon words from two Strings?"
   ]
  },
  {
   "cell_type": "markdown",
   "id": "0f41f799",
   "metadata": {},
   "source": [
    "ans : "
   ]
  },
  {
   "cell_type": "code",
   "execution_count": 36,
   "id": "185bbb2a",
   "metadata": {},
   "outputs": [
    {
     "name": "stdout",
     "output_type": "stream",
     "text": [
      "Enter string_1 : mangesh is a student of fsds batch\n",
      "Enter string_2 : sudhanshu is a teacher of fsds batch \n"
     ]
    },
    {
     "data": {
      "text/plain": [
       "\"List of uncommon words from two Strings : ['mangesh', 'student', 'sudhanshu', 'teacher']\""
      ]
     },
     "execution_count": 36,
     "metadata": {},
     "output_type": "execute_result"
    }
   ],
   "source": [
    "def uncommon_words():\n",
    "    s1 = (input(\"Enter string_1 : \")).split()\n",
    "    s2 = (input(\"Enter string_2 : \")).split()\n",
    "    f1 = [i for i in s1 if i not in s2]\n",
    "    f2 = [i for i in s2 if i not in s1]\n",
    "    f3 = f1 + f2\n",
    "    return f\"List of uncommon words from two Strings : {f3}\" \n",
    "\n",
    "uncommon_words()    "
   ]
  },
  {
   "cell_type": "markdown",
   "id": "016ebe55",
   "metadata": {},
   "source": [
    "Q 6 : Write a Python program to find all duplicate characters in string?"
   ]
  },
  {
   "cell_type": "markdown",
   "id": "955d8367",
   "metadata": {},
   "source": [
    "ans :"
   ]
  },
  {
   "cell_type": "code",
   "execution_count": 37,
   "id": "9cdd3673",
   "metadata": {},
   "outputs": [
    {
     "name": "stdout",
     "output_type": "stream",
     "text": [
      "Enter string : mangesh takras\n",
      "duplicate characters :  ['a', 's']\n"
     ]
    }
   ],
   "source": [
    "from collections import Counter\n",
    "\n",
    "def find_duplicate():\n",
    "    a_string = input(\"Enter string : \")  \n",
    "    string = Counter(a_string)\n",
    "    l = []\n",
    "    for key ,value in string.items():\n",
    "        if (value > 1):\n",
    "            l.append(key)\n",
    "    print(\"duplicate characters : \",l)    \n",
    "        \n",
    "find_duplicate()   "
   ]
  },
  {
   "cell_type": "markdown",
   "id": "f6d1c33b",
   "metadata": {},
   "source": [
    "Q 7 : Write a Python Program to check if a string contains any special character?"
   ]
  },
  {
   "cell_type": "markdown",
   "id": "b45dbe0d",
   "metadata": {},
   "source": [
    "ans :\n"
   ]
  },
  {
   "cell_type": "code",
   "execution_count": 38,
   "id": "b4583999",
   "metadata": {},
   "outputs": [
    {
     "name": "stdout",
     "output_type": "stream",
     "text": [
      "shfsufh4&^%%&^\n",
      "Given string has special character\n"
     ]
    }
   ],
   "source": [
    "import re \n",
    "\n",
    "def special_char(string):\n",
    "    c_char = re.compile('[@_!#$%^&*()<>?/\\|}{~:]')\n",
    "    \n",
    "    if c_char.search(string) == None:\n",
    "        print(\"Given string didn't have sny special character\")\n",
    "        \n",
    "    else :\n",
    "        print(\"Given string has special character\")\n",
    "        \n",
    "a_char = input()\n",
    "\n",
    "special_char(a_char)\n",
    "        "
   ]
  },
  {
   "cell_type": "code",
   "execution_count": null,
   "id": "708130f9",
   "metadata": {},
   "outputs": [],
   "source": []
  }
 ],
 "metadata": {
  "kernelspec": {
   "display_name": "Python 3 (ipykernel)",
   "language": "python",
   "name": "python3"
  },
  "language_info": {
   "codemirror_mode": {
    "name": "ipython",
    "version": 3
   },
   "file_extension": ".py",
   "mimetype": "text/x-python",
   "name": "python",
   "nbconvert_exporter": "python",
   "pygments_lexer": "ipython3",
   "version": "3.9.12"
  }
 },
 "nbformat": 4,
 "nbformat_minor": 5
}
