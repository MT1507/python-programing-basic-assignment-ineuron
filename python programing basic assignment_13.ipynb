{
 "cells": [
  {
   "cell_type": "markdown",
   "id": "1da30da4",
   "metadata": {},
   "source": [
    "Question 1:"
   ]
  },
  {
   "cell_type": "markdown",
   "id": "41817cd7",
   "metadata": {},
   "source": [
    "Write a program that calculates and prints the value according to the given formula:\n",
    "- Q = Square root of [(2 * C * D)/H]\n",
    "- Following are the fixed values of C and H:\n",
    "- C is 50. H is 30.\n",
    "-Example\n",
    "-Let us assume the following comma separated input sequence is given to the program:\n",
    "-100,150,180\n",
    "-The output of the program should be:\n",
    "- 18,22,24"
   ]
  },
  {
   "cell_type": "markdown",
   "id": "3a31a827",
   "metadata": {},
   "source": [
    "ans :"
   ]
  },
  {
   "cell_type": "code",
   "execution_count": 1,
   "id": "86362425",
   "metadata": {},
   "outputs": [],
   "source": [
    "import numpy as np\n",
    "\n",
    "def list_suareroot(D):\n",
    "    C = 50\n",
    "    H = 30\n",
    "    D1 = []\n",
    "    for i in D:\n",
    "        Q = int(np.sqrt((2*C*i)/H))\n",
    "        D1.append(Q)\n",
    "    return D1    \n",
    "    \n"
   ]
  },
  {
   "cell_type": "code",
   "execution_count": 2,
   "id": "276800b5",
   "metadata": {},
   "outputs": [],
   "source": [
    "D = 100,150,180"
   ]
  },
  {
   "cell_type": "code",
   "execution_count": 3,
   "id": "4669b760",
   "metadata": {},
   "outputs": [
    {
     "data": {
      "text/plain": [
       "[18, 22, 24]"
      ]
     },
     "execution_count": 3,
     "metadata": {},
     "output_type": "execute_result"
    }
   ],
   "source": [
    "list_suareroot(D)"
   ]
  },
  {
   "cell_type": "markdown",
   "id": "b2e60b2e",
   "metadata": {},
   "source": [
    "Question 2:\n",
    "- Write a program which takes 2 digits, X,Y as input and generates a 2-dimensional array. The\n",
    "- element value in the i-th row and j-th column of the array should be i*j.\n",
    "- Note: i=0,1.., X-1; j=0,1,¡Y-1.\n",
    "- Example\n",
    "- Suppose the following inputs are given to the program:\n",
    "- 3,5\n",
    "- Then, the output of the program should be:\n",
    "- [[0, 0, 0, 0, 0], [0, 1, 2, 3, 4], [0, 2, 4, 6, 8]]"
   ]
  },
  {
   "cell_type": "markdown",
   "id": "c710da29",
   "metadata": {},
   "source": [
    "ans :"
   ]
  },
  {
   "cell_type": "code",
   "execution_count": 4,
   "id": "f7f89b9f",
   "metadata": {},
   "outputs": [],
   "source": [
    "def Array(x,y):\n",
    "    arr = np.fromfunction(lambda i,j:i*j,(x,y),dtype= int)\n",
    "    return arr"
   ]
  },
  {
   "cell_type": "code",
   "execution_count": 5,
   "id": "a676c04e",
   "metadata": {},
   "outputs": [
    {
     "data": {
      "text/plain": [
       "array([[0, 0, 0, 0, 0],\n",
       "       [0, 1, 2, 3, 4],\n",
       "       [0, 2, 4, 6, 8]])"
      ]
     },
     "execution_count": 5,
     "metadata": {},
     "output_type": "execute_result"
    }
   ],
   "source": [
    "Array(3,5)"
   ]
  },
  {
   "cell_type": "markdown",
   "id": "755a0c55",
   "metadata": {},
   "source": [
    "Question 3:\n",
    "- Write a program that accepts a comma separated sequence of words as input and prints the words in a comma-separated sequence after sorting them alphabetically.\n",
    "- Suppose the following input is supplied to the program:\n",
    "- without,hello,bag,world\n",
    "- Then, the output should be:\n",
    "- bag,hello,without,world"
   ]
  },
  {
   "cell_type": "markdown",
   "id": "cc45e6a1",
   "metadata": {},
   "source": [
    "ans : "
   ]
  },
  {
   "cell_type": "code",
   "execution_count": 6,
   "id": "5a8ef981",
   "metadata": {},
   "outputs": [],
   "source": [
    "def sorting_alpha(list):\n",
    "    return sorted(list)\n"
   ]
  },
  {
   "cell_type": "code",
   "execution_count": 7,
   "id": "9bcb5a56",
   "metadata": {},
   "outputs": [
    {
     "data": {
      "text/plain": [
       "['bag', 'hello', 'without', 'world']"
      ]
     },
     "execution_count": 7,
     "metadata": {},
     "output_type": "execute_result"
    }
   ],
   "source": [
    "l = [\"without\",\"hello\",\"bag\",\"world\"]\n",
    "sorting_alpha(l)"
   ]
  },
  {
   "cell_type": "code",
   "execution_count": 8,
   "id": "c1544269",
   "metadata": {},
   "outputs": [
    {
     "data": {
      "text/plain": [
       "['man', 'rushi', 'sang', 'tak', 'with', 'yolo', 'zamba', 'zed']"
      ]
     },
     "execution_count": 8,
     "metadata": {},
     "output_type": "execute_result"
    }
   ],
   "source": [
    "l1 = [\"zed\",\"yolo\",\"zamba\",\"man\",\"rushi\",\"tak\",\"sang\",\"with\"]\n",
    "sorting_alpha(l1)"
   ]
  },
  {
   "cell_type": "markdown",
   "id": "f3edd332",
   "metadata": {},
   "source": [
    "Question 4:\n",
    "- Write a program that accepts a sequence of whitespace separated words as input and prints\n",
    "- the words after removing all duplicate words and sorting them alphanumerically.\n",
    "- Suppose the following input is supplied to the program:\n",
    "- hello world and practice makes perfect and hello world again\n",
    "- Then, the output should be:\n",
    "- again and hello makes perfect practice world\n",
    "\n"
   ]
  },
  {
   "cell_type": "markdown",
   "id": "5e790b65",
   "metadata": {},
   "source": [
    "ans :"
   ]
  },
  {
   "cell_type": "code",
   "execution_count": 9,
   "id": "cc0bee26",
   "metadata": {},
   "outputs": [],
   "source": [
    "def remove_duplicate(string):\n",
    "    l = []\n",
    "    for i in sorted(string.split()):\n",
    "        if i not in l:\n",
    "            l.append(i)\n",
    "    l1 = \" \"\n",
    "    return l1.join(l)\n",
    "        \n",
    "    \n",
    "        "
   ]
  },
  {
   "cell_type": "code",
   "execution_count": 10,
   "id": "5e09aa10",
   "metadata": {},
   "outputs": [
    {
     "data": {
      "text/plain": [
       "'again and hello makes perfect practice world'"
      ]
     },
     "execution_count": 10,
     "metadata": {},
     "output_type": "execute_result"
    }
   ],
   "source": [
    "string = \"hello world and practice makes perfect and hello world again\"\n",
    "\n",
    "remove_duplicate(string)"
   ]
  },
  {
   "cell_type": "markdown",
   "id": "90053185",
   "metadata": {},
   "source": [
    "Question 5:\n",
    "- Write a program that accepts a sentence and calculate the number of letters and digits.\n",
    "- Suppose the following input is supplied to the program:\n",
    "- hello world! 123\n",
    "- Then, the output should be:\n",
    "- LETTERS 10\n",
    "- DIGITS 3"
   ]
  },
  {
   "cell_type": "markdown",
   "id": "8729aeee",
   "metadata": {},
   "source": [
    "ans :"
   ]
  },
  {
   "cell_type": "code",
   "execution_count": 11,
   "id": "aaae5713",
   "metadata": {},
   "outputs": [],
   "source": [
    "def count_no(string):\n",
    "    l,d = 0,0\n",
    "    for i in string1:\n",
    "        if i.isalpha():\n",
    "            l +=1\n",
    "        if i.isdigit():\n",
    "            d+=1\n",
    "    print ( f\"LETTERS {l}\\nDIGITS {d}\")"
   ]
  },
  {
   "cell_type": "code",
   "execution_count": 12,
   "id": "39783732",
   "metadata": {},
   "outputs": [
    {
     "name": "stdout",
     "output_type": "stream",
     "text": [
      "LETTERS 7\n",
      "DIGITS 6\n"
     ]
    }
   ],
   "source": [
    "string = \"hello world! 123\" \n",
    "\n",
    "string1 = \"mangesh$ 210897 \"\n",
    "\n",
    "count_no(string1)"
   ]
  },
  {
   "cell_type": "markdown",
   "id": "5290ccfb",
   "metadata": {},
   "source": [
    "Question 6:\n",
    "- A website requires the users to input username and password to register. Write a program to\n",
    "- check the validity of password input by users.\n",
    "- Following are the criteria for checking the password:\n",
    "- 1. At least 1 letter between [a-z]\n",
    "- 2. At least 1 number between [0-9]\n",
    "- 3. At least 1 letter between [A-Z]\n",
    "- 4. At least 1 character from [$#@]\n",
    "- 5. Minimum length of transaction password: 6\n",
    "- 6. Maximum length of transaction password: 12\n",
    "- Your program should accept a sequence of comma separated passwords and will check them\n",
    "- according to the above criteria. Passwords that match the criteria are to be printed, each\n",
    "- separated by a comma.\n",
    "\n",
    "- Example\n",
    "- If the following passwords are given as input to the program:\n",
    "- ABd1234@1 , a F1# , 2w3E* , 2We3345\n",
    "- Then, the output of the program should be:\n",
    "- ABd1234@1"
   ]
  },
  {
   "cell_type": "markdown",
   "id": "4c628904",
   "metadata": {},
   "source": [
    "ans :"
   ]
  },
  {
   "cell_type": "code",
   "execution_count": 13,
   "id": "c932e4e8",
   "metadata": {},
   "outputs": [],
   "source": [
    "import re\n",
    "\n",
    "def password(password):\n",
    "    x = True\n",
    "    while x:  \n",
    "        if (len(password)<6 or len(password)>12):\n",
    "            break\n",
    "        elif not re.search(\"[a-z]\",password):\n",
    "            break\n",
    "        elif not re.search(\"[0-9]\",password):\n",
    "            break\n",
    "        elif not re.search(\"[A-Z]\",password):\n",
    "            break\n",
    "        elif not re.search(\"[$#@]\",password):\n",
    "            break\n",
    "        elif re.search(\"\\s\",password):\n",
    "            break\n",
    "        else:\n",
    "            print(password,\" : is Valid Password\")\n",
    "            x=False\n",
    "            break\n",
    "\n",
    "    if x:\n",
    "        print(\"Not a Valid Password\")"
   ]
  },
  {
   "cell_type": "code",
   "execution_count": 14,
   "id": "2fe88e45",
   "metadata": {},
   "outputs": [
    {
     "name": "stdout",
     "output_type": "stream",
     "text": [
      "ABd1234@1  : is Valid Password\n"
     ]
    }
   ],
   "source": [
    "password(\"ABd1234@1\")"
   ]
  },
  {
   "cell_type": "code",
   "execution_count": 15,
   "id": "c48cdb36",
   "metadata": {},
   "outputs": [
    {
     "name": "stdout",
     "output_type": "stream",
     "text": [
      "Not a Valid Password\n"
     ]
    }
   ],
   "source": [
    "password(\"a F1#\")"
   ]
  },
  {
   "cell_type": "code",
   "execution_count": 16,
   "id": "b6811c07",
   "metadata": {},
   "outputs": [
    {
     "name": "stdout",
     "output_type": "stream",
     "text": [
      "Not a Valid Password\n"
     ]
    }
   ],
   "source": [
    "password(\"2w3E*\")"
   ]
  },
  {
   "cell_type": "code",
   "execution_count": 17,
   "id": "bb46fc7e",
   "metadata": {},
   "outputs": [
    {
     "name": "stdout",
     "output_type": "stream",
     "text": [
      "Not a Valid Password\n"
     ]
    }
   ],
   "source": [
    "password(\"2We3345\")"
   ]
  },
  {
   "cell_type": "code",
   "execution_count": null,
   "id": "8f0dd248",
   "metadata": {},
   "outputs": [],
   "source": []
  },
  {
   "cell_type": "code",
   "execution_count": null,
   "id": "e090c0e0",
   "metadata": {},
   "outputs": [],
   "source": []
  }
 ],
 "metadata": {
  "kernelspec": {
   "display_name": "Python 3 (ipykernel)",
   "language": "python",
   "name": "python3"
  },
  "language_info": {
   "codemirror_mode": {
    "name": "ipython",
    "version": 3
   },
   "file_extension": ".py",
   "mimetype": "text/x-python",
   "name": "python",
   "nbconvert_exporter": "python",
   "pygments_lexer": "ipython3",
   "version": "3.9.12"
  }
 },
 "nbformat": 4,
 "nbformat_minor": 5
}
