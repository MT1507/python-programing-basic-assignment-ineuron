{
 "cells": [
  {
   "cell_type": "markdown",
   "id": "e71300b3",
   "metadata": {},
   "source": [
    "Q 1: Write a Python Program to Display Fibonacci Sequence Using Recursion?"
   ]
  },
  {
   "cell_type": "markdown",
   "id": "ec2b6f95",
   "metadata": {},
   "source": [
    "ans :"
   ]
  },
  {
   "cell_type": "code",
   "execution_count": 7,
   "id": "e2eb33b5",
   "metadata": {},
   "outputs": [
    {
     "name": "stdout",
     "output_type": "stream",
     "text": [
      "Enter a number, N, N>=2 : 23\n",
      "[0, 1, 1, 2, 3, 5, 8, 13, 21, 34, 55, 89, 144, 233, 377, 610, 987, 1597, 2584, 4181, 6765, 10946, 17711]\n"
     ]
    }
   ],
   "source": [
    "def fibonacci(n):\n",
    "    if n<=1:\n",
    "        return n\n",
    "    else:\n",
    "        return(fibonacci(n-1) + fibonacci(n-2))\n",
    "\n",
    "n = int(input('Enter a number, N, N>=2 : '))\n",
    "fibo_series = []\n",
    "for i in range(0,n):\n",
    "    fibo_series.append(fibonacci(i))\n",
    "print(fibo_series)"
   ]
  },
  {
   "cell_type": "markdown",
   "id": "bc9ec368",
   "metadata": {},
   "source": [
    "Q 2 : Write a Python Program to Find Factorial of Number Using Recursion?"
   ]
  },
  {
   "cell_type": "markdown",
   "id": "c5dddaf1",
   "metadata": {},
   "source": [
    "ans :"
   ]
  },
  {
   "cell_type": "code",
   "execution_count": 17,
   "id": "a80e6831",
   "metadata": {},
   "outputs": [
    {
     "name": "stdout",
     "output_type": "stream",
     "text": [
      "enter value of n : 10\n",
      "3628800\n"
     ]
    }
   ],
   "source": [
    "def fact(n):\n",
    "    if n == 0 or n == 1 :\n",
    "        return 1\n",
    "    else :\n",
    "        return n* fact(n-1)\n",
    "n = int(input(\"enter value of n : \"))\n",
    "result = fact(n)\n",
    "print(result)"
   ]
  },
  {
   "cell_type": "markdown",
   "id": "ca95d676",
   "metadata": {},
   "source": [
    "Q 3 : Write a Python Program to calculate your Body Mass Index?\n"
   ]
  },
  {
   "cell_type": "markdown",
   "id": "1eb037d4",
   "metadata": {},
   "source": [
    "ans :"
   ]
  },
  {
   "cell_type": "code",
   "execution_count": 1,
   "id": "c424c3b4",
   "metadata": {},
   "outputs": [
    {
     "name": "stdout",
     "output_type": "stream",
     "text": [
      "enter weight in kg's : 72\n",
      "enter height in cm's : 165\n",
      "BMI of person is :  26.44628099173553\n"
     ]
    }
   ],
   "source": [
    "a = float(input(\"enter weight in kg's : \"))\n",
    "b = float(input(\"enter height in cm's : \"))\n",
    "\n",
    "bmi = a/(b*0.01)**2\n",
    "print(\"BMI of person is : \",bmi)"
   ]
  },
  {
   "cell_type": "markdown",
   "id": "76c1ac92",
   "metadata": {},
   "source": [
    "Q 4 : Write a Python Program to calculate the natural logarithm of any number?"
   ]
  },
  {
   "cell_type": "markdown",
   "id": "cb4253e7",
   "metadata": {},
   "source": [
    "ans :"
   ]
  },
  {
   "cell_type": "code",
   "execution_count": 23,
   "id": "f04fc293",
   "metadata": {},
   "outputs": [
    {
     "name": "stdout",
     "output_type": "stream",
     "text": [
      "enter a any number : 23\n",
      "Natural logarithm of 23.0 is 3.1354942159291497\n"
     ]
    }
   ],
   "source": [
    "import math\n",
    "a = float(input(\"enter a any number : \"))\n",
    "b = math.log(a)\n",
    "print( f\"Natural logarithm of {a} is {b}\")"
   ]
  },
  {
   "cell_type": "markdown",
   "id": "1ff6e66d",
   "metadata": {},
   "source": [
    "OR"
   ]
  },
  {
   "cell_type": "code",
   "execution_count": 27,
   "id": "06f53184",
   "metadata": {},
   "outputs": [
    {
     "data": {
      "text/plain": [
       "3.1354942159291497"
      ]
     },
     "execution_count": 27,
     "metadata": {},
     "output_type": "execute_result"
    }
   ],
   "source": [
    "import numpy as np\n",
    "np.log(23)"
   ]
  },
  {
   "cell_type": "markdown",
   "id": "39ef0196",
   "metadata": {},
   "source": [
    "Q 5 : Write a Python Program for cube sum of first n natural numbers?\n"
   ]
  },
  {
   "cell_type": "markdown",
   "id": "ee8723ee",
   "metadata": {},
   "source": [
    "ans :"
   ]
  },
  {
   "cell_type": "code",
   "execution_count": 34,
   "id": "497ac8e7",
   "metadata": {},
   "outputs": [
    {
     "name": "stdout",
     "output_type": "stream",
     "text": [
      "enter upper boundry of natural number : 10\n",
      "3025.0\n"
     ]
    }
   ],
   "source": [
    "# formula of cube sum of first n natural numbers S = [n2 (n + 1)2]/4 ,\n",
    "n = int(input(\"enter upper boundry of natural number : \"))\n",
    "S = n**2*(n + 1)**2/4\n",
    "print(S)"
   ]
  },
  {
   "cell_type": "code",
   "execution_count": null,
   "id": "08e2f180",
   "metadata": {},
   "outputs": [],
   "source": []
  },
  {
   "cell_type": "code",
   "execution_count": null,
   "id": "93778920",
   "metadata": {},
   "outputs": [],
   "source": []
  }
 ],
 "metadata": {
  "kernelspec": {
   "display_name": "Python 3 (ipykernel)",
   "language": "python",
   "name": "python3"
  },
  "language_info": {
   "codemirror_mode": {
    "name": "ipython",
    "version": 3
   },
   "file_extension": ".py",
   "mimetype": "text/x-python",
   "name": "python",
   "nbconvert_exporter": "python",
   "pygments_lexer": "ipython3",
   "version": "3.9.7"
  }
 },
 "nbformat": 4,
 "nbformat_minor": 5
}
