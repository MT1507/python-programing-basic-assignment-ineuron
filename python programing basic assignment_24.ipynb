{
 "cells": [
  {
   "cell_type": "markdown",
   "id": "eaf94720",
   "metadata": {},
   "source": [
    "Question1\n",
    "- Create a function that takes an integer and returns a list from 1 to the given number, where:\n",
    "- 1. If the number can be divided evenly by 4, amplify it by 10 (i.e. return 10 times the\n",
    "number).\n",
    "- 2. If the number cannot be divided evenly by 4, simply return the number.\n",
    "- Examples\n",
    "- amplify(4) ➞ [1, 2, 3, 40]\n",
    "- amplify(3) ➞ [1, 2, 3]\n",
    "- amplify(25) ➞ [1, 2, 3, 40, 5, 6, 7, 80, 9, 10, 11, 120, 13, 14, 15, 160,\n",
    "17, 18, 19, 200, 21, 22, 23, 240, 25]\n",
    "- Notes\n",
    "-  The given integer will always be equal to or greater than 1.\n",
    "-  Include the number (see example above).\n",
    "-  To perform this problem with its intended purpose, try doing it with list\n",
    "comprehensions. If that&#39;s too difficult, just solve the challenge any way you can."
   ]
  },
  {
   "cell_type": "markdown",
   "id": "9e47c770",
   "metadata": {},
   "source": [
    "ans :"
   ]
  },
  {
   "cell_type": "code",
   "execution_count": 67,
   "id": "68ff3be4",
   "metadata": {},
   "outputs": [],
   "source": [
    "def amplify(num):\n",
    "    list1 = list(map(lambda x:x*10 if x%4 ==0 else x,list(range(1,num+1))))\n",
    "    return list1    "
   ]
  },
  {
   "cell_type": "code",
   "execution_count": 68,
   "id": "a2313cd7",
   "metadata": {},
   "outputs": [
    {
     "data": {
      "text/plain": [
       "[1, 2, 3, 40]"
      ]
     },
     "execution_count": 68,
     "metadata": {},
     "output_type": "execute_result"
    }
   ],
   "source": [
    "amplify(4)"
   ]
  },
  {
   "cell_type": "code",
   "execution_count": 69,
   "id": "34cb212d",
   "metadata": {},
   "outputs": [
    {
     "data": {
      "text/plain": [
       "[1, 2, 3]"
      ]
     },
     "execution_count": 69,
     "metadata": {},
     "output_type": "execute_result"
    }
   ],
   "source": [
    "amplify(3)"
   ]
  },
  {
   "cell_type": "code",
   "execution_count": 70,
   "id": "9b325d46",
   "metadata": {},
   "outputs": [
    {
     "data": {
      "text/plain": [
       "[1,\n",
       " 2,\n",
       " 3,\n",
       " 40,\n",
       " 5,\n",
       " 6,\n",
       " 7,\n",
       " 80,\n",
       " 9,\n",
       " 10,\n",
       " 11,\n",
       " 120,\n",
       " 13,\n",
       " 14,\n",
       " 15,\n",
       " 160,\n",
       " 17,\n",
       " 18,\n",
       " 19,\n",
       " 200,\n",
       " 21,\n",
       " 22,\n",
       " 23,\n",
       " 240,\n",
       " 25]"
      ]
     },
     "execution_count": 70,
     "metadata": {},
     "output_type": "execute_result"
    }
   ],
   "source": [
    "amplify(25) \n",
    "   "
   ]
  },
  {
   "cell_type": "markdown",
   "id": "8e833c54",
   "metadata": {},
   "source": [
    "Question2\n",
    "- Create a function that takes a list of numbers and return the number that&#39;s unique.\n",
    "- Examples\n",
    "- unique([3, 3, 3, 7, 3, 3]) ➞ 7\n",
    "- unique([0, 0, 0.77, 0, 0]) ➞ 0.77\n",
    "- unique([0, 1, 1, 1, 1, 1, 1, 1]) ➞ 0\n",
    "- Notes\n",
    "- Test cases will always have exactly one unique number while all others are the same."
   ]
  },
  {
   "cell_type": "markdown",
   "id": "85d4b106",
   "metadata": {},
   "source": [
    "ans:"
   ]
  },
  {
   "cell_type": "code",
   "execution_count": 71,
   "id": "dffd96fb",
   "metadata": {},
   "outputs": [],
   "source": [
    "def unique(list_):\n",
    "    set_ = (list_)\n",
    "    for i in set_:\n",
    "        if list_.count(i) == 1:\n",
    "            return i"
   ]
  },
  {
   "cell_type": "code",
   "execution_count": 72,
   "id": "3a57462a",
   "metadata": {},
   "outputs": [
    {
     "data": {
      "text/plain": [
       "7"
      ]
     },
     "execution_count": 72,
     "metadata": {},
     "output_type": "execute_result"
    }
   ],
   "source": [
    "unique([3, 3, 3, 7, 3, 3])"
   ]
  },
  {
   "cell_type": "code",
   "execution_count": 73,
   "id": "36d90697",
   "metadata": {},
   "outputs": [
    {
     "data": {
      "text/plain": [
       "0.77"
      ]
     },
     "execution_count": 73,
     "metadata": {},
     "output_type": "execute_result"
    }
   ],
   "source": [
    "unique([0, 0, 0.77, 0, 0])"
   ]
  },
  {
   "cell_type": "code",
   "execution_count": 74,
   "id": "c959c548",
   "metadata": {},
   "outputs": [
    {
     "data": {
      "text/plain": [
       "0"
      ]
     },
     "execution_count": 74,
     "metadata": {},
     "output_type": "execute_result"
    }
   ],
   "source": [
    "unique([0, 1, 1, 1, 1, 1, 1, 1]) "
   ]
  },
  {
   "cell_type": "markdown",
   "id": "cfd9ae3f",
   "metadata": {},
   "source": [
    "Question3\n",
    "- Your task is to create a Circle constructor that creates a circle with a radius provided by an\n",
    "argument. The circles constructed must have two getters getArea() (PIr^2) and\n",
    "getPerimeter() (2PI*r) which give both respective areas and perimeter (circumference).\n",
    "\n",
    "- For help with this class, I have provided you with a Rectangle constructor which you can use\n",
    "as a base example.\n",
    "- Examples\n",
    "- circy = Circle(11)\n",
    "- circy.getArea()\n",
    "- # Should return 380.132711084365\n",
    "- circy = Circle(4.44)\n",
    "- circy.getPerimeter()\n",
    "- # Should return 27.897342763877365\n",
    "- Notes\n",
    "- Round results up to the nearest integer."
   ]
  },
  {
   "cell_type": "markdown",
   "id": "b70ad879",
   "metadata": {},
   "source": [
    "ans:"
   ]
  },
  {
   "cell_type": "code",
   "execution_count": 75,
   "id": "fb62ba56",
   "metadata": {},
   "outputs": [],
   "source": [
    "import numpy as np\n",
    "\n",
    "class Circle():\n",
    "    def __init__(self,radius):\n",
    "        self.radius = radius\n",
    "        \n",
    "    def getArea(self):\n",
    "        Area =np.pi*(self.radius**2)\n",
    "        return Area\n",
    "    \n",
    "    def getPerimeter(self):\n",
    "        Perimeter = 2*np.pi*self.radius\n",
    "        return Perimeter"
   ]
  },
  {
   "cell_type": "code",
   "execution_count": 76,
   "id": "6f420ad8",
   "metadata": {},
   "outputs": [
    {
     "data": {
      "text/plain": [
       "380.132711084365"
      ]
     },
     "execution_count": 76,
     "metadata": {},
     "output_type": "execute_result"
    }
   ],
   "source": [
    "circy = Circle(11)\n",
    "circy.getArea()"
   ]
  },
  {
   "cell_type": "code",
   "execution_count": 77,
   "id": "e5f33bc2",
   "metadata": {},
   "outputs": [
    {
     "data": {
      "text/plain": [
       "27.897342763877365"
      ]
     },
     "execution_count": 77,
     "metadata": {},
     "output_type": "execute_result"
    }
   ],
   "source": [
    "circy = Circle(4.44)\n",
    "circy.getPerimeter()"
   ]
  },
  {
   "cell_type": "markdown",
   "id": "a38e470e",
   "metadata": {},
   "source": [
    "Question4\n",
    "- Create a function that takes a list of strings and return a list, sorted from shortest to longest.\n",
    "- Examples\n",
    "- sort_by_length([&quot;Google&quot;, &quot;Apple&quot;, &quot;Microsoft&quot;])\n",
    "- ➞ [&quot;Apple&quot;, &quot;Google&quot;, &quot;Microsoft&quot;]\n",
    "- sort_by_length([&quot;Leonardo&quot;, &quot;Michelangelo&quot;, &quot;Raphael&quot;, &quot;Donatello&quot;])\n",
    "- ➞ [&quot;Raphael&quot;, &quot;Leonardo&quot;, &quot;Donatello&quot;, &quot;Michelangelo&quot;]\n",
    "- sort_by_length([&quot;Turing&quot;, &quot;Einstein&quot;, &quot;Jung&quot;])\n",
    "- ➞ [&quot;Jung&quot;, &quot;Turing&quot;, &quot;Einstein&quot;]\n",
    "- Notes\n",
    "- All test cases contain lists with strings of different lengths, so you won&#39;t have to deal with\n",
    "multiple strings of the same length."
   ]
  },
  {
   "cell_type": "markdown",
   "id": "4b521543",
   "metadata": {},
   "source": [
    "ans :"
   ]
  },
  {
   "cell_type": "code",
   "execution_count": 78,
   "id": "2bac0a16",
   "metadata": {},
   "outputs": [],
   "source": [
    "def sort_by_length(list_):\n",
    "    return sorted(list_,key=len)\n",
    "    "
   ]
  },
  {
   "cell_type": "code",
   "execution_count": 79,
   "id": "d26255af",
   "metadata": {},
   "outputs": [
    {
     "data": {
      "text/plain": [
       "['Apple', 'Google', 'Microsoft']"
      ]
     },
     "execution_count": 79,
     "metadata": {},
     "output_type": "execute_result"
    }
   ],
   "source": [
    "sort_by_length([\"Google\", \"Apple\", \"Microsoft\"])"
   ]
  },
  {
   "cell_type": "code",
   "execution_count": 80,
   "id": "e30a621b",
   "metadata": {},
   "outputs": [
    {
     "data": {
      "text/plain": [
       "['Raphael', 'Leonardo', 'Donatello', 'Michelangelo']"
      ]
     },
     "execution_count": 80,
     "metadata": {},
     "output_type": "execute_result"
    }
   ],
   "source": [
    "sort_by_length([\"Leonardo\", \"Michelangelo\", \"Raphael\", \"Donatello\"])"
   ]
  },
  {
   "cell_type": "code",
   "execution_count": 81,
   "id": "c02e1301",
   "metadata": {},
   "outputs": [
    {
     "data": {
      "text/plain": [
       "['Jung', 'Turing', 'Einstein']"
      ]
     },
     "execution_count": 81,
     "metadata": {},
     "output_type": "execute_result"
    }
   ],
   "source": [
    "sort_by_length([\"Turing\", \"Einstein\", \"Jung\"])"
   ]
  },
  {
   "cell_type": "markdown",
   "id": "01aeb07a",
   "metadata": {},
   "source": [
    "Question5\n",
    "- Create a function that validates whether three given integers form a Pythagorean triplet. The\n",
    "sum of the squares of the two smallest integers must equal the square of the largest number to\n",
    "be validated.\n",
    "- Examples\n",
    "- is_triplet(3, 4, 5) ➞ True\n",
    "- 3² + 4² = 25\n",
    "- 5² = 25\n",
    "- is_triplet(13, 5, 12) ➞ True\n",
    "- 5² + 12² = 169\n",
    "- 3² = 169\n",
    "- is_triplet(1, 2, 3) ➞ False\n",
    "- 1² + 2² = 5\n",
    "- 3² = 9\n",
    "- Notes\n",
    "- Numbers may not be given in a sorted order."
   ]
  },
  {
   "cell_type": "markdown",
   "id": "a7c4064e",
   "metadata": {},
   "source": [
    "ans :\n"
   ]
  },
  {
   "cell_type": "code",
   "execution_count": 82,
   "id": "2e9a197e",
   "metadata": {},
   "outputs": [],
   "source": [
    "def is_triplet(*args):\n",
    "    triplet = sorted(args)\n",
    "    if ((triplet[0]**2) + (triplet[1]**2)) == triplet[2]**2 :\n",
    "        return True\n",
    "    else :\n",
    "        return False"
   ]
  },
  {
   "cell_type": "code",
   "execution_count": 83,
   "id": "79c81f3a",
   "metadata": {},
   "outputs": [
    {
     "data": {
      "text/plain": [
       "True"
      ]
     },
     "execution_count": 83,
     "metadata": {},
     "output_type": "execute_result"
    }
   ],
   "source": [
    "is_triplet(3, 4, 5) "
   ]
  },
  {
   "cell_type": "code",
   "execution_count": 84,
   "id": "e056c230",
   "metadata": {},
   "outputs": [
    {
     "data": {
      "text/plain": [
       "True"
      ]
     },
     "execution_count": 84,
     "metadata": {},
     "output_type": "execute_result"
    }
   ],
   "source": [
    "is_triplet(13, 5, 12)"
   ]
  },
  {
   "cell_type": "code",
   "execution_count": 85,
   "id": "840f42ac",
   "metadata": {},
   "outputs": [
    {
     "data": {
      "text/plain": [
       "False"
      ]
     },
     "execution_count": 85,
     "metadata": {},
     "output_type": "execute_result"
    }
   ],
   "source": [
    "is_triplet(1, 2, 3)"
   ]
  },
  {
   "cell_type": "code",
   "execution_count": null,
   "id": "df1d7668",
   "metadata": {},
   "outputs": [],
   "source": []
  },
  {
   "cell_type": "code",
   "execution_count": null,
   "id": "9137f162",
   "metadata": {},
   "outputs": [],
   "source": []
  }
 ],
 "metadata": {
  "kernelspec": {
   "display_name": "Python 3 (ipykernel)",
   "language": "python",
   "name": "python3"
  },
  "language_info": {
   "codemirror_mode": {
    "name": "ipython",
    "version": 3
   },
   "file_extension": ".py",
   "mimetype": "text/x-python",
   "name": "python",
   "nbconvert_exporter": "python",
   "pygments_lexer": "ipython3",
   "version": "3.9.12"
  }
 },
 "nbformat": 4,
 "nbformat_minor": 5
}
