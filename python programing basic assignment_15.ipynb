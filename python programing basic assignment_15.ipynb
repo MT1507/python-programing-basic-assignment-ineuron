{
 "cells": [
  {
   "cell_type": "markdown",
   "id": "faf225b0",
   "metadata": {},
   "source": [
    "- Question 1:\n",
    "- Please write a program using generator to print the numbers which can be divisible by 5 and 7 between 0 and n in comma separated form while n is input by console.\n",
    "- Example:\n",
    "- If the following n is given as input to the program:\n",
    "- 100\n",
    "- Then, the output of the program should be:\n",
    "- 0,35,70"
   ]
  },
  {
   "cell_type": "markdown",
   "id": "3ab229a6",
   "metadata": {},
   "source": [
    "ans :"
   ]
  },
  {
   "cell_type": "code",
   "execution_count": 1,
   "id": "58d765f7",
   "metadata": {},
   "outputs": [
    {
     "name": "stdout",
     "output_type": "stream",
     "text": [
      "0,35,70\n"
     ]
    }
   ],
   "source": [
    "def divisible_no(n):\n",
    "    for i in range(0,n+1):\n",
    "        if i%5 ==0 and i%7 ==0:\n",
    "            yield i\n",
    "l = []\n",
    "for i in divisible_no(100):\n",
    "    l.append(str(i))\n",
    "print(\",\".join(l))    "
   ]
  },
  {
   "cell_type": "markdown",
   "id": "b6e1d426",
   "metadata": {},
   "source": [
    "Question 2:\n",
    "- Please write a program using generator to print the even numbers between 0 and n in comma\n",
    "- separated form while n is input by console.\n",
    "- Example:\n",
    "- If the following n is given as input to the program:\n",
    "- 10\n",
    "- Then, the output of the program should be:\n",
    "- 0,2,4,6,8,10"
   ]
  },
  {
   "cell_type": "markdown",
   "id": "39a3b574",
   "metadata": {},
   "source": [
    "ans :\n"
   ]
  },
  {
   "cell_type": "code",
   "execution_count": 2,
   "id": "038826d3",
   "metadata": {},
   "outputs": [
    {
     "name": "stdout",
     "output_type": "stream",
     "text": [
      "0,2,4,6,8,10\n"
     ]
    }
   ],
   "source": [
    "def even_no(n):\n",
    "    for i in range(0,n+1):\n",
    "        if i%2 ==0 :\n",
    "            yield i\n",
    "l = []\n",
    "for i in even_no(10):\n",
    "    l.append(str(i))\n",
    "print(\",\".join(l))    "
   ]
  },
  {
   "cell_type": "markdown",
   "id": "39b572c6",
   "metadata": {},
   "source": [
    "Question 3:\n",
    "- The Fibonacci Sequence is computed based on the following formula:\n",
    "- f(n)=0 if n=0\n",
    "- f(n)=1 if n=1\n",
    "- f(n)=f(n-1)+f(n-2) if n&gt;1\n",
    "- Please write a program using list comprehension to print the Fibonacci Sequence in comma separated form with a given n --- input by console.\n",
    "- Example:\n",
    "- If the following n is given as input to the program:\n",
    "- 7\n",
    "- Then, the output of the program should be:\n",
    "- 0,1,1,2,3,5,8,13"
   ]
  },
  {
   "cell_type": "markdown",
   "id": "9dad9590",
   "metadata": {},
   "source": [
    "ans : "
   ]
  },
  {
   "cell_type": "code",
   "execution_count": 3,
   "id": "3d21ea74",
   "metadata": {},
   "outputs": [
    {
     "name": "stdout",
     "output_type": "stream",
     "text": [
      "7\n",
      "0,1,1,2,3,5,8,13\n"
     ]
    }
   ],
   "source": [
    "n = int(input())\n",
    "f = lambda x: 0 if x == 0 else 1 if x == 1 else f(x-1)+f(x-2)\n",
    "print(','.join([str(f(x)) for x in range(0, n+1)]))\n"
   ]
  },
  {
   "cell_type": "markdown",
   "id": "0f11e48b",
   "metadata": {},
   "source": [
    "Question 4:\n",
    "- Assuming that we have some email addresses in the &quot;username@companyname.com&quot; format,please write program to print the user name of a given email address. Both user names and company names are composed of letters only.\n",
    "- Example:\n",
    "- If the following email address is given as input to the program:\n",
    "- john@google.com\n",
    "- Then, the output of the program should be:\n",
    "- john"
   ]
  },
  {
   "cell_type": "markdown",
   "id": "65660f0a",
   "metadata": {},
   "source": [
    "ans :\n"
   ]
  },
  {
   "cell_type": "code",
   "execution_count": 4,
   "id": "58f88aee",
   "metadata": {},
   "outputs": [
    {
     "name": "stdout",
     "output_type": "stream",
     "text": [
      "username\n"
     ]
    }
   ],
   "source": [
    "import re \n",
    "string1 = \"username@companyname.com\"\n",
    "def user(string):\n",
    "    x = re.findall(r\".+@\\b\",string)\n",
    "    st = \"\" \n",
    "    print(st.join(x[0][:-1]))\n",
    "\n",
    "user(string1)    "
   ]
  },
  {
   "cell_type": "code",
   "execution_count": 5,
   "id": "903670b0",
   "metadata": {},
   "outputs": [
    {
     "name": "stdout",
     "output_type": "stream",
     "text": [
      "john\n"
     ]
    }
   ],
   "source": [
    "alr = \"john@google.com\"\n",
    "user(alr)"
   ]
  },
  {
   "cell_type": "markdown",
   "id": "932b8227",
   "metadata": {},
   "source": [
    "Question 5:\n",
    "- Define a class named Shape and its subclass Square. The Square class has an init function which takes a length as argument. Both classes have a area function which can print the area of the shape where Shape&#39;s area is 0 by default."
   ]
  },
  {
   "cell_type": "markdown",
   "id": "692020fc",
   "metadata": {},
   "source": [
    "ans :"
   ]
  },
  {
   "cell_type": "code",
   "execution_count": 7,
   "id": "f476cb57",
   "metadata": {},
   "outputs": [
    {
     "name": "stdout",
     "output_type": "stream",
     "text": [
      "area of square : 25\n",
      "0\n"
     ]
    }
   ],
   "source": [
    "class Shape():\n",
    "    def __init__(self):\n",
    "        pass\n",
    "\n",
    "    def area(self):\n",
    "        return 0\n",
    "\n",
    "class Square(Shape):\n",
    "    def __init__(self,length = 0):\n",
    "        Shape.__init__(self)\n",
    "        self.length = length\n",
    "\n",
    "    def area(self):\n",
    "        return self.length*self.length\n",
    "\n",
    "Asqr = Square(5)\n",
    "print(\"area of square :\",Asqr.area())     \n",
    "print(\"area of Shape \",Square().area())  "
   ]
  },
  {
   "cell_type": "code",
   "execution_count": null,
   "id": "99dd0995",
   "metadata": {},
   "outputs": [],
   "source": []
  },
  {
   "cell_type": "code",
   "execution_count": null,
   "id": "9c327cc8",
   "metadata": {},
   "outputs": [],
   "source": []
  }
 ],
 "metadata": {
  "kernelspec": {
   "display_name": "Python 3 (ipykernel)",
   "language": "python",
   "name": "python3"
  },
  "language_info": {
   "codemirror_mode": {
    "name": "ipython",
    "version": 3
   },
   "file_extension": ".py",
   "mimetype": "text/x-python",
   "name": "python",
   "nbconvert_exporter": "python",
   "pygments_lexer": "ipython3",
   "version": "3.9.12"
  }
 },
 "nbformat": 4,
 "nbformat_minor": 5
}
