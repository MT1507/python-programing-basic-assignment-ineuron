{
 "cells": [
  {
   "cell_type": "markdown",
   "id": "10262056",
   "metadata": {},
   "source": [
    "Question1.\n",
    "- Write a function that stutters a word as if someone is struggling to read it. The first two letters are repeated twice with an ellipsis ... and space after each, and then the word is pronounced with a question mark ?."
   ]
  },
  {
   "cell_type": "markdown",
   "id": "cc7f74e4",
   "metadata": {},
   "source": [
    "Examples\n",
    "- stutter(&quot;incredible&quot;) ➞ &quot;in... in... incredible?&quot;\n",
    "- stutter(&quot;enthusiastic&quot;) ➞ &quot;en... en... enthusiastic?&quot;\n",
    "- stutter(&quot;outstanding&quot;) ➞ &quot;ou... ou... outstanding?&quot;\n",
    "\n",
    "- Hint :- Assume all input is in lower case and at least two characters long."
   ]
  },
  {
   "cell_type": "markdown",
   "id": "f21a95c5",
   "metadata": {},
   "source": [
    "ans : "
   ]
  },
  {
   "cell_type": "code",
   "execution_count": 27,
   "id": "f236a745",
   "metadata": {},
   "outputs": [],
   "source": [
    "def stutter(name):\n",
    "    return f\"{name[0:2]}... {name[0:2]}... {name}?\""
   ]
  },
  {
   "cell_type": "code",
   "execution_count": 28,
   "id": "b085fc14",
   "metadata": {},
   "outputs": [
    {
     "data": {
      "text/plain": [
       "'in... in... incredible?'"
      ]
     },
     "execution_count": 28,
     "metadata": {},
     "output_type": "execute_result"
    }
   ],
   "source": [
    "stutter(\"incredible\")"
   ]
  },
  {
   "cell_type": "code",
   "execution_count": 29,
   "id": "e255d0eb",
   "metadata": {},
   "outputs": [
    {
     "data": {
      "text/plain": [
       "'en... en... enthusiastic?'"
      ]
     },
     "execution_count": 29,
     "metadata": {},
     "output_type": "execute_result"
    }
   ],
   "source": [
    "stutter(\"enthusiastic\")"
   ]
  },
  {
   "cell_type": "code",
   "execution_count": 30,
   "id": "61f8e525",
   "metadata": {},
   "outputs": [
    {
     "data": {
      "text/plain": [
       "'ou... ou... outstanding?'"
      ]
     },
     "execution_count": 30,
     "metadata": {},
     "output_type": "execute_result"
    }
   ],
   "source": [
    "stutter(\"outstanding\")"
   ]
  },
  {
   "cell_type": "markdown",
   "id": "560c8268",
   "metadata": {},
   "source": [
    "Question 2.\n",
    "- Create a function that takes an angle in radians and returns the corresponding angle in degrees rounded to one decimal place.\n",
    "- Examples\n",
    "- radians_to_degrees(1) ➞ 57.3\n",
    "- radians_to_degrees(20) ➞ 1145.9\n",
    "- radians_to_degrees(50) ➞ 2864.8"
   ]
  },
  {
   "cell_type": "markdown",
   "id": "98ddbf3e",
   "metadata": {},
   "source": [
    "ans :"
   ]
  },
  {
   "cell_type": "code",
   "execution_count": 31,
   "id": "f9f98629",
   "metadata": {},
   "outputs": [],
   "source": [
    "import numpy as np\n",
    "def radians_to_degrees(radians):\n",
    "    degree = np.round((radians*180/np.pi),1)\n",
    "    return degree"
   ]
  },
  {
   "cell_type": "code",
   "execution_count": 32,
   "id": "a2e304e3",
   "metadata": {},
   "outputs": [
    {
     "data": {
      "text/plain": [
       "57.3"
      ]
     },
     "execution_count": 32,
     "metadata": {},
     "output_type": "execute_result"
    }
   ],
   "source": [
    "radians_to_degrees(1) "
   ]
  },
  {
   "cell_type": "code",
   "execution_count": 33,
   "id": "d836c80f",
   "metadata": {},
   "outputs": [
    {
     "data": {
      "text/plain": [
       "1145.9"
      ]
     },
     "execution_count": 33,
     "metadata": {},
     "output_type": "execute_result"
    }
   ],
   "source": [
    "radians_to_degrees(20)"
   ]
  },
  {
   "cell_type": "code",
   "execution_count": 34,
   "id": "8e49786d",
   "metadata": {},
   "outputs": [
    {
     "data": {
      "text/plain": [
       "2864.8"
      ]
     },
     "execution_count": 34,
     "metadata": {},
     "output_type": "execute_result"
    }
   ],
   "source": [
    "radians_to_degrees(50)"
   ]
  },
  {
   "cell_type": "markdown",
   "id": "5d0273d8",
   "metadata": {},
   "source": [
    "Question 3. \n",
    "- In this challenge, establish if a given integer num is a Curzon number. If 1 plus 2 elevated to num is exactly divisible by 1 plus 2 multiplied by num, then num is a Curzon number.\n",
    "- Given a non-negative integer num, implement a function that returns True if num is a Curzon number, or False otherwise.\n",
    "- Examples\n",
    "\n",
    "- is_curzon(5) ➞ True\n",
    "- 2 ** 5 + 1 = 33\n",
    "- 2 * 5 + 1 = 11\n",
    "- 33 is a multiple of 11\n",
    "-is_curzon(10) ➞ False\n",
    "- 2 ** 10 + 1 = 1025\n",
    "- 2 * 10 + 1 = 21\n",
    "- 1025 is not a multiple of 21\n",
    "-is_curzon(14) ➞ True\n",
    "- 2 ** 14 + 1 = 16385\n",
    "- 2 * 14 + 1 = 29\n",
    "- 16385 is a multiple of 29"
   ]
  },
  {
   "cell_type": "markdown",
   "id": "0d6eb10f",
   "metadata": {},
   "source": [
    "ans :"
   ]
  },
  {
   "cell_type": "code",
   "execution_count": 35,
   "id": "2c77243c",
   "metadata": {},
   "outputs": [],
   "source": [
    "def is_curzon(num):\n",
    "    if num >=0:\n",
    "        second_order = (2**num) + 1\n",
    "        first_order = (2*num) + 1\n",
    "        if second_order % first_order == 0 :\n",
    "            return True\n",
    "        else :\n",
    "            return False\n",
    "    else :\n",
    "        return \"please enter only positive numbers\""
   ]
  },
  {
   "cell_type": "code",
   "execution_count": 36,
   "id": "581afb07",
   "metadata": {},
   "outputs": [
    {
     "data": {
      "text/plain": [
       "True"
      ]
     },
     "execution_count": 36,
     "metadata": {},
     "output_type": "execute_result"
    }
   ],
   "source": [
    "is_curzon(5) "
   ]
  },
  {
   "cell_type": "code",
   "execution_count": 37,
   "id": "5e02e681",
   "metadata": {},
   "outputs": [
    {
     "data": {
      "text/plain": [
       "False"
      ]
     },
     "execution_count": 37,
     "metadata": {},
     "output_type": "execute_result"
    }
   ],
   "source": [
    "is_curzon(10) "
   ]
  },
  {
   "cell_type": "code",
   "execution_count": 38,
   "id": "ddf1ee0a",
   "metadata": {},
   "outputs": [
    {
     "data": {
      "text/plain": [
       "True"
      ]
     },
     "execution_count": 38,
     "metadata": {},
     "output_type": "execute_result"
    }
   ],
   "source": [
    "is_curzon(14) "
   ]
  },
  {
   "cell_type": "markdown",
   "id": "ff6f5040",
   "metadata": {},
   "source": [
    "Question 4.\n",
    "- Given the side length x find the area of a hexagon.\n",
    "\n",
    "- Examples\n",
    "- area_of_hexagon(1) ➞ 2.6\n",
    "- area_of_hexagon(2) ➞ 10.4\n",
    "- area_of_hexagon(3) ➞ 23.4"
   ]
  },
  {
   "cell_type": "markdown",
   "id": "f78bc5e8",
   "metadata": {},
   "source": [
    "ans : "
   ]
  },
  {
   "cell_type": "code",
   "execution_count": 39,
   "id": "c21c255b",
   "metadata": {},
   "outputs": [],
   "source": [
    "def area_of_hexagon(side_lenth):\n",
    "    Area = np.round((3*np.sqrt(3)*np.square(side_lenth))/2,1)\n",
    "    return Area"
   ]
  },
  {
   "cell_type": "code",
   "execution_count": 40,
   "id": "22684f18",
   "metadata": {},
   "outputs": [
    {
     "data": {
      "text/plain": [
       "2.6"
      ]
     },
     "execution_count": 40,
     "metadata": {},
     "output_type": "execute_result"
    }
   ],
   "source": [
    "area_of_hexagon(1) "
   ]
  },
  {
   "cell_type": "code",
   "execution_count": 41,
   "id": "cb460eb6",
   "metadata": {},
   "outputs": [
    {
     "data": {
      "text/plain": [
       "10.4"
      ]
     },
     "execution_count": 41,
     "metadata": {},
     "output_type": "execute_result"
    }
   ],
   "source": [
    "area_of_hexagon(2)"
   ]
  },
  {
   "cell_type": "code",
   "execution_count": 42,
   "id": "9bcc1e0b",
   "metadata": {},
   "outputs": [
    {
     "data": {
      "text/plain": [
       "23.4"
      ]
     },
     "execution_count": 42,
     "metadata": {},
     "output_type": "execute_result"
    }
   ],
   "source": [
    "area_of_hexagon(3) "
   ]
  },
  {
   "cell_type": "markdown",
   "id": "1bea3a36",
   "metadata": {},
   "source": [
    "Question 5.\n",
    "- Create a function that returns a base-2 (binary) representation of a base-10 (decimal) string number. To convert is simple: ((2) means base-2 and (10) means base-10) 010101001(2) = 1 + 8 + 32 + 128.\n",
    "- Going from right to left, the value of the most right bit is 1, now from that every bit to the left will be x2 the value, value of an 8 bit binary numbers are (256, 128, 64, 32, 16, 8, 4, 2, 1).\n",
    "- Examples\n",
    "- binary(1) ➞ &quot;1&quot;\n",
    "- 1*1 = 1\n",
    "- binary(5) ➞ &quot;101&quot;\n",
    "- 1*1 + 1*4 = 5\n",
    "- binary(10) ➞ &quot;1010&quot;\n",
    "- 1*2 + 1*8 = 10"
   ]
  },
  {
   "cell_type": "markdown",
   "id": "2fdcda96",
   "metadata": {},
   "source": [
    "ans :"
   ]
  },
  {
   "cell_type": "code",
   "execution_count": 43,
   "id": "3ca1e4d6",
   "metadata": {},
   "outputs": [],
   "source": [
    "def binary(num):\n",
    "    #this will print a in binary\n",
    "    bnr = bin(num).replace('0b','')\n",
    "    x = bnr[::-1] #this reverses an array\n",
    "    bnr = x[::-1]\n",
    "    print(bnr)"
   ]
  },
  {
   "cell_type": "code",
   "execution_count": 44,
   "id": "43a814fd",
   "metadata": {},
   "outputs": [
    {
     "name": "stdout",
     "output_type": "stream",
     "text": [
      "1\n"
     ]
    }
   ],
   "source": [
    "binary(1)"
   ]
  },
  {
   "cell_type": "code",
   "execution_count": 45,
   "id": "0a843d4e",
   "metadata": {},
   "outputs": [
    {
     "name": "stdout",
     "output_type": "stream",
     "text": [
      "101\n"
     ]
    }
   ],
   "source": [
    "binary(5)"
   ]
  },
  {
   "cell_type": "code",
   "execution_count": 46,
   "id": "e95fcca5",
   "metadata": {},
   "outputs": [
    {
     "name": "stdout",
     "output_type": "stream",
     "text": [
      "1010\n"
     ]
    }
   ],
   "source": [
    "binary(10)"
   ]
  },
  {
   "cell_type": "code",
   "execution_count": null,
   "id": "bd97968e",
   "metadata": {},
   "outputs": [],
   "source": []
  }
 ],
 "metadata": {
  "kernelspec": {
   "display_name": "Python 3 (ipykernel)",
   "language": "python",
   "name": "python3"
  },
  "language_info": {
   "codemirror_mode": {
    "name": "ipython",
    "version": 3
   },
   "file_extension": ".py",
   "mimetype": "text/x-python",
   "name": "python",
   "nbconvert_exporter": "python",
   "pygments_lexer": "ipython3",
   "version": "3.9.12"
  }
 },
 "nbformat": 4,
 "nbformat_minor": 5
}
