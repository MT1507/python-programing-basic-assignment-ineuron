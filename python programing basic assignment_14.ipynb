{
 "cells": [
  {
   "cell_type": "markdown",
   "id": "ad8e4310",
   "metadata": {},
   "source": [
    "Question 1:\n",
    "- Define a class with a generator which can iterate the numbers, which are divisible by 7, between a given range 0 and n."
   ]
  },
  {
   "cell_type": "markdown",
   "id": "d7c58840",
   "metadata": {},
   "source": [
    "ans :"
   ]
  },
  {
   "cell_type": "code",
   "execution_count": 1,
   "id": "4e887c2d",
   "metadata": {},
   "outputs": [
    {
     "name": "stdout",
     "output_type": "stream",
     "text": [
      "0\n",
      "7\n",
      "14\n",
      "21\n",
      "28\n",
      "35\n",
      "42\n",
      "49\n",
      "56\n",
      "63\n",
      "70\n",
      "77\n",
      "84\n",
      "91\n",
      "98\n"
     ]
    }
   ],
   "source": [
    "class iterator(object):\n",
    "    \"\"\"docstring for iterator\"\"\"\n",
    "    def __init__(self, n):\n",
    "        self.n = n\n",
    "        \n",
    "    def divBySeven(self):\n",
    "        for i in range(0, self.n):\n",
    "            if i % 7 == 0:\n",
    "                yield i\n",
    "\n",
    "for num in iterator(100).divBySeven():\n",
    "    print (num)"
   ]
  },
  {
   "cell_type": "markdown",
   "id": "2d77d579",
   "metadata": {},
   "source": [
    "Question 2:\n",
    "- Write a program to compute the frequency of the words from the input. The output\n",
    "- should output after sorting the key alphanumerically.\n",
    "- Suppose the following input is supplied to the program:\n",
    "- New to Python or choosing between Python 2 and Python 3? Read Python 2 or\n",
    "- Python 3.\n",
    "- Then, the output should be:\n",
    "- 2:2\n",
    "- 3.:1\n",
    "- 3?:1\n",
    "- New:1\n",
    "- Python:5\n",
    "- Read:1\n",
    "- and:1\n",
    "- between:1\n",
    "- choosing:1\n",
    "- or:2\n",
    "- to:1"
   ]
  },
  {
   "cell_type": "markdown",
   "id": "d397000e",
   "metadata": {},
   "source": [
    "ans :"
   ]
  },
  {
   "cell_type": "code",
   "execution_count": 2,
   "id": "789b8d30",
   "metadata": {},
   "outputs": [],
   "source": [
    "def frequency(string):\n",
    "    l = sorted(string.split())\n",
    "    l1 = []\n",
    "    for i in l:\n",
    "        if i not in l1:\n",
    "            l1.append(i)\n",
    "    for j in range(0,len(l1)):\n",
    "        print( f\"{l1[j]} : {l.count(l1[j])}\")"
   ]
  },
  {
   "cell_type": "code",
   "execution_count": 3,
   "id": "2380985c",
   "metadata": {
    "scrolled": true
   },
   "outputs": [
    {
     "name": "stdout",
     "output_type": "stream",
     "text": [
      "2 : 2\n",
      "3. : 1\n",
      "3? : 1\n",
      "New : 1\n",
      "Python : 5\n",
      "Read : 1\n",
      "and : 1\n",
      "between : 1\n",
      "choosing : 1\n",
      "or : 2\n",
      "to : 1\n"
     ]
    }
   ],
   "source": [
    "string = \"New to Python or choosing between Python 2 and Python 3? Read Python 2 or Python 3.\"\n",
    "frequency(string)"
   ]
  },
  {
   "cell_type": "markdown",
   "id": "f69a1fa7",
   "metadata": {},
   "source": [
    "Question 3:\n",
    "- Define a class Person and its two child classes: Male and Female. All classes have a method \"getGender\" which can print \"Male\" for Male class and \"Female\" for Female class.\n"
   ]
  },
  {
   "cell_type": "code",
   "execution_count": 4,
   "id": "17a07f51",
   "metadata": {},
   "outputs": [
    {
     "name": "stdout",
     "output_type": "stream",
     "text": [
      "Male\n",
      "Female\n"
     ]
    }
   ],
   "source": [
    "class Person(object):\n",
    "    def __init__(self):\n",
    "        self.gender = \"unknown\"\n",
    "\n",
    "    def getGender(self):\n",
    "        print(self.gender)\n",
    "\n",
    "class Male(Person):\n",
    "    def __init__(self):\n",
    "        self.gender = \"Male\"\n",
    "\n",
    "class Female(Person):\n",
    "    def __init__(self):\n",
    "        self.gender = \"Female\"\n",
    "\n",
    "mangesh= Male()\n",
    "avni = Female()\n",
    "mangesh.getGender()\n",
    "avni.getGender()"
   ]
  },
  {
   "cell_type": "markdown",
   "id": "de5d7505",
   "metadata": {},
   "source": [
    "Question 4:\n",
    "- Please write a program to generate all sentences where subject is in [\"I\", \"You\"] and verb is in [\"Play\", \"Love\"] and the object is in [\"Hockey\",\"Football\"].\n",
    "\n"
   ]
  },
  {
   "cell_type": "code",
   "execution_count": 5,
   "id": "8af436e8",
   "metadata": {},
   "outputs": [
    {
     "name": "stdout",
     "output_type": "stream",
     "text": [
      "I Play Hockey\n",
      "I Play Football\n",
      "I Love Hockey\n",
      "I Love Football\n",
      "You Play Hockey\n",
      "You Play Football\n",
      "You Love Hockey\n",
      "You Love Football\n"
     ]
    }
   ],
   "source": [
    "l = [\"I\", \"You\"] \n",
    "l1 = [\"Play\", \"Love\"] \n",
    "l2 = [\"Hockey\",\"Football\"]\n",
    "\n",
    "l3 = []\n",
    "for i in l:\n",
    "    for j in l1:\n",
    "        for k in l2:\n",
    "            print(i,j,k)\n",
    "            "
   ]
  },
  {
   "cell_type": "markdown",
   "id": "a8dd4449",
   "metadata": {},
   "source": [
    "Question 5:\n",
    "- Please write a program to compress and decompress the string \"hello world!hello world!hello world!hello world!\".\n"
   ]
  },
  {
   "cell_type": "code",
   "execution_count": 6,
   "id": "9456b479",
   "metadata": {},
   "outputs": [
    {
     "name": "stdout",
     "output_type": "stream",
     "text": [
      "b'x\\x9c\\xcbH\\xcd\\xc9\\xc9W(\\xcf/\\xcaIQ\\xcc \\x82\\r\\x00\\xbd[\\x11\\xf5'\n",
      "\n",
      "\n",
      "b'hello world!hello world!hello world!hello world!'\n"
     ]
    }
   ],
   "source": [
    "import zlib\n",
    "s = 'hello world!hello world!hello world!hello world!'\n",
    "y = bytes(s, 'utf-8')\n",
    "x = zlib.compress(y)\n",
    "print(x)\n",
    "print(\"\\n\")\n",
    "print(zlib.decompress(x))"
   ]
  },
  {
   "cell_type": "markdown",
   "id": "fb9d632b",
   "metadata": {},
   "source": [
    "Question 6:\n",
    "- Please write a binary search function which searches an item in a sorted list. The function should return the index of element to be searched in the list.\n"
   ]
  },
  {
   "cell_type": "markdown",
   "id": "e000f4d2",
   "metadata": {},
   "source": [
    "ans :\n"
   ]
  },
  {
   "cell_type": "code",
   "execution_count": 7,
   "id": "5f9ae63e",
   "metadata": {},
   "outputs": [
    {
     "name": "stdout",
     "output_type": "stream",
     "text": [
      "Array Length: 14\n",
      "Middle Value: 7\n",
      "Middle Value: 10\n"
     ]
    },
    {
     "data": {
      "text/plain": [
       "'The Value 82 Found at Index : 10'"
      ]
     },
     "execution_count": 7,
     "metadata": {},
     "output_type": "execute_result"
    }
   ],
   "source": [
    "def binary_search_Ascending(array, target):\n",
    "    lower = 0\n",
    "    upper = len(array)\n",
    "    print('Array Length:',upper)\n",
    "    while lower < upper:\n",
    "        x = (lower + upper) // 2\n",
    "        print('Middle Value:',x)\n",
    "        value = array[x]\n",
    "        if target == value:\n",
    "            return f'The Value {target} Found at Index : {x}'\n",
    "        elif target > value:\n",
    "            lower = x\n",
    "        elif target < value:\n",
    "            upper = x\n",
    "\n",
    "Array = [1,5,8,10,12,13,55,66,73,78,82,85,88,99]\n",
    "binary_search_Ascending(Array, 82)"
   ]
  },
  {
   "cell_type": "markdown",
   "id": "e5aa39ec",
   "metadata": {},
   "source": [
    "OR"
   ]
  },
  {
   "cell_type": "code",
   "execution_count": 8,
   "id": "aa8c5781",
   "metadata": {},
   "outputs": [
    {
     "data": {
      "text/plain": [
       "'The value 8 Found at Index: 2'"
      ]
     },
     "execution_count": 8,
     "metadata": {},
     "output_type": "execute_result"
    }
   ],
   "source": [
    "def binary_search_Ascending_recursively(array, target,lower,upper):\n",
    "    if upper < lower:\n",
    "        return -1\n",
    "    x = (lower + upper) // 2\n",
    "    if x < 0 or x >= len(array):\n",
    "        return -1\n",
    "    value = array[x]\n",
    "    if value == target:\n",
    "        return f\"The value {target} Found at Index: {x}\"\n",
    "    if value < target:\n",
    "        lower = x + 1\n",
    "    else :\n",
    "        upper = x - 1\n",
    "    return binary_search_Ascending_recursively(array, target,lower,upper)    \n",
    "\n",
    "Array = [1,5,8,10,12,13,55,66,73,78,82,85,88,99]\n",
    "binary_search_Ascending_recursively(Array,8,0,len(Array))"
   ]
  }
 ],
 "metadata": {
  "kernelspec": {
   "display_name": "Python 3 (ipykernel)",
   "language": "python",
   "name": "python3"
  },
  "language_info": {
   "codemirror_mode": {
    "name": "ipython",
    "version": 3
   },
   "file_extension": ".py",
   "mimetype": "text/x-python",
   "name": "python",
   "nbconvert_exporter": "python",
   "pygments_lexer": "ipython3",
   "version": "3.9.12"
  }
 },
 "nbformat": 4,
 "nbformat_minor": 5
}
