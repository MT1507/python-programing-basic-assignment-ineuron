{
 "cells": [
  {
   "cell_type": "markdown",
   "id": "5789faf1",
   "metadata": {},
   "source": [
    "Question 1\n",
    "- Create a function that takes a number as an argument and returns True or False depending\n",
    "on whether the number is symmetrical or not. A number is symmetrical when it is the same as\n",
    "its reverse.\n",
    "- Examples\n",
    "- is_symmetrical(7227) ➞ True\n",
    "- is_symmetrical(12567) ➞ False\n",
    "- is_symmetrical(44444444) ➞ True\n",
    "- is_symmetrical(9939) ➞ False\n",
    "- is_symmetrical(1112111) ➞ True"
   ]
  },
  {
   "cell_type": "code",
   "execution_count": 1,
   "id": "47e73ae7",
   "metadata": {},
   "outputs": [],
   "source": [
    "def is_symmetrical(int_):\n",
    "    return str(int_) == str(int_)[::-1]\n",
    "        "
   ]
  },
  {
   "cell_type": "code",
   "execution_count": 2,
   "id": "f7fbf110",
   "metadata": {},
   "outputs": [
    {
     "data": {
      "text/plain": [
       "True"
      ]
     },
     "execution_count": 2,
     "metadata": {},
     "output_type": "execute_result"
    }
   ],
   "source": [
    "is_symmetrical(7227)"
   ]
  },
  {
   "cell_type": "code",
   "execution_count": 3,
   "id": "167d6286",
   "metadata": {},
   "outputs": [
    {
     "data": {
      "text/plain": [
       "False"
      ]
     },
     "execution_count": 3,
     "metadata": {},
     "output_type": "execute_result"
    }
   ],
   "source": [
    "is_symmetrical(12567)"
   ]
  },
  {
   "cell_type": "code",
   "execution_count": 4,
   "id": "39b03471",
   "metadata": {},
   "outputs": [
    {
     "data": {
      "text/plain": [
       "True"
      ]
     },
     "execution_count": 4,
     "metadata": {},
     "output_type": "execute_result"
    }
   ],
   "source": [
    "is_symmetrical(44444444)"
   ]
  },
  {
   "cell_type": "code",
   "execution_count": 5,
   "id": "84aabd55",
   "metadata": {},
   "outputs": [
    {
     "data": {
      "text/plain": [
       "False"
      ]
     },
     "execution_count": 5,
     "metadata": {},
     "output_type": "execute_result"
    }
   ],
   "source": [
    "is_symmetrical(9939)"
   ]
  },
  {
   "cell_type": "code",
   "execution_count": 6,
   "id": "501d8eff",
   "metadata": {},
   "outputs": [
    {
     "data": {
      "text/plain": [
       "True"
      ]
     },
     "execution_count": 6,
     "metadata": {},
     "output_type": "execute_result"
    }
   ],
   "source": [
    "is_symmetrical(1112111)"
   ]
  },
  {
   "cell_type": "markdown",
   "id": "3e49c0f7",
   "metadata": {},
   "source": [
    "Question 2\n",
    "- Given a string of numbers separated by a comma and space, return the product of the\n",
    "numbers.\n",
    "- Examples\n",
    "- multiply_nums(&quot;2, 3&quot;) ➞ 6\n",
    "- multiply_nums(&quot;1, 2, 3, 4&quot;) ➞ 24\n",
    "- multiply_nums(&quot;54, 75, 453, 0&quot;) ➞ 0\n",
    "- multiply_nums(&quot;10, -2&quot;) ➞ -20"
   ]
  },
  {
   "cell_type": "markdown",
   "id": "e9b0a5a4",
   "metadata": {},
   "source": [
    "ans :"
   ]
  },
  {
   "cell_type": "code",
   "execution_count": 7,
   "id": "96285f68",
   "metadata": {},
   "outputs": [],
   "source": [
    "from functools import reduce\n",
    "def multiply_nums(string):\n",
    "    lst = list(map(int,string.split(\",\")))\n",
    "    return reduce(lambda a,b:a*b,lst)\n",
    "        "
   ]
  },
  {
   "cell_type": "code",
   "execution_count": 8,
   "id": "a700fab3",
   "metadata": {},
   "outputs": [
    {
     "data": {
      "text/plain": [
       "6"
      ]
     },
     "execution_count": 8,
     "metadata": {},
     "output_type": "execute_result"
    }
   ],
   "source": [
    "multiply_nums(\"2, 3\")"
   ]
  },
  {
   "cell_type": "code",
   "execution_count": 9,
   "id": "c005ea0b",
   "metadata": {},
   "outputs": [
    {
     "data": {
      "text/plain": [
       "24"
      ]
     },
     "execution_count": 9,
     "metadata": {},
     "output_type": "execute_result"
    }
   ],
   "source": [
    "multiply_nums(\"1, 2, 3, 4\")"
   ]
  },
  {
   "cell_type": "code",
   "execution_count": 10,
   "id": "f06f10b3",
   "metadata": {},
   "outputs": [
    {
     "data": {
      "text/plain": [
       "0"
      ]
     },
     "execution_count": 10,
     "metadata": {},
     "output_type": "execute_result"
    }
   ],
   "source": [
    "multiply_nums(\"54, 75, 453, 0\") "
   ]
  },
  {
   "cell_type": "code",
   "execution_count": 11,
   "id": "1616b311",
   "metadata": {},
   "outputs": [
    {
     "data": {
      "text/plain": [
       "-20"
      ]
     },
     "execution_count": 11,
     "metadata": {},
     "output_type": "execute_result"
    }
   ],
   "source": [
    "multiply_nums(\"10, -2\")"
   ]
  },
  {
   "cell_type": "markdown",
   "id": "0edf4c2c",
   "metadata": {},
   "source": [
    "Question 3\n",
    "- Create a function that squares every digit of a number.\n",
    "- Examples\n",
    "- square_digits(9119) ➞ 811181\n",
    "- square_digits(2483) ➞ 416649\n",
    "- square_digits(3212) ➞ 9414\n",
    "- Notes\n",
    "- The function receives an integer and must return an integer."
   ]
  },
  {
   "cell_type": "markdown",
   "id": "36650857",
   "metadata": {},
   "source": [
    "ans :"
   ]
  },
  {
   "cell_type": "code",
   "execution_count": 12,
   "id": "9609e428",
   "metadata": {},
   "outputs": [],
   "source": [
    "def square_digits(num):\n",
    "    words = list(str(num))\n",
    "    for word in words:\n",
    "        return int(''.join(str(int(i)**2) for i in str(num)))"
   ]
  },
  {
   "cell_type": "code",
   "execution_count": 13,
   "id": "d61748a7",
   "metadata": {},
   "outputs": [
    {
     "data": {
      "text/plain": [
       "811181"
      ]
     },
     "execution_count": 13,
     "metadata": {},
     "output_type": "execute_result"
    }
   ],
   "source": [
    "square_digits(9119)"
   ]
  },
  {
   "cell_type": "code",
   "execution_count": 14,
   "id": "2c65dfa6",
   "metadata": {},
   "outputs": [
    {
     "data": {
      "text/plain": [
       "416649"
      ]
     },
     "execution_count": 14,
     "metadata": {},
     "output_type": "execute_result"
    }
   ],
   "source": [
    "square_digits(2483) "
   ]
  },
  {
   "cell_type": "code",
   "execution_count": 15,
   "id": "af6a7d6a",
   "metadata": {},
   "outputs": [
    {
     "data": {
      "text/plain": [
       "9414"
      ]
     },
     "execution_count": 15,
     "metadata": {},
     "output_type": "execute_result"
    }
   ],
   "source": [
    "square_digits(3212) "
   ]
  },
  {
   "cell_type": "markdown",
   "id": "6a8df758",
   "metadata": {},
   "source": [
    "Question 4\n",
    "- Create a function that sorts a list and removes all duplicate items from it.\n",
    "- Examples\n",
    "- setify([1, 3, 3, 5, 5]) ➞ [1, 3, 5]\n",
    "- setify([4, 4, 4, 4]) ➞ [4]\n",
    "- setify([5, 7, 8, 9, 10, 15]) ➞ [5, 7, 8, 9, 10, 15]\n",
    "- setify([3, 3, 3, 2, 1]) ➞ [1, 2, 3]"
   ]
  },
  {
   "cell_type": "markdown",
   "id": "4987172e",
   "metadata": {},
   "source": [
    "ans :"
   ]
  },
  {
   "cell_type": "code",
   "execution_count": 16,
   "id": "a15ce5e4",
   "metadata": {},
   "outputs": [],
   "source": [
    "def setify(list_):\n",
    "    return sorted(list(set(list_)))      "
   ]
  },
  {
   "cell_type": "code",
   "execution_count": 17,
   "id": "0d250d32",
   "metadata": {},
   "outputs": [
    {
     "data": {
      "text/plain": [
       "[1, 3, 5]"
      ]
     },
     "execution_count": 17,
     "metadata": {},
     "output_type": "execute_result"
    }
   ],
   "source": [
    "setify([1, 3, 3, 5, 5])"
   ]
  },
  {
   "cell_type": "code",
   "execution_count": 18,
   "id": "67d39f65",
   "metadata": {},
   "outputs": [
    {
     "data": {
      "text/plain": [
       "[4]"
      ]
     },
     "execution_count": 18,
     "metadata": {},
     "output_type": "execute_result"
    }
   ],
   "source": [
    "setify([4, 4, 4, 4])"
   ]
  },
  {
   "cell_type": "code",
   "execution_count": 19,
   "id": "abe61c34",
   "metadata": {},
   "outputs": [
    {
     "data": {
      "text/plain": [
       "[5, 7, 8, 9, 10, 15]"
      ]
     },
     "execution_count": 19,
     "metadata": {},
     "output_type": "execute_result"
    }
   ],
   "source": [
    "setify([5, 7, 8, 9, 10, 15])"
   ]
  },
  {
   "cell_type": "code",
   "execution_count": 20,
   "id": "9e7ffd91",
   "metadata": {},
   "outputs": [
    {
     "data": {
      "text/plain": [
       "[1, 2, 3]"
      ]
     },
     "execution_count": 20,
     "metadata": {},
     "output_type": "execute_result"
    }
   ],
   "source": [
    "setify([3, 3, 3, 2, 1])"
   ]
  },
  {
   "cell_type": "markdown",
   "id": "7a2af7b6",
   "metadata": {},
   "source": [
    "Question 5\n",
    "- Create a function that returns the mean of all digits.\n",
    "- Examples\n",
    "- mean(42) ➞ 3\n",
    "- mean(12345) ➞ 3\n",
    "- mean(666) ➞ 6\n",
    "- Notes\n",
    "-  The mean of all digits is the sum of digits / how many digits there are (e.g. mean of digits in\n",
    "512 is (5+1+2)/3(number of digits) = 8/3=2).\n",
    "-  The mean will always be an integer."
   ]
  },
  {
   "cell_type": "markdown",
   "id": "7e4098a4",
   "metadata": {},
   "source": [
    "ans :"
   ]
  },
  {
   "cell_type": "code",
   "execution_count": 21,
   "id": "a0c53c6d",
   "metadata": {},
   "outputs": [],
   "source": [
    "def mean(num):\n",
    "    if num == 0:\n",
    "        return 0\n",
    "    else :\n",
    "        digits = []\n",
    "        while num >0:\n",
    "            digits.append(num%10)\n",
    "            num = num// 10\n",
    "        return int(sum(digits)/len(digits))\n",
    "            \n",
    "    "
   ]
  },
  {
   "cell_type": "code",
   "execution_count": 22,
   "id": "ba932c5b",
   "metadata": {},
   "outputs": [
    {
     "data": {
      "text/plain": [
       "3"
      ]
     },
     "execution_count": 22,
     "metadata": {},
     "output_type": "execute_result"
    }
   ],
   "source": [
    "mean(42)"
   ]
  },
  {
   "cell_type": "code",
   "execution_count": 23,
   "id": "51ead249",
   "metadata": {},
   "outputs": [
    {
     "data": {
      "text/plain": [
       "3"
      ]
     },
     "execution_count": 23,
     "metadata": {},
     "output_type": "execute_result"
    }
   ],
   "source": [
    "mean(12345)"
   ]
  },
  {
   "cell_type": "code",
   "execution_count": 24,
   "id": "eec3f9b1",
   "metadata": {},
   "outputs": [
    {
     "data": {
      "text/plain": [
       "6"
      ]
     },
     "execution_count": 24,
     "metadata": {},
     "output_type": "execute_result"
    }
   ],
   "source": [
    "mean(666)"
   ]
  },
  {
   "cell_type": "code",
   "execution_count": null,
   "id": "b0225b3e",
   "metadata": {},
   "outputs": [],
   "source": []
  },
  {
   "cell_type": "code",
   "execution_count": null,
   "id": "4f29b6ac",
   "metadata": {},
   "outputs": [],
   "source": []
  }
 ],
 "metadata": {
  "kernelspec": {
   "display_name": "Python 3 (ipykernel)",
   "language": "python",
   "name": "python3"
  },
  "language_info": {
   "codemirror_mode": {
    "name": "ipython",
    "version": 3
   },
   "file_extension": ".py",
   "mimetype": "text/x-python",
   "name": "python",
   "nbconvert_exporter": "python",
   "pygments_lexer": "ipython3",
   "version": "3.9.12"
  }
 },
 "nbformat": 4,
 "nbformat_minor": 5
}
