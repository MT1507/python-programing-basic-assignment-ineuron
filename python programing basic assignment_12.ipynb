{
 "cells": [
  {
   "cell_type": "markdown",
   "id": "0e4b2b3e",
   "metadata": {},
   "source": [
    "Q 1 : Write a Python program to Extract Unique values dictionary values?"
   ]
  },
  {
   "cell_type": "markdown",
   "id": "ab157177",
   "metadata": {},
   "source": [
    "ans :\n"
   ]
  },
  {
   "cell_type": "code",
   "execution_count": 1,
   "id": "c4f0364d",
   "metadata": {},
   "outputs": [],
   "source": [
    "dictionary = {\"k1\":1,\"k2\":2,\"k3\":3,\"k4\":1,\"k5\":2,\"k6\":8,\"k7\":5,\"k8\":3,\"k9\":9}"
   ]
  },
  {
   "cell_type": "code",
   "execution_count": 2,
   "id": "29f25ed1",
   "metadata": {},
   "outputs": [
    {
     "name": "stdout",
     "output_type": "stream",
     "text": [
      "unique values of dictionary : [1, 2, 3, 5, 8, 9]\n"
     ]
    }
   ],
   "source": [
    "unique_values = list(sorted({i for i in dictionary.values()}))\n",
    "print(f\"unique values of dictionary : {unique_values}\")"
   ]
  },
  {
   "cell_type": "markdown",
   "id": "42d49263",
   "metadata": {},
   "source": [
    "Q 2 : Write a Python program to find the sum of all items in a dictionary?"
   ]
  },
  {
   "cell_type": "markdown",
   "id": "e5336454",
   "metadata": {},
   "source": [
    "ans : "
   ]
  },
  {
   "cell_type": "code",
   "execution_count": 3,
   "id": "9ddfb537",
   "metadata": {},
   "outputs": [],
   "source": [
    "dictionary = {\"k1\":1,\"k2\":2,\"k3\":3,\"k4\":1,\"k5\":2,\"k6\":8,\"k7\":5,\"k8\":3,\"k9\":9}"
   ]
  },
  {
   "cell_type": "code",
   "execution_count": 4,
   "id": "5ba2e160",
   "metadata": {},
   "outputs": [
    {
     "name": "stdout",
     "output_type": "stream",
     "text": [
      "sum of all values : 34\n"
     ]
    }
   ],
   "source": [
    "list_values = [ values for keys,values in dictionary.items()]\n",
    "sum_values = sum(list_values)\n",
    "print(f\"sum of all values : {sum_values}\")"
   ]
  },
  {
   "cell_type": "markdown",
   "id": "4e8d55ba",
   "metadata": {},
   "source": [
    "Q 3 : Write a Python program to Merging two Dictionaries?"
   ]
  },
  {
   "cell_type": "markdown",
   "id": "c12a650d",
   "metadata": {},
   "source": [
    "ans : "
   ]
  },
  {
   "cell_type": "code",
   "execution_count": 5,
   "id": "42b1a923",
   "metadata": {},
   "outputs": [
    {
     "name": "stdout",
     "output_type": "stream",
     "text": [
      "{'a': 10, 'b': 8, 'd': 6, 'c': 4}\n"
     ]
    }
   ],
   "source": [
    "def Merge(dict1, dict2):\n",
    "    res = {**dict1, **dict2}\n",
    "    return res\n",
    "     \n",
    "dict1 = {'a': 10, 'b': 8}\n",
    "dict2 = {'d': 6, 'c': 4}\n",
    "dict3 = Merge(dict1, dict2)\n",
    "print(dict3)\n"
   ]
  },
  {
   "cell_type": "markdown",
   "id": "e882a83f",
   "metadata": {},
   "source": [
    "Q 4 : Write a Python program to convert key-values list to flat dictionary?"
   ]
  },
  {
   "cell_type": "markdown",
   "id": "027bd5e5",
   "metadata": {},
   "source": [
    "ans :"
   ]
  },
  {
   "cell_type": "code",
   "execution_count": 6,
   "id": "9cbb7ea8",
   "metadata": {},
   "outputs": [
    {
     "name": "stdout",
     "output_type": "stream",
     "text": [
      "The original dictionary is : {'month': [1, 2, 3], 'name': ['Jan', 'Feb', 'March']}\n",
      "Flattened dictionary : {1: 'Jan', 2: 'Feb', 3: 'March'}\n"
     ]
    }
   ],
   "source": [
    "test_dict = {'month' : [1, 2, 3] ,'name' : ['Jan', 'Feb', 'March']}\n",
    "  \n",
    "print(\"The original dictionary is : \" + str(test_dict))\n",
    "  \n",
    "res = dict(zip(test_dict['month'], test_dict['name']))\n",
    "  \n",
    "print(\"Flattened dictionary : \" + str(res)) "
   ]
  },
  {
   "cell_type": "markdown",
   "id": "6cb7c027",
   "metadata": {},
   "source": [
    "Q 5 : Write a Python program to insertion at the beginning in OrderedDict?"
   ]
  },
  {
   "cell_type": "markdown",
   "id": "17d47a37",
   "metadata": {},
   "source": [
    "ans : "
   ]
  },
  {
   "cell_type": "code",
   "execution_count": 7,
   "id": "118d14b5",
   "metadata": {},
   "outputs": [
    {
     "name": "stdout",
     "output_type": "stream",
     "text": [
      "The dictionary is :\n",
      "OrderedDict([('Will', '1'), ('James', '2'), ('Rob', '4')])\n",
      "The resultant dictionary is : \n",
      "OrderedDict([('Mark', '7'), ('Will', '1'), ('James', '2'), ('Rob', '4')])\n"
     ]
    }
   ],
   "source": [
    "from collections import OrderedDict\n",
    "\n",
    "my_ordered_dict = OrderedDict([('Will', '1'), ('James', '2'), ('Rob', '4')])\n",
    "print(\"The dictionary is :\")\n",
    "print(my_ordered_dict)\n",
    "my_ordered_dict.update({'Mark':'7'})\n",
    "my_ordered_dict.move_to_end('Mark', last = False)\n",
    "\n",
    "print(\"The resultant dictionary is : \")\n",
    "print(my_ordered_dict)"
   ]
  },
  {
   "cell_type": "markdown",
   "id": "142be167",
   "metadata": {},
   "source": [
    "Q 6 : Write a Python program to check order of character in string using OrderedDict()?"
   ]
  },
  {
   "cell_type": "markdown",
   "id": "8cb63de4",
   "metadata": {},
   "source": [
    "ans :\n"
   ]
  },
  {
   "cell_type": "code",
   "execution_count": 8,
   "id": "63a2110b",
   "metadata": {},
   "outputs": [
    {
     "name": "stdout",
     "output_type": "stream",
     "text": [
      "true\n"
     ]
    }
   ],
   "source": [
    "from collections import OrderedDict \n",
    "\n",
    "def checkOrder(input, pattern):\n",
    "    dict = OrderedDict.fromkeys(input) \n",
    "    ptrlen = 0\n",
    "    for key,value in dict.items():\n",
    "        if (key == pattern[ptrlen]):\n",
    "            ptrlen = ptrlen + 1\n",
    " \n",
    "        if (ptrlen == (len(pattern))): \n",
    "            return 'true'\n",
    "\n",
    "    return 'false'\n",
    "\n",
    "input = 'engineers rock'\n",
    "pattern = 'er'\n",
    "print (checkOrder(input,pattern)) \n"
   ]
  },
  {
   "cell_type": "markdown",
   "id": "36466397",
   "metadata": {},
   "source": [
    "Q 7 : Write a Python program to sort Python Dictionaries by Key or Value?"
   ]
  },
  {
   "cell_type": "markdown",
   "id": "250fa148",
   "metadata": {},
   "source": [
    "ans : "
   ]
  },
  {
   "cell_type": "code",
   "execution_count": 9,
   "id": "b27428fd",
   "metadata": {},
   "outputs": [
    {
     "name": "stdout",
     "output_type": "stream",
     "text": [
      "Dictionary after sorting by keys : \n",
      "{'rajnish': '9', 'ravi': '10', 'sanjeev': '15', 'suraj': '32', 'yash': '2'}\n",
      "\n",
      "\n",
      "Dictionary after sorting by values : \n",
      "{'yash': '2', 'rajnish': '9', 'ravi': '10', 'sanjeev': '15', 'suraj': '32'}\n"
     ]
    }
   ],
   "source": [
    "dict = {'ravi': '10', 'rajnish': '9','sanjeev': '15', 'yash': '2', 'suraj': '32'}\n",
    "a = sorted(dict.items())\n",
    "d = {}\n",
    "for i in a:\n",
    "    d.update({i[0]:i[1]})\n",
    "print(\"Dictionary after sorting by keys : \")\n",
    "print(d)\n",
    "print(\"\\n\")\n",
    "\n",
    "d1 = {}\n",
    "for i in a:\n",
    "    d1[int(i[1])] = i[0]\n",
    "\n",
    "d2 = {}\n",
    "for i in sorted(d1.items()) :\n",
    "    d2[i[1]] = str(i[0])    \n",
    "    \n",
    "print(\"Dictionary after sorting by values : \")\n",
    "print(d2)\n",
    "\n"
   ]
  },
  {
   "cell_type": "code",
   "execution_count": null,
   "id": "d030bb38",
   "metadata": {},
   "outputs": [],
   "source": []
  },
  {
   "cell_type": "code",
   "execution_count": null,
   "id": "e9101932",
   "metadata": {},
   "outputs": [],
   "source": []
  }
 ],
 "metadata": {
  "kernelspec": {
   "display_name": "Python 3 (ipykernel)",
   "language": "python",
   "name": "python3"
  },
  "language_info": {
   "codemirror_mode": {
    "name": "ipython",
    "version": 3
   },
   "file_extension": ".py",
   "mimetype": "text/x-python",
   "name": "python",
   "nbconvert_exporter": "python",
   "pygments_lexer": "ipython3",
   "version": "3.9.12"
  }
 },
 "nbformat": 4,
 "nbformat_minor": 5
}
